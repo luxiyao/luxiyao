{
 "cells": [
  {
   "cell_type": "code",
   "execution_count": 1,
   "metadata": {},
   "outputs": [],
   "source": [
    "import scipy.io as scio\n",
    "import os\n",
    "import numpy as np\n",
    "import sklearn.metrics as metrics\n",
    "# from keras import layers\n",
    "# from keras import models\n",
    "import pandas as pd\n",
    "# from sklearn.metrics import f1_score,recall_score,precision_score,auc,accuracy_score,confusion_matrix\n",
    "# from sklearn.metrics import precision_recall_curve, average_precision_score,roc_auc_score,roc_curve\n",
    "import matplotlib.pyplot as plt\n",
    "import warnings\n",
    "warnings.filterwarnings('ignore')\n",
    "from itertools import cycle\n",
    "from scipy import interp\n",
    "plt.rcParams['font.sans-serif']=['SimHei'] #用来正常显示中文标签\n",
    "import seaborn as sns"
   ]
  },
  {
   "cell_type": "code",
   "execution_count": 3,
   "metadata": {},
   "outputs": [],
   "source": [
    "import tensorflow as tf\n",
    "from tensorflow.keras.preprocessing import image\n",
    "from tensorflow.keras.optimizers import Adam,Adadelta\n",
    "from tensorflow.keras.callbacks import EarlyStopping\n",
    "from tensorflow.keras.layers import Input, Dense, Activation, BatchNormalization, Flatten, Conv2D,Conv1D,Conv1DTranspose\n",
    "from tensorflow.keras.layers import MaxPooling1D, Dropout, UpSampling1D,MaxPool2D,UpSampling2D\n",
    "import tensorflow as tf\n",
    "import tensorflow.keras as keras\n",
    "import tensorflow.keras.layers as layers\n",
    "import pandas as pd\n",
    "import numpy as np\n",
    "import matplotlib.pyplot as plt\n",
    "# plt.style.use('seaborn')\n",
    "import tensorflow as tf\n",
    "import seaborn as sns\n",
    "from sklearn.model_selection import train_test_split\n",
    "from tensorflow.keras.models import Model, load_model\n",
    "from tensorflow.keras.callbacks import ModelCheckpoint\n",
    "from tensorflow.keras import regularizers\n",
    "from sklearn.preprocessing import StandardScaler,MinMaxScaler\n",
    "from sklearn.metrics import roc_curve, auc, precision_recall_curve\n",
    "# from tqdm import notebook\n",
    "import glob\n",
    "import os\n",
    "os.environ['CUDA_VISIBLE_DEVICES'] = \"0\""
   ]
  },
  {
   "cell_type": "code",
   "execution_count": 4,
   "metadata": {},
   "outputs": [],
   "source": [
    "import tensorflow as tf\n",
    "from tensorflow.keras.preprocessing import image\n",
    "from tensorflow.keras.optimizers import Adam,Adadelta\n",
    "from tensorflow.keras.callbacks import EarlyStopping\n",
    "from tensorflow.keras.layers import Input, Dense, Activation, BatchNormalization, Flatten, Conv2D,Conv1D,Conv1DTranspose\n",
    "from tensorflow.keras.layers import MaxPooling1D, Dropout, UpSampling1D,MaxPool2D,UpSampling2D\n",
    "import tensorflow as tf\n",
    "import tensorflow.keras as keras\n",
    "import tensorflow.keras.layers as layers\n",
    "import pandas as pd\n",
    "import numpy as np\n",
    "import matplotlib.pyplot as plt\n",
    "# plt.style.use('seaborn')\n",
    "import tensorflow as tf\n",
    "import seaborn as sns\n",
    "from sklearn.model_selection import train_test_split\n",
    "from tensorflow.keras.models import Model, load_model\n",
    "from tensorflow.keras.callbacks import ModelCheckpoint\n",
    "from tensorflow.keras import regularizers\n",
    "from sklearn.preprocessing import StandardScaler,MinMaxScaler\n",
    "from sklearn.metrics import roc_curve, auc, precision_recall_curve\n",
    "# from tqdm import notebook\n",
    "import glob\n",
    "import os\n",
    "os.environ['CUDA_VISIBLE_DEVICES'] = \"0\""
   ]
  },
  {
   "cell_type": "code",
   "execution_count": 5,
   "metadata": {},
   "outputs": [],
   "source": [
    "path='./CWRU/'\n",
    "#寻找文件夹下所有的数据文件\n",
    "path_list=os.listdir(path)\n",
    "data_x=[]\n",
    "data_y=[]\n",
    "for i in path_list:\n",
    "    path1=path+i\n",
    "    dd=scio.loadmat(path1)\n",
    "    for j in dd.keys():\n",
    "        #只使用DE的数据\n",
    "        if 'DE' in j:\n",
    "            ddd=dd[j]\n",
    "            #截前12W个数据\n",
    "            data_x.append(ddd[:120000].ravel())\n",
    "            data_y.append(i)"
   ]
  },
  {
   "cell_type": "code",
   "execution_count": 6,
   "metadata": {},
   "outputs": [],
   "source": [
    "#切分成多个样本数据\n",
    "def yuchuli(a,label):\n",
    "    \"\"\"\n",
    "    前200个样本用于训练\n",
    "    后100个样本用于测试\n",
    "    \"\"\"\n",
    "    a  = a.reshape(300,400)\n",
    "    np.random.shuffle(a)\n",
    "    train = a[:200,:]\n",
    "    test = a[200:,:]\n",
    "    label_test =[label for i in range(0,100)]\n",
    "    label_train = [label for i in range(0, 200)]\n",
    "    return train,test,label_train ,label_test\n",
    "\n",
    "\n",
    "\n",
    "#绘制P-R曲线\n",
    "def micro_PR(y_test,y_score):\n",
    "    # 对每一个类别计算性能指标\n",
    "    precision = dict()\n",
    "    recall = dict()\n",
    "    average_precision = dict()\n",
    "    # .shape会返回一个元组，存储行和列，取第二个数，也就是列\n",
    "    n_classes = y_score.shape[1]\n",
    "    for i in range(n_classes):\n",
    "        precision[i], recall[i], _ =  precision_recall_curve(y_test[:, i], y_score[:, i])\n",
    "        average_precision[i] = average_precision_score(y_test[:, i], y_score[:, i])\n",
    "    precision[\"micro\"],  recall[\"micro\"], _ = precision_recall_curve(y_test.ravel(), y_score.ravel())\n",
    "    average_precision[\"micro\"] = average_precision_score(y_test, y_score, average=\"micro\")\n",
    "    return precision, recall, average_precision\n",
    "\n",
    "def plot_a_model_PR_curve(precision,recall,average_precision,title=None,path=None):\n",
    "    plt.figure(figsize=(6,6))\n",
    "    for i in precision.keys():\n",
    "        label = str(i)+\"，AP = {0:0.4f}\".format(average_precision[i])\n",
    "        plt.step(recall[i], precision[i], where='post', lw=2,label=label)\n",
    "    plt.legend()\n",
    "    plt.xlabel(\"Recall\", fontdict={'weight': 'normal', 'size': 15})\n",
    "    plt.ylabel(\"Precision\", fontdict={'weight': 'normal', 'size': 15})\n",
    "    if title != None:\n",
    "        plt.title(title)\n",
    "        \n",
    "    if path!= None:\n",
    "        plt.savefig(path,dpi=700)\n",
    "    plt.show()\n",
    "\n",
    "    \n",
    "#将y转变为onehot向量\n",
    "def to_one_hot(labels,label_dict):\n",
    "    dimension=len(label_dict.keys())\n",
    "    results = np.zeros((len(labels),dimension))\n",
    "    for i,label in enumerate(labels):\n",
    "        results[i,label_dict[label]] = 1\n",
    "    return results"
   ]
  },
  {
   "cell_type": "code",
   "execution_count": 7,
   "metadata": {},
   "outputs": [],
   "source": [
    "#将多条数据的所有样本合并起来\n",
    "x_train,x_test,y_train,y_test=[],[],[],[]\n",
    "for i in range(len(data_x)):\n",
    "    train,test,label_train ,label_test=yuchuli(data_x[i],data_y[i])\n",
    "    x_train+=list(train)\n",
    "    x_test+=list(test)\n",
    "    y_train+=label_train\n",
    "    y_test+=label_test\n",
    "    \n",
    "#转换数据格式\n",
    "x_train=np.array(x_train)\n",
    "x_test=np.array(x_test)\n",
    "\n",
    "#将x转变为二维矩阵，方便CNN训练\n",
    "x_train = x_train.reshape(-1,400,1)\n",
    "x_test = x_test.reshape(-1,400,1)\n",
    "\n",
    "state = np.random.get_state()\n",
    "np.random.shuffle(x_train)\n",
    "np.random.set_state(state)\n",
    "np.random.shuffle(y_train)\n",
    "\n",
    "#转换y的数据格式\n",
    "y_train=np.array(y_train)\n",
    "y_test=np.array(y_test)\n",
    "\n",
    "#生成label的字典，用于将y转换为onehot格式\n",
    "label_dict={}\n",
    "label_dict_anti={}\n",
    "for i,j in enumerate(list(set(list(y_train)+list(y_test)))):\n",
    "    label_dict[j]=i\n",
    "    label_dict_anti[i]=j\n",
    "    \n",
    "\n",
    "one_hot_train_labels = to_one_hot(y_train,label_dict)\n",
    "one_hot_test_labels = to_one_hot(y_test,label_dict)\n",
    "\n",
    "y_test_transform=np.argmax(one_hot_test_labels,axis=1)\n",
    "y_train_transform=np.argmax(one_hot_train_labels,axis=1)\n",
    "\n",
    "input_shape=x_train.shape[1:]\n",
    "output=one_hot_train_labels.shape[1]"
   ]
  },
  {
   "cell_type": "code",
   "execution_count": null,
   "metadata": {},
   "outputs": [
    {
     "data": {
      "text/plain": [
       "array([[0., 0., 0., ..., 1., 0., 0.],\n",
       "       [0., 0., 0., ..., 0., 1., 0.],\n",
       "       [0., 0., 1., ..., 0., 0., 0.],\n",
       "       ...,\n",
       "       [0., 0., 0., ..., 0., 0., 0.],\n",
       "       [0., 0., 0., ..., 0., 0., 0.],\n",
       "       [0., 1., 0., ..., 0., 0., 0.]])"
      ]
     },
     "execution_count": 7,
     "metadata": {},
     "output_type": "execute_result"
    }
   ],
   "source": [
    "one_hot_train_labels"
   ]
  },
  {
   "cell_type": "code",
   "execution_count": null,
   "metadata": {},
   "outputs": [
    {
     "data": {
      "text/plain": [
       "((2000, 400, 1), (1000, 400, 1))"
      ]
     },
     "execution_count": 8,
     "metadata": {},
     "output_type": "execute_result"
    }
   ],
   "source": [
    "x_train.shape,x_test.shape"
   ]
  },
  {
   "cell_type": "code",
   "execution_count": null,
   "metadata": {},
   "outputs": [
    {
     "data": {
      "text/plain": [
       "((2000,), (1000,))"
      ]
     },
     "execution_count": 9,
     "metadata": {},
     "output_type": "execute_result"
    }
   ],
   "source": [
    "y_train_transform.shape,y_test_transform.shape"
   ]
  },
  {
   "cell_type": "markdown",
   "metadata": {},
   "source": [
    "Model"
   ]
  },
  {
   "cell_type": "code",
   "execution_count": null,
   "metadata": {},
   "outputs": [
    {
     "data": {
      "text/plain": [
       "10"
      ]
     },
     "execution_count": 10,
     "metadata": {},
     "output_type": "execute_result"
    }
   ],
   "source": [
    "num_classes = len(np.unique(y_train_transform))\n",
    "num_classes"
   ]
  },
  {
   "cell_type": "code",
   "execution_count": 9,
   "metadata": {},
   "outputs": [],
   "source": [
    "# INPUT_DIMS = 40\n",
    "# TIME_STEPS = 400\n",
    "# lstm_units = 64\n",
    "import keras.backend as K\n",
    "from keras.layers import Input, Dense, LSTM, merge ,Conv1D,Dropout,Bidirectional,Multiply\n",
    "from keras.models import Model\n",
    "from keras.layers import merge\n",
    "from keras.layers.core import *\n",
    "from keras.layers.recurrent import LSTM\n",
    "from keras.models import *\n",
    "\n",
    "import  pandas as pd\n",
    "import  numpy as np"
   ]
  },
  {
   "cell_type": "code",
   "execution_count": 10,
   "metadata": {},
   "outputs": [],
   "source": [
    "SINGLE_ATTENTION_VECTOR = False\n",
    "def attention_3d_block2(inputs, single_attention_vector=False):\n",
    "    # 如果上一层是LSTM，需要return_sequences=True\n",
    "    # inputs.shape = (batch_size, time_steps, input_dim)\n",
    "    time_steps = K.int_shape(inputs)[1]\n",
    "    input_dim = K.int_shape(inputs)[2]\n",
    "    a = inputs\n",
    "    a = Dense(input_dim, activation='softmax')(a)\n",
    "    if single_attention_vector:\n",
    "        a = Lambda(lambda x: K.mean(x, axis=1))(a)\n",
    "        a = RepeatVector(input_dim)(a)\n",
    "\n",
    "    a_probs = Permute((1, 2))(a)\n",
    "    # 乘上了attention权重，但是并没有求和，好像影响不大\n",
    "    # 如果分类任务，进行Flatten展开就可以了\n",
    "    # element-wise\n",
    "    output_attention_mul = Multiply()([inputs, a_probs])\n",
    "    return output_attention_mul"
   ]
  },
  {
   "cell_type": "code",
   "execution_count": 15,
   "metadata": {},
   "outputs": [],
   "source": [
    "def attention_model():\n",
    "    input_img = Input(shape=(400, 1))\n",
    "\n",
    "    x= Conv1D(filters = 30, kernel_size = 10, activation = 'relu', padding = 'same')(input_img)\n",
    "    # x = layers.LSTM(units=30,return_sequences=True)(x)\n",
    "    # x = Flatten()(x)\n",
    "\n",
    "    # y= Conv1D(filters = 60, kernel_size = 20, activation = 'relu', padding = 'same')(input_img)\n",
    "    # y = layers.LSTM(units=30,return_sequences=True)(y)\n",
    "    # y = Flatten()(y)\n",
    "\n",
    "    # z= Conv1D(filters = 60, kernel_size = 30, activation = 'relu', padding = 'same')(input_img)\n",
    "    # z = layers.LSTM(units=30,return_sequences=True)(z)\n",
    "    # z = Flatten()(z)\n",
    "\n",
    "    # inception_out=tf.concat([x,y,z],axis=-1)\n",
    "    \n",
    "    \n",
    "    \n",
    "    attention_mul = attention_3d_block2(x)\n",
    "    #lstm_out = Bidirectional(LSTM(lstm_units, activation='relu'), name='bilstm')(x)\n",
    "    lstm_out = LSTM(64, return_sequences=True)(attention_mul)\n",
    "\n",
    "\n",
    "\n",
    "\n",
    "\n",
    "    # attention_mul = attention_3d_block2(inception_out)\n",
    "    attention_mul = Flatten()(lstm_out)\n",
    "\n",
    "    output = Dense(10, activation='softmax')(attention_mul)\n",
    "    model = Model(inputs=input_img, outputs=output)\n",
    "    return model"
   ]
  },
  {
   "cell_type": "code",
   "execution_count": 16,
   "metadata": {},
   "outputs": [],
   "source": [
    "model=attention_model()"
   ]
  },
  {
   "cell_type": "code",
   "execution_count": 17,
   "metadata": {},
   "outputs": [],
   "source": [
    "model.compile(optimizer='adam',loss='sparse_categorical_crossentropy',metrics=['sparse_categorical_accuracy'])   "
   ]
  },
  {
   "cell_type": "code",
   "execution_count": 18,
   "metadata": {},
   "outputs": [
    {
     "name": "stdout",
     "output_type": "stream",
     "text": [
      "Model: \"model_1\"\n",
      "__________________________________________________________________________________________________\n",
      " Layer (type)                   Output Shape         Param #     Connected to                     \n",
      "==================================================================================================\n",
      " input_2 (InputLayer)           [(None, 400, 1)]     0           []                               \n",
      "                                                                                                  \n",
      " conv1d_1 (Conv1D)              (None, 400, 30)      330         ['input_2[0][0]']                \n",
      "                                                                                                  \n",
      " dense_2 (Dense)                (None, 400, 30)      930         ['conv1d_1[0][0]']               \n",
      "                                                                                                  \n",
      " permute_1 (Permute)            (None, 400, 30)      0           ['dense_2[0][0]']                \n",
      "                                                                                                  \n",
      " multiply_1 (Multiply)          (None, 400, 30)      0           ['conv1d_1[0][0]',               \n",
      "                                                                  'permute_1[0][0]']              \n",
      "                                                                                                  \n",
      " lstm_1 (LSTM)                  (None, 400, 64)      24320       ['multiply_1[0][0]']             \n",
      "                                                                                                  \n",
      " flatten_1 (Flatten)            (None, 25600)        0           ['lstm_1[0][0]']                 \n",
      "                                                                                                  \n",
      " dense_3 (Dense)                (None, 10)           256010      ['flatten_1[0][0]']              \n",
      "                                                                                                  \n",
      "==================================================================================================\n",
      "Total params: 281,590\n",
      "Trainable params: 281,590\n",
      "Non-trainable params: 0\n",
      "__________________________________________________________________________________________________\n"
     ]
    }
   ],
   "source": [
    "model.summary()"
   ]
  },
  {
   "cell_type": "code",
   "execution_count": 22,
   "metadata": {},
   "outputs": [
    {
     "name": "stdout",
     "output_type": "stream",
     "text": [
      "Epoch 1/4\n",
      "4/4 [==============================] - 17s 4s/step - loss: 1.7391 - sparse_categorical_accuracy: 0.3494 - val_loss: 1.6931 - val_sparse_categorical_accuracy: 0.3925 - lr: 0.0010\n",
      "Epoch 2/4\n",
      "4/4 [==============================] - 18s 4s/step - loss: 1.6904 - sparse_categorical_accuracy: 0.3462 - val_loss: 1.6406 - val_sparse_categorical_accuracy: 0.3275 - lr: 0.0010\n",
      "Epoch 3/4\n",
      "4/4 [==============================] - 18s 4s/step - loss: 1.6118 - sparse_categorical_accuracy: 0.3400 - val_loss: 1.6096 - val_sparse_categorical_accuracy: 0.3425 - lr: 0.0010\n",
      "Epoch 4/4\n",
      "4/4 [==============================] - 19s 4s/step - loss: 1.5595 - sparse_categorical_accuracy: 0.3819 - val_loss: 1.5734 - val_sparse_categorical_accuracy: 0.3600 - lr: 0.0010\n"
     ]
    }
   ],
   "source": [
    "callbacks = [\n",
    "    keras.callbacks.ModelCheckpoint(\n",
    "        \"best_model5.h5\", save_best_only=True, monitor=\"val_loss\"\n",
    "    ),\n",
    "    keras.callbacks.ReduceLROnPlateau(\n",
    "        monitor=\"val_loss\", factor=0.5, patience=20, min_lr=0.0001\n",
    "    ),\n",
    "    keras.callbacks.EarlyStopping(monitor=\"val_loss\", patience=50, verbose=1),\n",
    "]\n",
    "history = model.fit(x_train, \n",
    "                            y_train_transform,\n",
    "                          epochs=4,\n",
    "                          batch_size=512,\n",
    "                        #   shuffle=True,\n",
    "                          validation_split=0.2,\n",
    "                          verbose=1, \n",
    "                          callbacks=callbacks).history"
   ]
  },
  {
   "cell_type": "code",
   "execution_count": 23,
   "metadata": {},
   "outputs": [
    {
     "data": {
      "text/plain": [
       "<matplotlib.legend.Legend at 0x1e86ee80>"
      ]
     },
     "execution_count": 23,
     "metadata": {},
     "output_type": "execute_result"
    },
    {
     "data": {
      "image/png": "[encoded data removed]",
      "text/plain": [
       "<Figure size 1008x576 with 1 Axes>"
      ]
     },
     "metadata": {
      "needs_background": "light"
     },
     "output_type": "display_data"
    }
   ],
   "source": [
    "import seaborn as sns\n",
    "# # plt.figure(figsize=(14, 5))\n",
    "# plt.subplot(121)\n",
    "plt.figure(figsize=(14,8))\n",
    "# # sns.set(font_scale = 0.5)\n",
    "plt.plot(history['loss'][:], c='red')\n",
    "plt.plot(history['val_loss'][:], c='blue')\n",
    "plt.title('model loss')\n",
    "plt.ylabel('loss'); plt.xlabel('epoch')\n",
    "plt.legend(['train', 'val'], loc='upper right')"
   ]
  },
  {
   "cell_type": "code",
   "execution_count": 24,
   "metadata": {},
   "outputs": [
    {
     "data": {
      "text/plain": [
       "<matplotlib.legend.Legend at 0x1fcbfbb0>"
      ]
     },
     "execution_count": 24,
     "metadata": {},
     "output_type": "execute_result"
    },
    {
     "data": {
      "image/png": "[encoded data removed]",
      "text/plain": [
       "<Figure size 1008x576 with 1 Axes>"
      ]
     },
     "metadata": {
      "needs_background": "light"
     },
     "output_type": "display_data"
    }
   ],
   "source": [
    "import seaborn as sns\n",
    "# # plt.figure(figsize=(14, 5))\n",
    "# plt.subplot(121)\n",
    "plt.figure(figsize=(14,8))\n",
    "# # sns.set(font_scale = 0.5)\n",
    "plt.plot(history['sparse_categorical_accuracy'][:], c='red')\n",
    "plt.plot(history['val_sparse_categorical_accuracy'][:], c='blue')\n",
    "plt.title('model accuracy')\n",
    "plt.ylabel('loss'); plt.xlabel('epoch')\n",
    "plt.legend(['train', 'val'], loc='upper right')"
   ]
  },
  {
   "cell_type": "code",
   "execution_count": 25,
   "metadata": {},
   "outputs": [
    {
     "data": {
      "text/html": [
       "<div>\n",
       "<style scoped>\n",
       "    .dataframe tbody tr th:only-of-type {\n",
       "        vertical-align: middle;\n",
       "    }\n",
       "\n",
       "    .dataframe tbody tr th {\n",
       "        vertical-align: top;\n",
       "    }\n",
       "\n",
       "    .dataframe thead th {\n",
       "        text-align: right;\n",
       "    }\n",
       "</style>\n",
       "<table border=\"1\" class=\"dataframe\">\n",
       "  <thead>\n",
       "    <tr style=\"text-align: right;\">\n",
       "      <th></th>\n",
       "      <th>loss</th>\n",
       "      <th>sparse_categorical_accuracy</th>\n",
       "      <th>val_loss</th>\n",
       "      <th>val_sparse_categorical_accuracy</th>\n",
       "      <th>lr</th>\n",
       "    </tr>\n",
       "  </thead>\n",
       "  <tbody>\n",
       "    <tr>\n",
       "      <th>0</th>\n",
       "      <td>1.739056</td>\n",
       "      <td>0.349375</td>\n",
       "      <td>1.693059</td>\n",
       "      <td>0.3925</td>\n",
       "      <td>0.001</td>\n",
       "    </tr>\n",
       "    <tr>\n",
       "      <th>1</th>\n",
       "      <td>1.690389</td>\n",
       "      <td>0.346250</td>\n",
       "      <td>1.640648</td>\n",
       "      <td>0.3275</td>\n",
       "      <td>0.001</td>\n",
       "    </tr>\n",
       "    <tr>\n",
       "      <th>2</th>\n",
       "      <td>1.611828</td>\n",
       "      <td>0.340000</td>\n",
       "      <td>1.609601</td>\n",
       "      <td>0.3425</td>\n",
       "      <td>0.001</td>\n",
       "    </tr>\n",
       "    <tr>\n",
       "      <th>3</th>\n",
       "      <td>1.559459</td>\n",
       "      <td>0.381875</td>\n",
       "      <td>1.573433</td>\n",
       "      <td>0.3600</td>\n",
       "      <td>0.001</td>\n",
       "    </tr>\n",
       "  </tbody>\n",
       "</table>\n",
       "</div>"
      ],
      "text/plain": [
       "       loss  sparse_categorical_accuracy  val_loss  \\\n",
       "0  1.739056                     0.349375  1.693059   \n",
       "1  1.690389                     0.346250  1.640648   \n",
       "2  1.611828                     0.340000  1.609601   \n",
       "3  1.559459                     0.381875  1.573433   \n",
       "\n",
       "   val_sparse_categorical_accuracy     lr  \n",
       "0                           0.3925  0.001  \n",
       "1                           0.3275  0.001  \n",
       "2                           0.3425  0.001  \n",
       "3                           0.3600  0.001  "
      ]
     },
     "execution_count": 25,
     "metadata": {},
     "output_type": "execute_result"
    }
   ],
   "source": [
    "df=pd.DataFrame(history)\n",
    "df"
   ]
  },
  {
   "cell_type": "code",
   "execution_count": 26,
   "metadata": {},
   "outputs": [],
   "source": [
    "df.to_csv('model6.csv',index=None)"
   ]
  },
  {
   "cell_type": "code",
   "execution_count": 27,
   "metadata": {},
   "outputs": [],
   "source": [
    "pred_test =model.predict(x_test)"
   ]
  },
  {
   "cell_type": "code",
   "execution_count": 28,
   "metadata": {},
   "outputs": [],
   "source": [
    "pre=np.argmax(pred_test,axis=1)"
   ]
  },
  {
   "cell_type": "code",
   "execution_count": 29,
   "metadata": {},
   "outputs": [],
   "source": [
    "test_y=np.argmax(one_hot_test_labels,axis=1)"
   ]
  },
  {
   "cell_type": "code",
   "execution_count": 30,
   "metadata": {},
   "outputs": [],
   "source": [
    "correct_prediction = tf.equal(pre, test_y)\n",
    "acc = tf.reduce_mean(tf.cast(correct_prediction, \"float\"))\n",
    "acc=float(acc)\n",
    "# f1=metrics.f1_"
   ]
  },
  {
   "cell_type": "code",
   "execution_count": 31,
   "metadata": {},
   "outputs": [
    {
     "data": {
      "text/plain": [
       "0.3970000147819519"
      ]
     },
     "execution_count": 31,
     "metadata": {},
     "output_type": "execute_result"
    }
   ],
   "source": [
    "acc"
   ]
  },
  {
   "cell_type": "code",
   "execution_count": null,
   "metadata": {},
   "outputs": [],
   "source": []
  },
  {
   "cell_type": "code",
   "execution_count": null,
   "metadata": {},
   "outputs": [],
   "source": []
  }
 ],
 "metadata": {
  "interpreter": {
   "hash": "09b1f5d785a08b848ded3e9e533b16cd5f7f5e434f6cf7edb3bc46785bd848a2"
  },
  "kernelspec": {
   "display_name": "Python 3.8.12 ('tensorflow')",
   "language": "python",
   "name": "python3"
  },
  "language_info": {
   "codemirror_mode": {
    "name": "ipython",
    "version": 3
   },
   "file_extension": ".py",
   "mimetype": "text/x-python",
   "name": "python",
   "nbconvert_exporter": "python",
   "pygments_lexer": "ipython3",
   "version": "3.8.0"
  },
  "orig_nbformat": 4
 },
 "nbformat": 4,
 "nbformat_minor": 2
}
