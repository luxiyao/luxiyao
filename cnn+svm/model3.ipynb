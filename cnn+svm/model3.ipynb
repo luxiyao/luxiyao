{
 "cells": [
  {
   "cell_type": "code",
   "execution_count": 1,
   "metadata": {},
   "outputs": [],
   "source": [
    "import scipy.io as scio\n",
    "import os\n",
    "import numpy as np\n",
    "import sklearn.metrics as metrics\n",
    "# from keras import layers\n",
    "# from keras import models\n",
    "import pandas as pd\n",
    "# from sklearn.metrics import f1_score,recall_score,precision_score,auc,accuracy_score,confusion_matrix\n",
    "# from sklearn.metrics import precision_recall_curve, average_precision_score,roc_auc_score,roc_curve\n",
    "import matplotlib.pyplot as plt\n",
    "import warnings\n",
    "warnings.filterwarnings('ignore')\n",
    "from itertools import cycle\n",
    "from scipy import interp\n",
    "plt.rcParams['font.sans-serif']=['SimHei'] #用来正常显示中文标签\n",
    "import seaborn as sns"
   ]
  },
  {
   "cell_type": "code",
   "execution_count": 2,
   "metadata": {},
   "outputs": [],
   "source": [
    "import tensorflow as tf\n",
    "from tensorflow.keras.preprocessing import image\n",
    "from tensorflow.keras.optimizers import Adam,Adadelta\n",
    "from tensorflow.keras.callbacks import EarlyStopping\n",
    "from tensorflow.keras.layers import Input, Dense, Activation, BatchNormalization, Flatten, Conv2D,Conv1D,Conv1DTranspose\n",
    "from tensorflow.keras.layers import MaxPooling1D, Dropout, UpSampling1D,MaxPool2D,UpSampling2D\n",
    "import tensorflow as tf\n",
    "import tensorflow.keras as keras\n",
    "import tensorflow.keras.layers as layers\n",
    "import pandas as pd\n",
    "import numpy as np\n",
    "import matplotlib.pyplot as plt\n",
    "# plt.style.use('seaborn')\n",
    "import tensorflow as tf\n",
    "import seaborn as sns\n",
    "from sklearn.model_selection import train_test_split\n",
    "from tensorflow.keras.models import Model, load_model\n",
    "from tensorflow.keras.callbacks import ModelCheckpoint\n",
    "from tensorflow.keras import regularizers\n",
    "from sklearn.preprocessing import StandardScaler,MinMaxScaler\n",
    "from sklearn.metrics import roc_curve, auc, precision_recall_curve\n",
    "from tqdm import notebook\n",
    "import glob\n",
    "import os\n",
    "os.environ['CUDA_VISIBLE_DEVICES'] = \"0\""
   ]
  },
  {
   "cell_type": "code",
   "execution_count": 3,
   "metadata": {},
   "outputs": [],
   "source": [
    "path='./CWRU/'\n",
    "#寻找文件夹下所有的数据文件\n",
    "path_list=os.listdir(path)\n",
    "data_x=[]\n",
    "data_y=[]\n",
    "for i in path_list:\n",
    "    path1=path+i\n",
    "    dd=scio.loadmat(path1)\n",
    "    for j in dd.keys():\n",
    "        #只使用DE的数据\n",
    "        if 'DE' in j:\n",
    "            ddd=dd[j]\n",
    "            #截前12W个数据\n",
    "            data_x.append(ddd[:120000].ravel())\n",
    "            data_y.append(i)"
   ]
  },
  {
   "cell_type": "code",
   "execution_count": 4,
   "metadata": {},
   "outputs": [],
   "source": [
    "#切分成多个样本数据\n",
    "def yuchuli(a,label):\n",
    "    \"\"\"\n",
    "    前200个样本用于训练\n",
    "    后100个样本用于测试\n",
    "    \"\"\"\n",
    "    a  = a.reshape(300,400)\n",
    "    np.random.shuffle(a)\n",
    "    train = a[:200,:]\n",
    "    test = a[200:,:]\n",
    "    label_test =[label for i in range(0,100)]\n",
    "    label_train = [label for i in range(0, 200)]\n",
    "    return train,test,label_train ,label_test\n",
    "\n",
    "\n",
    "\n",
    "#绘制P-R曲线\n",
    "def micro_PR(y_test,y_score):\n",
    "    # 对每一个类别计算性能指标\n",
    "    precision = dict()\n",
    "    recall = dict()\n",
    "    average_precision = dict()\n",
    "    # .shape会返回一个元组，存储行和列，取第二个数，也就是列\n",
    "    n_classes = y_score.shape[1]\n",
    "    for i in range(n_classes):\n",
    "        precision[i], recall[i], _ =  precision_recall_curve(y_test[:, i], y_score[:, i])\n",
    "        average_precision[i] = average_precision_score(y_test[:, i], y_score[:, i])\n",
    "    precision[\"micro\"],  recall[\"micro\"], _ = precision_recall_curve(y_test.ravel(), y_score.ravel())\n",
    "    average_precision[\"micro\"] = average_precision_score(y_test, y_score, average=\"micro\")\n",
    "    return precision, recall, average_precision\n",
    "\n",
    "def plot_a_model_PR_curve(precision,recall,average_precision,title=None,path=None):\n",
    "    plt.figure(figsize=(6,6))\n",
    "    for i in precision.keys():\n",
    "        label = str(i)+\"，AP = {0:0.4f}\".format(average_precision[i])\n",
    "        plt.step(recall[i], precision[i], where='post', lw=2,label=label)\n",
    "    plt.legend()\n",
    "    plt.xlabel(\"Recall\", fontdict={'weight': 'normal', 'size': 15})\n",
    "    plt.ylabel(\"Precision\", fontdict={'weight': 'normal', 'size': 15})\n",
    "    if title != None:\n",
    "        plt.title(title)\n",
    "        \n",
    "    if path!= None:\n",
    "        plt.savefig(path,dpi=700)\n",
    "    plt.show()\n",
    "\n",
    "    \n",
    "#将y转变为onehot向量\n",
    "def to_one_hot(labels,label_dict):\n",
    "    dimension=len(label_dict.keys())\n",
    "    results = np.zeros((len(labels),dimension))\n",
    "    for i,label in enumerate(labels):\n",
    "        results[i,label_dict[label]] = 1\n",
    "    return results"
   ]
  },
  {
   "cell_type": "code",
   "execution_count": 5,
   "metadata": {},
   "outputs": [],
   "source": [
    "#将多条数据的所有样本合并起来\n",
    "x_train,x_test,y_train,y_test=[],[],[],[]\n",
    "for i in range(len(data_x)):\n",
    "    train,test,label_train ,label_test=yuchuli(data_x[i],data_y[i])\n",
    "    x_train+=list(train)\n",
    "    x_test+=list(test)\n",
    "    y_train+=label_train\n",
    "    y_test+=label_test\n",
    "    \n",
    "#转换数据格式\n",
    "x_train=np.array(x_train)\n",
    "x_test=np.array(x_test)\n",
    "\n",
    "#将x转变为二维矩阵，方便CNN训练\n",
    "x_train = x_train.reshape(-1,400,1)\n",
    "x_test = x_test.reshape(-1,400,1)\n",
    "\n",
    "state = np.random.get_state()\n",
    "np.random.shuffle(x_train)\n",
    "np.random.set_state(state)\n",
    "np.random.shuffle(y_train)\n",
    "\n",
    "#转换y的数据格式\n",
    "y_train=np.array(y_train)\n",
    "y_test=np.array(y_test)\n",
    "\n",
    "#生成label的字典，用于将y转换为onehot格式\n",
    "label_dict={}\n",
    "label_dict_anti={}\n",
    "for i,j in enumerate(list(set(list(y_train)+list(y_test)))):\n",
    "    label_dict[j]=i\n",
    "    label_dict_anti[i]=j\n",
    "    \n",
    "\n",
    "one_hot_train_labels = to_one_hot(y_train,label_dict)\n",
    "one_hot_test_labels = to_one_hot(y_test,label_dict)\n",
    "\n",
    "y_test_transform=np.argmax(one_hot_test_labels,axis=1)\n",
    "y_train_transform=np.argmax(one_hot_train_labels,axis=1)\n",
    "\n",
    "input_shape=x_train.shape[1:]\n",
    "output=one_hot_train_labels.shape[1]"
   ]
  },
  {
   "cell_type": "code",
   "execution_count": 6,
   "metadata": {},
   "outputs": [
    {
     "data": {
      "text/plain": [
       "array([[0., 0., 0., ..., 0., 0., 1.],\n",
       "       [1., 0., 0., ..., 0., 0., 0.],\n",
       "       [0., 0., 1., ..., 0., 0., 0.],\n",
       "       ...,\n",
       "       [0., 0., 0., ..., 0., 0., 0.],\n",
       "       [0., 1., 0., ..., 0., 0., 0.],\n",
       "       [0., 0., 0., ..., 0., 0., 0.]])"
      ]
     },
     "execution_count": 6,
     "metadata": {},
     "output_type": "execute_result"
    }
   ],
   "source": [
    "one_hot_train_labels"
   ]
  },
  {
   "cell_type": "code",
   "execution_count": 7,
   "metadata": {},
   "outputs": [
    {
     "data": {
      "text/plain": [
       "((2000, 400, 1), (1000, 400, 1))"
      ]
     },
     "execution_count": 7,
     "metadata": {},
     "output_type": "execute_result"
    }
   ],
   "source": [
    "x_train.shape,x_test.shape"
   ]
  },
  {
   "cell_type": "code",
   "execution_count": 8,
   "metadata": {},
   "outputs": [
    {
     "data": {
      "text/plain": [
       "((2000,), (1000,))"
      ]
     },
     "execution_count": 8,
     "metadata": {},
     "output_type": "execute_result"
    }
   ],
   "source": [
    "y_train_transform.shape,y_test_transform.shape"
   ]
  },
  {
   "cell_type": "markdown",
   "metadata": {},
   "source": [
    "Model"
   ]
  },
  {
   "cell_type": "code",
   "execution_count": 9,
   "metadata": {},
   "outputs": [
    {
     "data": {
      "text/plain": [
       "10"
      ]
     },
     "execution_count": 9,
     "metadata": {},
     "output_type": "execute_result"
    }
   ],
   "source": [
    "num_classes = len(np.unique(y_train_transform))\n",
    "num_classes"
   ]
  },
  {
   "cell_type": "code",
   "execution_count": 10,
   "metadata": {},
   "outputs": [
    {
     "name": "stdout",
     "output_type": "stream",
     "text": [
      "Model: \"model\"\n",
      "__________________________________________________________________________________________________\n",
      " Layer (type)                   Output Shape         Param #     Connected to                     \n",
      "==================================================================================================\n",
      " input_1 (InputLayer)           [(None, 400, 1)]     0           []                               \n",
      "                                                                                                  \n",
      " conv1d (Conv1D)                (None, 400, 30)      330         ['input_1[0][0]']                \n",
      "                                                                                                  \n",
      " conv1d_1 (Conv1D)              (None, 400, 30)      630         ['input_1[0][0]']                \n",
      "                                                                                                  \n",
      " conv1d_2 (Conv1D)              (None, 400, 30)      930         ['input_1[0][0]']                \n",
      "                                                                                                  \n",
      " lstm (LSTM)                    (None, 400, 30)      7320        ['conv1d[0][0]']                 \n",
      "                                                                                                  \n",
      " lstm_1 (LSTM)                  (None, 400, 30)      7320        ['conv1d_1[0][0]']               \n",
      "                                                                                                  \n",
      " lstm_2 (LSTM)                  (None, 400, 30)      7320        ['conv1d_2[0][0]']               \n",
      "                                                                                                  \n",
      " flatten (Flatten)              (None, 12000)        0           ['lstm[0][0]']                   \n",
      "                                                                                                  \n",
      " flatten_1 (Flatten)            (None, 12000)        0           ['lstm_1[0][0]']                 \n",
      "                                                                                                  \n",
      " flatten_2 (Flatten)            (None, 12000)        0           ['lstm_2[0][0]']                 \n",
      "                                                                                                  \n",
      " tf.concat (TFOpLambda)         (None, 36000)        0           ['flatten[0][0]',                \n",
      "                                                                  'flatten_1[0][0]',              \n",
      "                                                                  'flatten_2[0][0]']              \n",
      "                                                                                                  \n",
      " dense (Dense)                  (None, 10)           360010      ['tf.concat[0][0]']              \n",
      "                                                                                                  \n",
      "==================================================================================================\n",
      "Total params: 383,860\n",
      "Trainable params: 383,860\n",
      "Non-trainable params: 0\n",
      "__________________________________________________________________________________________________\n"
     ]
    }
   ],
   "source": [
    "input_img = Input(shape=(400,1)) # Tensorflow后端， 注意要用channel_last\n",
    "# 编码器部分\n",
    "x= Conv1D(filters = 30, kernel_size = 10, activation = 'relu', padding = 'same')(input_img)\n",
    "x = layers.LSTM(units=30,return_sequences=True)(x)\n",
    "x = Flatten()(x)\n",
    "\n",
    "\n",
    "y= Conv1D(filters = 30, kernel_size = 20, activation = 'relu', padding = 'same')(input_img)\n",
    "y = layers.LSTM(units=30,return_sequences=True)(y)\n",
    "y = Flatten()(y)\n",
    "\n",
    "\n",
    "z= Conv1D(filters = 30, kernel_size = 30, activation = 'relu', padding = 'same')(input_img)\n",
    "z = layers.LSTM(units=30,return_sequences=True)(z)\n",
    "z = Flatten()(z)\n",
    "\n",
    "\n",
    "\n",
    "inception_out=tf.concat([x,y,z],axis=-1)\n",
    "output=Dense(10,activation='softmax')(inception_out)\n",
    "\n",
    "\n",
    "autoencoder = Model(input_img, output)\n",
    "autoencoder.compile(optimizer='adam',loss='sparse_categorical_crossentropy',metrics=['sparse_categorical_accuracy'])   \n",
    "autoencoder.summary()"
   ]
  },
  {
   "cell_type": "code",
   "execution_count": 11,
   "metadata": {},
   "outputs": [
    {
     "name": "stdout",
     "output_type": "stream",
     "text": [
      "Epoch 1/100\n",
      "200/200 [==============================] - 17s 52ms/step - loss: 0.6579 - sparse_categorical_accuracy: 0.7663 - val_loss: 0.1428 - val_sparse_categorical_accuracy: 0.9600 - lr: 0.0010\n",
      "Epoch 2/100\n",
      "200/200 [==============================] - 9s 45ms/step - loss: 0.1118 - sparse_categorical_accuracy: 0.9625 - val_loss: 0.0768 - val_sparse_categorical_accuracy: 0.9775 - lr: 0.0010\n",
      "Epoch 3/100\n",
      "200/200 [==============================] - 10s 48ms/step - loss: 0.0709 - sparse_categorical_accuracy: 0.9762 - val_loss: 0.0678 - val_sparse_categorical_accuracy: 0.9775 - lr: 0.0010\n",
      "Epoch 4/100\n",
      "200/200 [==============================] - 9s 46ms/step - loss: 0.0719 - sparse_categorical_accuracy: 0.9725 - val_loss: 0.0839 - val_sparse_categorical_accuracy: 0.9700 - lr: 0.0010\n",
      "Epoch 5/100\n",
      "200/200 [==============================] - 9s 45ms/step - loss: 0.1021 - sparse_categorical_accuracy: 0.9719 - val_loss: 0.1293 - val_sparse_categorical_accuracy: 0.9600 - lr: 0.0010\n",
      "Epoch 6/100\n",
      "200/200 [==============================] - 9s 47ms/step - loss: 0.0284 - sparse_categorical_accuracy: 0.9887 - val_loss: 0.0327 - val_sparse_categorical_accuracy: 0.9900 - lr: 0.0010\n",
      "Epoch 7/100\n",
      "200/200 [==============================] - 9s 46ms/step - loss: 0.0191 - sparse_categorical_accuracy: 0.9944 - val_loss: 0.0101 - val_sparse_categorical_accuracy: 1.0000 - lr: 0.0010\n",
      "Epoch 8/100\n",
      "200/200 [==============================] - 9s 47ms/step - loss: 0.0039 - sparse_categorical_accuracy: 0.9994 - val_loss: 0.0044 - val_sparse_categorical_accuracy: 1.0000 - lr: 0.0010\n",
      "Epoch 9/100\n",
      "200/200 [==============================] - 10s 48ms/step - loss: 0.0014 - sparse_categorical_accuracy: 1.0000 - val_loss: 0.0050 - val_sparse_categorical_accuracy: 0.9975 - lr: 0.0010\n",
      "Epoch 10/100\n",
      "200/200 [==============================] - 10s 48ms/step - loss: 5.6043e-04 - sparse_categorical_accuracy: 1.0000 - val_loss: 0.0022 - val_sparse_categorical_accuracy: 1.0000 - lr: 0.0010\n",
      "Epoch 11/100\n",
      "200/200 [==============================] - 10s 48ms/step - loss: 3.7005e-04 - sparse_categorical_accuracy: 1.0000 - val_loss: 0.0017 - val_sparse_categorical_accuracy: 1.0000 - lr: 0.0010\n",
      "Epoch 12/100\n",
      "200/200 [==============================] - 9s 46ms/step - loss: 2.9202e-04 - sparse_categorical_accuracy: 1.0000 - val_loss: 0.0021 - val_sparse_categorical_accuracy: 1.0000 - lr: 0.0010\n",
      "Epoch 13/100\n",
      "200/200 [==============================] - 9s 45ms/step - loss: 2.1573e-04 - sparse_categorical_accuracy: 1.0000 - val_loss: 0.0019 - val_sparse_categorical_accuracy: 1.0000 - lr: 0.0010\n",
      "Epoch 14/100\n",
      "200/200 [==============================] - 9s 46ms/step - loss: 1.6999e-04 - sparse_categorical_accuracy: 1.0000 - val_loss: 0.0011 - val_sparse_categorical_accuracy: 1.0000 - lr: 0.0010\n",
      "Epoch 15/100\n",
      "200/200 [==============================] - 9s 46ms/step - loss: 1.4283e-04 - sparse_categorical_accuracy: 1.0000 - val_loss: 9.7659e-04 - val_sparse_categorical_accuracy: 1.0000 - lr: 0.0010\n",
      "Epoch 16/100\n",
      "200/200 [==============================] - 10s 48ms/step - loss: 1.1376e-04 - sparse_categorical_accuracy: 1.0000 - val_loss: 0.0011 - val_sparse_categorical_accuracy: 1.0000 - lr: 0.0010\n",
      "Epoch 17/100\n",
      "200/200 [==============================] - 9s 47ms/step - loss: 8.7697e-05 - sparse_categorical_accuracy: 1.0000 - val_loss: 0.0012 - val_sparse_categorical_accuracy: 1.0000 - lr: 0.0010\n",
      "Epoch 18/100\n",
      "200/200 [==============================] - 9s 47ms/step - loss: 6.5562e-05 - sparse_categorical_accuracy: 1.0000 - val_loss: 0.0015 - val_sparse_categorical_accuracy: 1.0000 - lr: 0.0010\n",
      "Epoch 19/100\n",
      "200/200 [==============================] - 10s 48ms/step - loss: 6.2540e-05 - sparse_categorical_accuracy: 1.0000 - val_loss: 8.6398e-04 - val_sparse_categorical_accuracy: 1.0000 - lr: 0.0010\n",
      "Epoch 20/100\n",
      "200/200 [==============================] - 10s 48ms/step - loss: 5.3260e-05 - sparse_categorical_accuracy: 1.0000 - val_loss: 8.0419e-04 - val_sparse_categorical_accuracy: 1.0000 - lr: 0.0010\n",
      "Epoch 21/100\n",
      "200/200 [==============================] - 9s 47ms/step - loss: 4.1395e-05 - sparse_categorical_accuracy: 1.0000 - val_loss: 9.3176e-04 - val_sparse_categorical_accuracy: 1.0000 - lr: 0.0010\n",
      "Epoch 22/100\n",
      "200/200 [==============================] - 10s 49ms/step - loss: 3.5362e-05 - sparse_categorical_accuracy: 1.0000 - val_loss: 8.5875e-04 - val_sparse_categorical_accuracy: 1.0000 - lr: 0.0010\n",
      "Epoch 23/100\n",
      "200/200 [==============================] - 10s 48ms/step - loss: 3.1087e-05 - sparse_categorical_accuracy: 1.0000 - val_loss: 8.0605e-04 - val_sparse_categorical_accuracy: 1.0000 - lr: 0.0010\n",
      "Epoch 24/100\n",
      "200/200 [==============================] - 9s 46ms/step - loss: 2.7311e-05 - sparse_categorical_accuracy: 1.0000 - val_loss: 7.7756e-04 - val_sparse_categorical_accuracy: 1.0000 - lr: 0.0010\n",
      "Epoch 25/100\n",
      "200/200 [==============================] - 9s 47ms/step - loss: 2.1971e-05 - sparse_categorical_accuracy: 1.0000 - val_loss: 7.0019e-04 - val_sparse_categorical_accuracy: 1.0000 - lr: 0.0010\n",
      "Epoch 26/100\n",
      "200/200 [==============================] - 9s 47ms/step - loss: 2.0225e-05 - sparse_categorical_accuracy: 1.0000 - val_loss: 8.2911e-04 - val_sparse_categorical_accuracy: 1.0000 - lr: 0.0010\n",
      "Epoch 27/100\n",
      "200/200 [==============================] - 9s 47ms/step - loss: 1.6277e-05 - sparse_categorical_accuracy: 1.0000 - val_loss: 7.9222e-04 - val_sparse_categorical_accuracy: 1.0000 - lr: 0.0010\n",
      "Epoch 28/100\n",
      "200/200 [==============================] - 10s 49ms/step - loss: 1.4726e-05 - sparse_categorical_accuracy: 1.0000 - val_loss: 9.8938e-04 - val_sparse_categorical_accuracy: 1.0000 - lr: 0.0010\n",
      "Epoch 29/100\n",
      "200/200 [==============================] - 10s 49ms/step - loss: 1.2334e-05 - sparse_categorical_accuracy: 1.0000 - val_loss: 0.0011 - val_sparse_categorical_accuracy: 1.0000 - lr: 0.0010\n",
      "Epoch 30/100\n",
      "200/200 [==============================] - 9s 47ms/step - loss: 1.1821e-05 - sparse_categorical_accuracy: 1.0000 - val_loss: 9.7137e-04 - val_sparse_categorical_accuracy: 1.0000 - lr: 0.0010\n",
      "Epoch 31/100\n",
      "200/200 [==============================] - 10s 48ms/step - loss: 1.0166e-05 - sparse_categorical_accuracy: 1.0000 - val_loss: 0.0011 - val_sparse_categorical_accuracy: 1.0000 - lr: 0.0010\n",
      "Epoch 32/100\n",
      "200/200 [==============================] - 10s 48ms/step - loss: 8.9585e-06 - sparse_categorical_accuracy: 1.0000 - val_loss: 9.7827e-04 - val_sparse_categorical_accuracy: 1.0000 - lr: 0.0010\n",
      "Epoch 33/100\n",
      "200/200 [==============================] - 9s 45ms/step - loss: 7.8078e-06 - sparse_categorical_accuracy: 1.0000 - val_loss: 8.2128e-04 - val_sparse_categorical_accuracy: 1.0000 - lr: 0.0010\n",
      "Epoch 34/100\n",
      "200/200 [==============================] - 9s 45ms/step - loss: 6.9112e-06 - sparse_categorical_accuracy: 1.0000 - val_loss: 9.6927e-04 - val_sparse_categorical_accuracy: 1.0000 - lr: 0.0010\n",
      "Epoch 35/100\n",
      "200/200 [==============================] - 9s 45ms/step - loss: 5.6203e-06 - sparse_categorical_accuracy: 1.0000 - val_loss: 0.0012 - val_sparse_categorical_accuracy: 1.0000 - lr: 0.0010\n",
      "Epoch 36/100\n",
      "200/200 [==============================] - 9s 46ms/step - loss: 4.8235e-06 - sparse_categorical_accuracy: 1.0000 - val_loss: 0.0012 - val_sparse_categorical_accuracy: 1.0000 - lr: 0.0010\n",
      "Epoch 37/100\n",
      "200/200 [==============================] - 9s 45ms/step - loss: 4.5316e-06 - sparse_categorical_accuracy: 1.0000 - val_loss: 0.0011 - val_sparse_categorical_accuracy: 1.0000 - lr: 0.0010\n",
      "Epoch 38/100\n",
      "200/200 [==============================] - 9s 46ms/step - loss: 3.4741e-06 - sparse_categorical_accuracy: 1.0000 - val_loss: 0.0012 - val_sparse_categorical_accuracy: 1.0000 - lr: 0.0010\n",
      "Epoch 39/100\n",
      "200/200 [==============================] - 9s 47ms/step - loss: 3.7044e-06 - sparse_categorical_accuracy: 1.0000 - val_loss: 0.0011 - val_sparse_categorical_accuracy: 1.0000 - lr: 0.0010\n",
      "Epoch 40/100\n",
      "200/200 [==============================] - 9s 47ms/step - loss: 3.2447e-06 - sparse_categorical_accuracy: 1.0000 - val_loss: 0.0013 - val_sparse_categorical_accuracy: 1.0000 - lr: 0.0010\n",
      "Epoch 41/100\n",
      "200/200 [==============================] - 9s 46ms/step - loss: 2.8520e-06 - sparse_categorical_accuracy: 1.0000 - val_loss: 0.0013 - val_sparse_categorical_accuracy: 1.0000 - lr: 0.0010\n",
      "Epoch 42/100\n",
      "200/200 [==============================] - 9s 46ms/step - loss: 2.4841e-06 - sparse_categorical_accuracy: 1.0000 - val_loss: 0.0015 - val_sparse_categorical_accuracy: 1.0000 - lr: 0.0010\n",
      "Epoch 43/100\n",
      "200/200 [==============================] - 11s 57ms/step - loss: 2.2284e-06 - sparse_categorical_accuracy: 1.0000 - val_loss: 0.0013 - val_sparse_categorical_accuracy: 1.0000 - lr: 0.0010\n",
      "Epoch 44/100\n",
      "200/200 [==============================] - 10s 49ms/step - loss: 1.9891e-06 - sparse_categorical_accuracy: 1.0000 - val_loss: 0.0014 - val_sparse_categorical_accuracy: 1.0000 - lr: 0.0010\n",
      "Epoch 45/100\n",
      "200/200 [==============================] - 10s 48ms/step - loss: 1.6409e-06 - sparse_categorical_accuracy: 1.0000 - val_loss: 0.0017 - val_sparse_categorical_accuracy: 1.0000 - lr: 0.0010\n",
      "Epoch 46/100\n",
      "200/200 [==============================] - 9s 47ms/step - loss: 1.4838e-06 - sparse_categorical_accuracy: 1.0000 - val_loss: 0.0016 - val_sparse_categorical_accuracy: 1.0000 - lr: 5.0000e-04\n",
      "Epoch 47/100\n",
      "200/200 [==============================] - 10s 48ms/step - loss: 1.3250e-06 - sparse_categorical_accuracy: 1.0000 - val_loss: 0.0015 - val_sparse_categorical_accuracy: 1.0000 - lr: 5.0000e-04\n",
      "Epoch 48/100\n",
      "200/200 [==============================] - 9s 47ms/step - loss: 1.2130e-06 - sparse_categorical_accuracy: 1.0000 - val_loss: 0.0014 - val_sparse_categorical_accuracy: 1.0000 - lr: 5.0000e-04\n",
      "Epoch 49/100\n",
      "200/200 [==============================] - 9s 46ms/step - loss: 1.2288e-06 - sparse_categorical_accuracy: 1.0000 - val_loss: 0.0014 - val_sparse_categorical_accuracy: 1.0000 - lr: 5.0000e-04\n",
      "Epoch 50/100\n",
      "200/200 [==============================] - 9s 46ms/step - loss: 1.1115e-06 - sparse_categorical_accuracy: 1.0000 - val_loss: 0.0016 - val_sparse_categorical_accuracy: 1.0000 - lr: 5.0000e-04\n",
      "Epoch 51/100\n",
      "200/200 [==============================] - 9s 46ms/step - loss: 1.0358e-06 - sparse_categorical_accuracy: 1.0000 - val_loss: 0.0014 - val_sparse_categorical_accuracy: 1.0000 - lr: 5.0000e-04\n",
      "Epoch 52/100\n",
      "200/200 [==============================] - 9s 46ms/step - loss: 9.4688e-07 - sparse_categorical_accuracy: 1.0000 - val_loss: 0.0015 - val_sparse_categorical_accuracy: 1.0000 - lr: 5.0000e-04\n",
      "Epoch 53/100\n",
      "200/200 [==============================] - 10s 48ms/step - loss: 9.0352e-07 - sparse_categorical_accuracy: 1.0000 - val_loss: 0.0015 - val_sparse_categorical_accuracy: 1.0000 - lr: 5.0000e-04\n",
      "Epoch 54/100\n",
      "200/200 [==============================] - 10s 50ms/step - loss: 8.3415e-07 - sparse_categorical_accuracy: 1.0000 - val_loss: 0.0013 - val_sparse_categorical_accuracy: 1.0000 - lr: 5.0000e-04\n",
      "Epoch 55/100\n",
      "200/200 [==============================] - 10s 50ms/step - loss: 8.0055e-07 - sparse_categorical_accuracy: 1.0000 - val_loss: 0.0016 - val_sparse_categorical_accuracy: 1.0000 - lr: 5.0000e-04\n",
      "Epoch 56/100\n",
      "200/200 [==============================] - 10s 49ms/step - loss: 7.2620e-07 - sparse_categorical_accuracy: 1.0000 - val_loss: 0.0016 - val_sparse_categorical_accuracy: 1.0000 - lr: 5.0000e-04\n",
      "Epoch 57/100\n",
      "200/200 [==============================] - 10s 49ms/step - loss: 6.2927e-07 - sparse_categorical_accuracy: 1.0000 - val_loss: 0.0020 - val_sparse_categorical_accuracy: 0.9975 - lr: 5.0000e-04\n",
      "Epoch 58/100\n",
      "200/200 [==============================] - 9s 47ms/step - loss: 6.1451e-07 - sparse_categorical_accuracy: 1.0000 - val_loss: 0.0020 - val_sparse_categorical_accuracy: 0.9975 - lr: 5.0000e-04\n",
      "Epoch 59/100\n",
      "200/200 [==============================] - 10s 48ms/step - loss: 5.4508e-07 - sparse_categorical_accuracy: 1.0000 - val_loss: 0.0019 - val_sparse_categorical_accuracy: 1.0000 - lr: 5.0000e-04\n",
      "Epoch 60/100\n",
      "200/200 [==============================] - 10s 48ms/step - loss: 5.6147e-07 - sparse_categorical_accuracy: 1.0000 - val_loss: 0.0016 - val_sparse_categorical_accuracy: 1.0000 - lr: 5.0000e-04\n",
      "Epoch 61/100\n",
      "200/200 [==============================] - 10s 49ms/step - loss: 4.4211e-07 - sparse_categorical_accuracy: 1.0000 - val_loss: 0.0022 - val_sparse_categorical_accuracy: 0.9975 - lr: 5.0000e-04\n",
      "Epoch 62/100\n",
      "200/200 [==============================] - 10s 48ms/step - loss: 4.1395e-07 - sparse_categorical_accuracy: 1.0000 - val_loss: 0.0017 - val_sparse_categorical_accuracy: 1.0000 - lr: 5.0000e-04\n",
      "Epoch 63/100\n",
      "200/200 [==============================] - 10s 48ms/step - loss: 4.0739e-07 - sparse_categorical_accuracy: 1.0000 - val_loss: 0.0024 - val_sparse_categorical_accuracy: 0.9975 - lr: 5.0000e-04\n",
      "Epoch 64/100\n",
      "200/200 [==============================] - 10s 48ms/step - loss: 3.3982e-07 - sparse_categorical_accuracy: 1.0000 - val_loss: 0.0018 - val_sparse_categorical_accuracy: 1.0000 - lr: 5.0000e-04\n",
      "Epoch 65/100\n",
      "200/200 [==============================] - 10s 49ms/step - loss: 3.4131e-07 - sparse_categorical_accuracy: 1.0000 - val_loss: 0.0021 - val_sparse_categorical_accuracy: 0.9975 - lr: 5.0000e-04\n",
      "Epoch 66/100\n",
      "200/200 [==============================] - 10s 48ms/step - loss: 2.6904e-07 - sparse_categorical_accuracy: 1.0000 - val_loss: 0.0021 - val_sparse_categorical_accuracy: 0.9975 - lr: 2.5000e-04\n",
      "Epoch 67/100\n",
      "200/200 [==============================] - 10s 48ms/step - loss: 2.5041e-07 - sparse_categorical_accuracy: 1.0000 - val_loss: 0.0023 - val_sparse_categorical_accuracy: 0.9975 - lr: 2.5000e-04\n",
      "Epoch 68/100\n",
      "200/200 [==============================] - 10s 48ms/step - loss: 2.4944e-07 - sparse_categorical_accuracy: 1.0000 - val_loss: 0.0021 - val_sparse_categorical_accuracy: 0.9975 - lr: 2.5000e-04\n",
      "Epoch 69/100\n",
      "200/200 [==============================] - 10s 49ms/step - loss: 2.2553e-07 - sparse_categorical_accuracy: 1.0000 - val_loss: 0.0024 - val_sparse_categorical_accuracy: 0.9975 - lr: 2.5000e-04\n",
      "Epoch 70/100\n",
      "200/200 [==============================] - 10s 49ms/step - loss: 2.1398e-07 - sparse_categorical_accuracy: 1.0000 - val_loss: 0.0021 - val_sparse_categorical_accuracy: 0.9975 - lr: 2.5000e-04\n",
      "Epoch 71/100\n",
      "200/200 [==============================] - 10s 48ms/step - loss: 2.0370e-07 - sparse_categorical_accuracy: 1.0000 - val_loss: 0.0020 - val_sparse_categorical_accuracy: 0.9975 - lr: 2.5000e-04\n",
      "Epoch 72/100\n",
      "200/200 [==============================] - 10s 49ms/step - loss: 1.8433e-07 - sparse_categorical_accuracy: 1.0000 - val_loss: 0.0023 - val_sparse_categorical_accuracy: 0.9975 - lr: 2.5000e-04\n",
      "Epoch 73/100\n",
      "200/200 [==============================] - 10s 49ms/step - loss: 1.8455e-07 - sparse_categorical_accuracy: 1.0000 - val_loss: 0.0020 - val_sparse_categorical_accuracy: 0.9975 - lr: 2.5000e-04\n",
      "Epoch 74/100\n",
      "200/200 [==============================] - 10s 49ms/step - loss: 1.7747e-07 - sparse_categorical_accuracy: 1.0000 - val_loss: 0.0023 - val_sparse_categorical_accuracy: 0.9975 - lr: 2.5000e-04\n",
      "Epoch 75/100\n",
      "200/200 [==============================] - 10s 49ms/step - loss: 1.6116e-07 - sparse_categorical_accuracy: 1.0000 - val_loss: 0.0022 - val_sparse_categorical_accuracy: 0.9975 - lr: 2.5000e-04\n",
      "Epoch 75: early stopping\n"
     ]
    }
   ],
   "source": [
    "callbacks = [\n",
    "    keras.callbacks.ModelCheckpoint(\n",
    "        \"best_model3.h5\", save_best_only=True, monitor=\"val_loss\"\n",
    "    ),\n",
    "    keras.callbacks.ReduceLROnPlateau(\n",
    "        monitor=\"val_loss\", factor=0.5, patience=20, min_lr=0.0001\n",
    "    ),\n",
    "    keras.callbacks.EarlyStopping(monitor=\"val_loss\", patience=50, verbose=1),\n",
    "]\n",
    "history = autoencoder.fit(x_train, \n",
    "                            y_train_transform,\n",
    "                          epochs=100,\n",
    "                          batch_size=8,\n",
    "                        #   shuffle=True,\n",
    "                          validation_split=0.2,\n",
    "                          verbose=1, \n",
    "                          callbacks=callbacks).history"
   ]
  },
  {
   "cell_type": "code",
   "execution_count": 12,
   "metadata": {},
   "outputs": [
    {
     "data": {
      "text/plain": [
       "<matplotlib.legend.Legend at 0x26a6127e280>"
      ]
     },
     "execution_count": 12,
     "metadata": {},
     "output_type": "execute_result"
    },
    {
     "data": {
      "image/png": "[encoded data removed]",
      "text/plain": [
       "<Figure size 1008x576 with 1 Axes>"
      ]
     },
     "metadata": {
      "needs_background": "light"
     },
     "output_type": "display_data"
    }
   ],
   "source": [
    "import seaborn as sns\n",
    "# # plt.figure(figsize=(14, 5))\n",
    "# plt.subplot(121)\n",
    "plt.figure(figsize=(14,8))\n",
    "# # sns.set(font_scale = 0.5)\n",
    "plt.plot(history['loss'][:], c='red')\n",
    "plt.plot(history['val_loss'][:], c='blue')\n",
    "plt.title('model loss')\n",
    "plt.ylabel('loss'); plt.xlabel('epoch')\n",
    "plt.legend(['train', 'val'], loc='upper right')"
   ]
  },
  {
   "cell_type": "code",
   "execution_count": 13,
   "metadata": {},
   "outputs": [
    {
     "data": {
      "text/plain": [
       "<matplotlib.legend.Legend at 0x26a6c9db250>"
      ]
     },
     "execution_count": 13,
     "metadata": {},
     "output_type": "execute_result"
    },
    {
     "data": {
      "image/png": "[encoded data removed]",
      "text/plain": [
       "<Figure size 1008x576 with 1 Axes>"
      ]
     },
     "metadata": {
      "needs_background": "light"
     },
     "output_type": "display_data"
    }
   ],
   "source": [
    "import seaborn as sns\n",
    "# # plt.figure(figsize=(14, 5))\n",
    "# plt.subplot(121)\n",
    "plt.figure(figsize=(14,8))\n",
    "# # sns.set(font_scale = 0.5)\n",
    "plt.plot(history['sparse_categorical_accuracy'][:], c='red')\n",
    "plt.plot(history['val_sparse_categorical_accuracy'][:], c='blue')\n",
    "plt.title('model accuracy')\n",
    "plt.ylabel('loss'); plt.xlabel('epoch')\n",
    "plt.legend(['train', 'val'], loc='upper right')"
   ]
  },
  {
   "cell_type": "code",
   "execution_count": 14,
   "metadata": {},
   "outputs": [
    {
     "data": {
      "text/html": [
       "<div>\n",
       "<style scoped>\n",
       "    .dataframe tbody tr th:only-of-type {\n",
       "        vertical-align: middle;\n",
       "    }\n",
       "\n",
       "    .dataframe tbody tr th {\n",
       "        vertical-align: top;\n",
       "    }\n",
       "\n",
       "    .dataframe thead th {\n",
       "        text-align: right;\n",
       "    }\n",
       "</style>\n",
       "<table border=\"1\" class=\"dataframe\">\n",
       "  <thead>\n",
       "    <tr style=\"text-align: right;\">\n",
       "      <th></th>\n",
       "      <th>loss</th>\n",
       "      <th>sparse_categorical_accuracy</th>\n",
       "      <th>val_loss</th>\n",
       "      <th>val_sparse_categorical_accuracy</th>\n",
       "      <th>lr</th>\n",
       "    </tr>\n",
       "  </thead>\n",
       "  <tbody>\n",
       "    <tr>\n",
       "      <th>0</th>\n",
       "      <td>6.579031e-01</td>\n",
       "      <td>0.766250</td>\n",
       "      <td>0.142776</td>\n",
       "      <td>0.9600</td>\n",
       "      <td>0.00100</td>\n",
       "    </tr>\n",
       "    <tr>\n",
       "      <th>1</th>\n",
       "      <td>1.118353e-01</td>\n",
       "      <td>0.962500</td>\n",
       "      <td>0.076771</td>\n",
       "      <td>0.9775</td>\n",
       "      <td>0.00100</td>\n",
       "    </tr>\n",
       "    <tr>\n",
       "      <th>2</th>\n",
       "      <td>7.087646e-02</td>\n",
       "      <td>0.976250</td>\n",
       "      <td>0.067755</td>\n",
       "      <td>0.9775</td>\n",
       "      <td>0.00100</td>\n",
       "    </tr>\n",
       "    <tr>\n",
       "      <th>3</th>\n",
       "      <td>7.192456e-02</td>\n",
       "      <td>0.972500</td>\n",
       "      <td>0.083866</td>\n",
       "      <td>0.9700</td>\n",
       "      <td>0.00100</td>\n",
       "    </tr>\n",
       "    <tr>\n",
       "      <th>4</th>\n",
       "      <td>1.021357e-01</td>\n",
       "      <td>0.971875</td>\n",
       "      <td>0.129264</td>\n",
       "      <td>0.9600</td>\n",
       "      <td>0.00100</td>\n",
       "    </tr>\n",
       "    <tr>\n",
       "      <th>...</th>\n",
       "      <td>...</td>\n",
       "      <td>...</td>\n",
       "      <td>...</td>\n",
       "      <td>...</td>\n",
       "      <td>...</td>\n",
       "    </tr>\n",
       "    <tr>\n",
       "      <th>70</th>\n",
       "      <td>2.036981e-07</td>\n",
       "      <td>1.000000</td>\n",
       "      <td>0.002016</td>\n",
       "      <td>0.9975</td>\n",
       "      <td>0.00025</td>\n",
       "    </tr>\n",
       "    <tr>\n",
       "      <th>71</th>\n",
       "      <td>1.843267e-07</td>\n",
       "      <td>1.000000</td>\n",
       "      <td>0.002259</td>\n",
       "      <td>0.9975</td>\n",
       "      <td>0.00025</td>\n",
       "    </tr>\n",
       "    <tr>\n",
       "      <th>72</th>\n",
       "      <td>1.845503e-07</td>\n",
       "      <td>1.000000</td>\n",
       "      <td>0.001979</td>\n",
       "      <td>0.9975</td>\n",
       "      <td>0.00025</td>\n",
       "    </tr>\n",
       "    <tr>\n",
       "      <th>73</th>\n",
       "      <td>1.774721e-07</td>\n",
       "      <td>1.000000</td>\n",
       "      <td>0.002266</td>\n",
       "      <td>0.9975</td>\n",
       "      <td>0.00025</td>\n",
       "    </tr>\n",
       "    <tr>\n",
       "      <th>74</th>\n",
       "      <td>1.611555e-07</td>\n",
       "      <td>1.000000</td>\n",
       "      <td>0.002156</td>\n",
       "      <td>0.9975</td>\n",
       "      <td>0.00025</td>\n",
       "    </tr>\n",
       "  </tbody>\n",
       "</table>\n",
       "<p>75 rows × 5 columns</p>\n",
       "</div>"
      ],
      "text/plain": [
       "            loss  sparse_categorical_accuracy  val_loss  \\\n",
       "0   6.579031e-01                     0.766250  0.142776   \n",
       "1   1.118353e-01                     0.962500  0.076771   \n",
       "2   7.087646e-02                     0.976250  0.067755   \n",
       "3   7.192456e-02                     0.972500  0.083866   \n",
       "4   1.021357e-01                     0.971875  0.129264   \n",
       "..           ...                          ...       ...   \n",
       "70  2.036981e-07                     1.000000  0.002016   \n",
       "71  1.843267e-07                     1.000000  0.002259   \n",
       "72  1.845503e-07                     1.000000  0.001979   \n",
       "73  1.774721e-07                     1.000000  0.002266   \n",
       "74  1.611555e-07                     1.000000  0.002156   \n",
       "\n",
       "    val_sparse_categorical_accuracy       lr  \n",
       "0                            0.9600  0.00100  \n",
       "1                            0.9775  0.00100  \n",
       "2                            0.9775  0.00100  \n",
       "3                            0.9700  0.00100  \n",
       "4                            0.9600  0.00100  \n",
       "..                              ...      ...  \n",
       "70                           0.9975  0.00025  \n",
       "71                           0.9975  0.00025  \n",
       "72                           0.9975  0.00025  \n",
       "73                           0.9975  0.00025  \n",
       "74                           0.9975  0.00025  \n",
       "\n",
       "[75 rows x 5 columns]"
      ]
     },
     "execution_count": 14,
     "metadata": {},
     "output_type": "execute_result"
    }
   ],
   "source": [
    "df=pd.DataFrame(history)\n",
    "df"
   ]
  },
  {
   "cell_type": "code",
   "execution_count": 15,
   "metadata": {},
   "outputs": [],
   "source": [
    "df.to_csv('model3.csv',index=None)"
   ]
  },
  {
   "cell_type": "code",
   "execution_count": 16,
   "metadata": {},
   "outputs": [],
   "source": [
    "pred_test = autoencoder.predict(x_test)"
   ]
  },
  {
   "cell_type": "code",
   "execution_count": 17,
   "metadata": {},
   "outputs": [
    {
     "data": {
      "text/plain": [
       "(1000, 10)"
      ]
     },
     "execution_count": 17,
     "metadata": {},
     "output_type": "execute_result"
    }
   ],
   "source": [
    "pred_test.shape"
   ]
  },
  {
   "cell_type": "code",
   "execution_count": 18,
   "metadata": {},
   "outputs": [],
   "source": [
    "pre=np.argmax(pred_test,axis=1)"
   ]
  },
  {
   "cell_type": "code",
   "execution_count": 19,
   "metadata": {},
   "outputs": [],
   "source": [
    "test_y=np.argmax(one_hot_test_labels,axis=1)"
   ]
  },
  {
   "cell_type": "code",
   "execution_count": 20,
   "metadata": {},
   "outputs": [],
   "source": [
    "correct_prediction = tf.equal(pre, test_y)\n",
    "acc = tf.reduce_mean(tf.cast(correct_prediction, \"float\"))\n",
    "acc=float(acc)\n",
    "# f1=metrics.f1_"
   ]
  },
  {
   "cell_type": "code",
   "execution_count": 21,
   "metadata": {},
   "outputs": [
    {
     "data": {
      "text/plain": [
       "0.9980000257492065"
      ]
     },
     "execution_count": 21,
     "metadata": {},
     "output_type": "execute_result"
    }
   ],
   "source": [
    "acc"
   ]
  },
  {
   "cell_type": "code",
   "execution_count": null,
   "metadata": {},
   "outputs": [],
   "source": []
  },
  {
   "cell_type": "code",
   "execution_count": null,
   "metadata": {},
   "outputs": [],
   "source": []
  }
 ],
 "metadata": {
  "interpreter": {
   "hash": "09b1f5d785a08b848ded3e9e533b16cd5f7f5e434f6cf7edb3bc46785bd848a2"
  },
  "kernelspec": {
   "display_name": "Python 3.8.12 ('tensorflow')",
   "language": "python",
   "name": "python3"
  },
  "language_info": {
   "codemirror_mode": {
    "name": "ipython",
    "version": 3
   },
   "file_extension": ".py",
   "mimetype": "text/x-python",
   "name": "python",
   "nbconvert_exporter": "python",
   "pygments_lexer": "ipython3",
   "version": "3.8.12"
  },
  "orig_nbformat": 4
 },
 "nbformat": 4,
 "nbformat_minor": 2
}
