{
 "cells": [
  {
   "cell_type": "code",
   "execution_count": 2,
   "metadata": {},
   "outputs": [],
   "source": [
    "import scipy.io as scio\n",
    "import os\n",
    "import numpy as np\n",
    "import sklearn.metrics as metrics\n",
    "from sklearn import svm\n",
    "from tensorflow.keras import layers\n",
    "from tensorflow.keras import models\n",
    "import pandas as pd\n",
    "from sklearn.metrics import f1_score,recall_score,precision_score,auc,accuracy_score,confusion_matrix\n",
    "from sklearn.metrics import precision_recall_curve, average_precision_score,roc_auc_score,roc_curve\n",
    "import matplotlib.pyplot as plt\n",
    "import warnings\n",
    "warnings.filterwarnings('ignore')\n",
    "from itertools import cycle\n",
    "from scipy import interp\n",
    "plt.rcParams['font.sans-serif']=['SimHei'] #用来正常显示中文标签\n",
    "import seaborn as sns"
   ]
  },
  {
   "cell_type": "code",
   "execution_count": 3,
   "metadata": {},
   "outputs": [],
   "source": [
    "import tensorflow as tf\n",
    "from tensorflow.keras.preprocessing import image\n",
    "from tensorflow.keras.optimizers import Adam,Adadelta\n",
    "from tensorflow.keras.callbacks import EarlyStopping\n",
    "from tensorflow.keras.layers import Input, Dense, Activation, BatchNormalization, Flatten, Conv2D,Conv1D,Conv1DTranspose\n",
    "from tensorflow.keras.layers import MaxPooling1D, Dropout, UpSampling1D,MaxPool2D,UpSampling2D\n",
    "import tensorflow as tf\n",
    "import tensorflow.keras as keras\n",
    "import tensorflow.keras.layers as layers\n",
    "import pandas as pd\n",
    "import numpy as np\n",
    "import matplotlib.pyplot as plt\n",
    "# plt.style.use('seaborn')\n",
    "import tensorflow as tf\n",
    "import seaborn as sns\n",
    "from sklearn.model_selection import train_test_split\n",
    "from tensorflow.keras.models import Model, load_model\n",
    "from tensorflow.keras.callbacks import ModelCheckpoint\n",
    "from tensorflow.keras import regularizers\n",
    "from sklearn.preprocessing import StandardScaler,MinMaxScaler\n",
    "from sklearn.metrics import roc_curve, auc, precision_recall_curve\n",
    "from tqdm import notebook\n",
    "import glob\n",
    "import os\n",
    "os.environ['CUDA_VISIBLE_DEVICES'] = \"0\""
   ]
  },
  {
   "cell_type": "code",
   "execution_count": 6,
   "metadata": {},
   "outputs": [],
   "source": [
    "path='./CWRU/'\n",
    "#寻找文件夹下所有的数据文件\n",
    "path_list=os.listdir(path)\n",
    "data_x=[]\n",
    "data_y=[]\n",
    "for i in path_list:\n",
    "    path1=path+i\n",
    "    dd=scio.loadmat(path1)\n",
    "    for j in dd.keys():\n",
    "        #只使用DE的数据\n",
    "        if 'DE' in j:\n",
    "            ddd=dd[j]\n",
    "            #截前12W个数据\n",
    "            data_x.append(ddd[:120000].ravel())\n",
    "            data_y.append(i)"
   ]
  },
  {
   "cell_type": "code",
   "execution_count": 7,
   "metadata": {},
   "outputs": [],
   "source": [
    "#切分成多个样本数据\n",
    "def yuchuli(a,label):\n",
    "    \"\"\"\n",
    "    前200个样本用于训练\n",
    "    后100个样本用于测试\n",
    "    \"\"\"\n",
    "    a  = a.reshape(300,400)\n",
    "    np.random.shuffle(a)\n",
    "    train = a[:200,:]\n",
    "    test = a[200:,:]\n",
    "    label_test =[label for i in range(0,100)]\n",
    "    label_train = [label for i in range(0, 200)]\n",
    "    return train,test,label_train ,label_test\n",
    "\n",
    "\n",
    "\n",
    "#绘制P-R曲线\n",
    "def micro_PR(y_test,y_score):\n",
    "    # 对每一个类别计算性能指标\n",
    "    precision = dict()\n",
    "    recall = dict()\n",
    "    average_precision = dict()\n",
    "    # .shape会返回一个元组，存储行和列，取第二个数，也就是列\n",
    "    n_classes = y_score.shape[1]\n",
    "    for i in range(n_classes):\n",
    "        precision[i], recall[i], _ =  precision_recall_curve(y_test[:, i], y_score[:, i])\n",
    "        average_precision[i] = average_precision_score(y_test[:, i], y_score[:, i])\n",
    "    precision[\"micro\"],  recall[\"micro\"], _ = precision_recall_curve(y_test.ravel(), y_score.ravel())\n",
    "    average_precision[\"micro\"] = average_precision_score(y_test, y_score, average=\"micro\")\n",
    "    return precision, recall, average_precision\n",
    "\n",
    "def plot_a_model_PR_curve(precision,recall,average_precision,title=None,path=None):\n",
    "    plt.figure(figsize=(6,6))\n",
    "    for i in precision.keys():\n",
    "        label = str(i)+\"，AP = {0:0.4f}\".format(average_precision[i])\n",
    "        plt.step(recall[i], precision[i], where='post', lw=2,label=label)\n",
    "    plt.legend()\n",
    "    plt.xlabel(\"Recall\", fontdict={'weight': 'normal', 'size': 15})\n",
    "    plt.ylabel(\"Precision\", fontdict={'weight': 'normal', 'size': 15})\n",
    "    if title != None:\n",
    "        plt.title(title)\n",
    "        \n",
    "    if path!= None:\n",
    "        plt.savefig(path,dpi=700)\n",
    "    plt.show()\n",
    "\n",
    "    \n",
    "#将y转变为onehot向量\n",
    "def to_one_hot(labels,label_dict):\n",
    "    dimension=len(label_dict.keys())\n",
    "    results = np.zeros((len(labels),dimension))\n",
    "    for i,label in enumerate(labels):\n",
    "        results[i,label_dict[label]] = 1\n",
    "    return results"
   ]
  },
  {
   "cell_type": "code",
   "execution_count": 8,
   "metadata": {},
   "outputs": [],
   "source": [
    "#将多条数据的所有样本合并起来\n",
    "x_train,x_test,y_train,y_test=[],[],[],[]\n",
    "for i in range(len(data_x)):\n",
    "    train,test,label_train ,label_test=yuchuli(data_x[i],data_y[i])\n",
    "    x_train+=list(train)\n",
    "    x_test+=list(test)\n",
    "    y_train+=label_train\n",
    "    y_test+=label_test\n",
    "    \n",
    "#转换数据格式\n",
    "x_train=np.array(x_train)\n",
    "x_test=np.array(x_test)\n",
    "\n",
    "#将x转变为二维矩阵，方便CNN训练\n",
    "x_train = x_train.reshape(-1,400,1)\n",
    "x_test = x_test.reshape(-1,400,1)\n",
    "\n",
    "state = np.random.get_state()\n",
    "np.random.shuffle(x_train)\n",
    "np.random.set_state(state)\n",
    "np.random.shuffle(y_train)\n",
    "\n",
    "#转换y的数据格式\n",
    "y_train=np.array(y_train)\n",
    "y_test=np.array(y_test)\n",
    "\n",
    "#生成label的字典，用于将y转换为onehot格式\n",
    "label_dict={}\n",
    "label_dict_anti={}\n",
    "for i,j in enumerate(list(set(list(y_train)+list(y_test)))):\n",
    "    label_dict[j]=i\n",
    "    label_dict_anti[i]=j\n",
    "    \n",
    "\n",
    "one_hot_train_labels = to_one_hot(y_train,label_dict)\n",
    "one_hot_test_labels = to_one_hot(y_test,label_dict)\n",
    "\n",
    "y_test_transform=np.argmax(one_hot_test_labels,axis=1)\n",
    "y_train_transform=np.argmax(one_hot_train_labels,axis=1)\n",
    "\n",
    "input_shape=x_train.shape[1:]\n",
    "output=one_hot_train_labels.shape[1]"
   ]
  },
  {
   "cell_type": "code",
   "execution_count": 9,
   "metadata": {},
   "outputs": [
    {
     "data": {
      "text/plain": [
       "array([[0., 0., 0., ..., 0., 0., 0.],\n",
       "       [0., 0., 0., ..., 0., 0., 0.],\n",
       "       [0., 0., 0., ..., 1., 0., 0.],\n",
       "       ...,\n",
       "       [0., 0., 0., ..., 1., 0., 0.],\n",
       "       [0., 0., 1., ..., 0., 0., 0.],\n",
       "       [0., 0., 0., ..., 0., 0., 0.]])"
      ]
     },
     "execution_count": 9,
     "metadata": {},
     "output_type": "execute_result"
    }
   ],
   "source": [
    "one_hot_train_labels"
   ]
  },
  {
   "cell_type": "code",
   "execution_count": 10,
   "metadata": {},
   "outputs": [
    {
     "data": {
      "text/plain": [
       "((2000, 400, 1), (1000, 400, 1))"
      ]
     },
     "execution_count": 10,
     "metadata": {},
     "output_type": "execute_result"
    }
   ],
   "source": [
    "x_train.shape,x_test.shape"
   ]
  },
  {
   "cell_type": "code",
   "execution_count": 8,
   "metadata": {},
   "outputs": [
    {
     "data": {
      "text/plain": [
       "((2000,), (1000,))"
      ]
     },
     "execution_count": 8,
     "metadata": {},
     "output_type": "execute_result"
    }
   ],
   "source": [
    "y_train_transform.shape,y_test_transform.shape"
   ]
  },
  {
   "cell_type": "markdown",
   "metadata": {},
   "source": [
    "Model"
   ]
  },
  {
   "cell_type": "code",
   "execution_count": 9,
   "metadata": {},
   "outputs": [
    {
     "data": {
      "text/plain": [
       "10"
      ]
     },
     "execution_count": 9,
     "metadata": {},
     "output_type": "execute_result"
    }
   ],
   "source": [
    "num_classes = len(np.unique(y_train_transform))\n",
    "num_classes"
   ]
  },
  {
   "cell_type": "code",
   "execution_count": 10,
   "metadata": {},
   "outputs": [
    {
     "name": "stdout",
     "output_type": "stream",
     "text": [
      "Model: \"model\"\n",
      "_________________________________________________________________\n",
      " Layer (type)                Output Shape              Param #   \n",
      "=================================================================\n",
      " input_1 (InputLayer)        [(None, 400, 1)]          0         \n",
      "                                                                 \n",
      " conv1d (Conv1D)             (None, 200, 32)           352       \n",
      "                                                                 \n",
      " batch_normalization (BatchN  (None, 200, 32)          128       \n",
      " ormalization)                                                   \n",
      "                                                                 \n",
      " conv1d_1 (Conv1D)           (None, 100, 30)           9630      \n",
      "                                                                 \n",
      " conv1d_2 (Conv1D)           (None, 50, 30)            9030      \n",
      "                                                                 \n",
      " flatten (Flatten)           (None, 1500)              0         \n",
      "                                                                 \n",
      " dense (Dense)               (None, 10)                15010     \n",
      "                                                                 \n",
      "=================================================================\n",
      "Total params: 34,150\n",
      "Trainable params: 34,086\n",
      "Non-trainable params: 64\n",
      "_________________________________________________________________\n"
     ]
    }
   ],
   "source": [
    "input_img = Input(shape=(400,1)) # Tensorflow后端， 注意要用channel_last\n",
    "# 编码器部分\n",
    "x = Conv1D(32, 10, activation='relu', padding='same',strides=2)(input_img)\n",
    "x = tf.keras.layers.BatchNormalization()(x)\n",
    "x = Conv1D(30, 10, activation='relu', padding='same',strides=2)(x)\n",
    "x = Conv1D(30, 10, activation='relu', padding='same',strides=2)(x)\n",
    "x=Flatten()(x)\n",
    "decoded=Dense(10,activation='softmax')(x)\n",
    "                 \n",
    "\n",
    "autoencoder = Model(input_img, decoded)\n",
    "autoencoder.compile(optimizer='adam',loss='sparse_categorical_crossentropy',metrics=['sparse_categorical_accuracy'])   \n",
    "autoencoder.summary()"
   ]
  },
  {
   "cell_type": "code",
   "execution_count": 11,
   "metadata": {},
   "outputs": [
    {
     "name": "stdout",
     "output_type": "stream",
     "text": [
      "Epoch 1/100\n",
      "100/100 [==============================] - 4s 5ms/step - loss: 1.5312 - sparse_categorical_accuracy: 0.4112 - val_loss: 1.8506 - val_sparse_categorical_accuracy: 0.6300 - lr: 0.0010\n",
      "Epoch 2/100\n",
      "100/100 [==============================] - 0s 4ms/step - loss: 0.4774 - sparse_categorical_accuracy: 0.8344 - val_loss: 1.2824 - val_sparse_categorical_accuracy: 0.6200 - lr: 0.0010\n",
      "Epoch 3/100\n",
      "100/100 [==============================] - 0s 4ms/step - loss: 0.1767 - sparse_categorical_accuracy: 0.9381 - val_loss: 0.7521 - val_sparse_categorical_accuracy: 0.8500 - lr: 0.0010\n",
      "Epoch 4/100\n",
      "100/100 [==============================] - 0s 4ms/step - loss: 0.0877 - sparse_categorical_accuracy: 0.9725 - val_loss: 0.3564 - val_sparse_categorical_accuracy: 0.8950 - lr: 0.0010\n",
      "Epoch 5/100\n",
      "100/100 [==============================] - 0s 3ms/step - loss: 0.0457 - sparse_categorical_accuracy: 0.9881 - val_loss: 0.1363 - val_sparse_categorical_accuracy: 0.9600 - lr: 0.0010\n",
      "Epoch 6/100\n",
      "100/100 [==============================] - 0s 4ms/step - loss: 0.0210 - sparse_categorical_accuracy: 0.9975 - val_loss: 0.0857 - val_sparse_categorical_accuracy: 0.9825 - lr: 0.0010\n",
      "Epoch 7/100\n",
      "100/100 [==============================] - 0s 4ms/step - loss: 0.0149 - sparse_categorical_accuracy: 0.9962 - val_loss: 0.0434 - val_sparse_categorical_accuracy: 0.9925 - lr: 0.0010\n",
      "Epoch 8/100\n",
      "100/100 [==============================] - 0s 4ms/step - loss: 0.0124 - sparse_categorical_accuracy: 0.9981 - val_loss: 0.0431 - val_sparse_categorical_accuracy: 0.9825 - lr: 0.0010\n",
      "Epoch 9/100\n",
      "100/100 [==============================] - 0s 3ms/step - loss: 0.0164 - sparse_categorical_accuracy: 0.9950 - val_loss: 0.1254 - val_sparse_categorical_accuracy: 0.9550 - lr: 0.0010\n",
      "Epoch 10/100\n",
      "100/100 [==============================] - 0s 4ms/step - loss: 0.0095 - sparse_categorical_accuracy: 0.9969 - val_loss: 0.0500 - val_sparse_categorical_accuracy: 0.9900 - lr: 0.0010\n",
      "Epoch 11/100\n",
      "100/100 [==============================] - 0s 4ms/step - loss: 0.0051 - sparse_categorical_accuracy: 0.9994 - val_loss: 0.0291 - val_sparse_categorical_accuracy: 0.9950 - lr: 0.0010\n",
      "Epoch 12/100\n",
      "100/100 [==============================] - 0s 4ms/step - loss: 0.0040 - sparse_categorical_accuracy: 0.9994 - val_loss: 0.0494 - val_sparse_categorical_accuracy: 0.9900 - lr: 0.0010\n",
      "Epoch 13/100\n",
      "100/100 [==============================] - 0s 4ms/step - loss: 0.0052 - sparse_categorical_accuracy: 0.9987 - val_loss: 0.0568 - val_sparse_categorical_accuracy: 0.9900 - lr: 0.0010\n",
      "Epoch 14/100\n",
      "100/100 [==============================] - 0s 3ms/step - loss: 0.0701 - sparse_categorical_accuracy: 0.9775 - val_loss: 0.1122 - val_sparse_categorical_accuracy: 0.9850 - lr: 0.0010\n",
      "Epoch 15/100\n",
      "100/100 [==============================] - 0s 3ms/step - loss: 0.0583 - sparse_categorical_accuracy: 0.9819 - val_loss: 0.2840 - val_sparse_categorical_accuracy: 0.9375 - lr: 0.0010\n",
      "Epoch 16/100\n",
      "100/100 [==============================] - 0s 4ms/step - loss: 0.0626 - sparse_categorical_accuracy: 0.9800 - val_loss: 0.0706 - val_sparse_categorical_accuracy: 0.9650 - lr: 0.0010\n",
      "Epoch 17/100\n",
      "100/100 [==============================] - 1s 5ms/step - loss: 0.0136 - sparse_categorical_accuracy: 0.9937 - val_loss: 0.0102 - val_sparse_categorical_accuracy: 0.9975 - lr: 0.0010\n",
      "Epoch 18/100\n",
      "100/100 [==============================] - 0s 4ms/step - loss: 0.0013 - sparse_categorical_accuracy: 1.0000 - val_loss: 0.0082 - val_sparse_categorical_accuracy: 0.9950 - lr: 0.0010\n",
      "Epoch 19/100\n",
      "100/100 [==============================] - 0s 4ms/step - loss: 0.0034 - sparse_categorical_accuracy: 0.9994 - val_loss: 0.0148 - val_sparse_categorical_accuracy: 0.9950 - lr: 0.0010\n",
      "Epoch 20/100\n",
      "100/100 [==============================] - 0s 4ms/step - loss: 0.0146 - sparse_categorical_accuracy: 0.9962 - val_loss: 0.0992 - val_sparse_categorical_accuracy: 0.9650 - lr: 0.0010\n",
      "Epoch 21/100\n",
      "100/100 [==============================] - 0s 4ms/step - loss: 0.0167 - sparse_categorical_accuracy: 0.9931 - val_loss: 0.0311 - val_sparse_categorical_accuracy: 0.9825 - lr: 0.0010\n",
      "Epoch 22/100\n",
      "100/100 [==============================] - 0s 4ms/step - loss: 0.0241 - sparse_categorical_accuracy: 0.9925 - val_loss: 0.0850 - val_sparse_categorical_accuracy: 0.9825 - lr: 0.0010\n",
      "Epoch 23/100\n",
      "100/100 [==============================] - 0s 3ms/step - loss: 0.0253 - sparse_categorical_accuracy: 0.9944 - val_loss: 0.0632 - val_sparse_categorical_accuracy: 0.9775 - lr: 0.0010\n",
      "Epoch 24/100\n",
      "100/100 [==============================] - 0s 3ms/step - loss: 0.0045 - sparse_categorical_accuracy: 0.9994 - val_loss: 0.0376 - val_sparse_categorical_accuracy: 0.9875 - lr: 0.0010\n",
      "Epoch 25/100\n",
      "100/100 [==============================] - 0s 3ms/step - loss: 0.0033 - sparse_categorical_accuracy: 0.9987 - val_loss: 0.0129 - val_sparse_categorical_accuracy: 0.9950 - lr: 0.0010\n",
      "Epoch 26/100\n",
      "100/100 [==============================] - 0s 3ms/step - loss: 0.0019 - sparse_categorical_accuracy: 0.9994 - val_loss: 0.0821 - val_sparse_categorical_accuracy: 0.9875 - lr: 0.0010\n",
      "Epoch 27/100\n",
      "100/100 [==============================] - 0s 3ms/step - loss: 0.0186 - sparse_categorical_accuracy: 0.9956 - val_loss: 0.1795 - val_sparse_categorical_accuracy: 0.9725 - lr: 0.0010\n",
      "Epoch 28/100\n",
      "100/100 [==============================] - 0s 3ms/step - loss: 0.0330 - sparse_categorical_accuracy: 0.9912 - val_loss: 0.0383 - val_sparse_categorical_accuracy: 0.9850 - lr: 0.0010\n",
      "Epoch 29/100\n",
      "100/100 [==============================] - 0s 3ms/step - loss: 0.0076 - sparse_categorical_accuracy: 0.9969 - val_loss: 0.1217 - val_sparse_categorical_accuracy: 0.9800 - lr: 0.0010\n",
      "Epoch 30/100\n",
      "100/100 [==============================] - 0s 3ms/step - loss: 0.0361 - sparse_categorical_accuracy: 0.9875 - val_loss: 0.2549 - val_sparse_categorical_accuracy: 0.9375 - lr: 0.0010\n",
      "Epoch 31/100\n",
      "100/100 [==============================] - 0s 3ms/step - loss: 0.0499 - sparse_categorical_accuracy: 0.9850 - val_loss: 0.0188 - val_sparse_categorical_accuracy: 0.9950 - lr: 0.0010\n",
      "Epoch 32/100\n",
      "100/100 [==============================] - 0s 3ms/step - loss: 0.0209 - sparse_categorical_accuracy: 0.9925 - val_loss: 0.0116 - val_sparse_categorical_accuracy: 0.9950 - lr: 0.0010\n",
      "Epoch 33/100\n",
      "100/100 [==============================] - 0s 3ms/step - loss: 0.0295 - sparse_categorical_accuracy: 0.9937 - val_loss: 0.0168 - val_sparse_categorical_accuracy: 0.9925 - lr: 0.0010\n",
      "Epoch 34/100\n",
      "100/100 [==============================] - 0s 3ms/step - loss: 0.0053 - sparse_categorical_accuracy: 0.9994 - val_loss: 0.0166 - val_sparse_categorical_accuracy: 0.9925 - lr: 0.0010\n",
      "Epoch 35/100\n",
      "100/100 [==============================] - 0s 3ms/step - loss: 6.9033e-04 - sparse_categorical_accuracy: 1.0000 - val_loss: 0.0194 - val_sparse_categorical_accuracy: 0.9925 - lr: 0.0010\n",
      "Epoch 36/100\n",
      "100/100 [==============================] - 0s 3ms/step - loss: 4.0032e-04 - sparse_categorical_accuracy: 1.0000 - val_loss: 0.0171 - val_sparse_categorical_accuracy: 0.9950 - lr: 0.0010\n",
      "Epoch 37/100\n",
      "100/100 [==============================] - 0s 3ms/step - loss: 6.6577e-04 - sparse_categorical_accuracy: 0.9994 - val_loss: 0.0602 - val_sparse_categorical_accuracy: 0.9875 - lr: 0.0010\n",
      "Epoch 38/100\n",
      "100/100 [==============================] - 0s 3ms/step - loss: 0.0018 - sparse_categorical_accuracy: 0.9987 - val_loss: 0.0959 - val_sparse_categorical_accuracy: 0.9750 - lr: 0.0010\n",
      "Epoch 39/100\n",
      "100/100 [==============================] - 0s 3ms/step - loss: 6.9112e-04 - sparse_categorical_accuracy: 1.0000 - val_loss: 0.0321 - val_sparse_categorical_accuracy: 0.9875 - lr: 5.0000e-04\n",
      "Epoch 40/100\n",
      "100/100 [==============================] - 0s 3ms/step - loss: 1.8074e-04 - sparse_categorical_accuracy: 1.0000 - val_loss: 0.0215 - val_sparse_categorical_accuracy: 0.9950 - lr: 5.0000e-04\n",
      "Epoch 41/100\n",
      "100/100 [==============================] - 0s 3ms/step - loss: 5.3376e-04 - sparse_categorical_accuracy: 1.0000 - val_loss: 0.0222 - val_sparse_categorical_accuracy: 0.9950 - lr: 5.0000e-04\n",
      "Epoch 42/100\n",
      "100/100 [==============================] - 0s 3ms/step - loss: 2.6453e-04 - sparse_categorical_accuracy: 1.0000 - val_loss: 0.0183 - val_sparse_categorical_accuracy: 0.9950 - lr: 5.0000e-04\n",
      "Epoch 43/100\n",
      "100/100 [==============================] - 0s 3ms/step - loss: 8.4928e-05 - sparse_categorical_accuracy: 1.0000 - val_loss: 0.0182 - val_sparse_categorical_accuracy: 0.9950 - lr: 5.0000e-04\n",
      "Epoch 44/100\n",
      "100/100 [==============================] - 0s 3ms/step - loss: 1.4698e-04 - sparse_categorical_accuracy: 1.0000 - val_loss: 0.0195 - val_sparse_categorical_accuracy: 0.9950 - lr: 5.0000e-04\n",
      "Epoch 45/100\n",
      "100/100 [==============================] - 0s 3ms/step - loss: 1.9903e-04 - sparse_categorical_accuracy: 1.0000 - val_loss: 0.0197 - val_sparse_categorical_accuracy: 0.9950 - lr: 5.0000e-04\n",
      "Epoch 46/100\n",
      "100/100 [==============================] - 0s 3ms/step - loss: 5.9577e-05 - sparse_categorical_accuracy: 1.0000 - val_loss: 0.0187 - val_sparse_categorical_accuracy: 0.9975 - lr: 5.0000e-04\n",
      "Epoch 47/100\n",
      "100/100 [==============================] - 0s 3ms/step - loss: 5.3274e-05 - sparse_categorical_accuracy: 1.0000 - val_loss: 0.0195 - val_sparse_categorical_accuracy: 0.9950 - lr: 5.0000e-04\n",
      "Epoch 48/100\n",
      "100/100 [==============================] - 0s 3ms/step - loss: 5.0502e-05 - sparse_categorical_accuracy: 1.0000 - val_loss: 0.0193 - val_sparse_categorical_accuracy: 0.9950 - lr: 5.0000e-04\n",
      "Epoch 49/100\n",
      "100/100 [==============================] - 0s 3ms/step - loss: 1.5540e-04 - sparse_categorical_accuracy: 1.0000 - val_loss: 0.0230 - val_sparse_categorical_accuracy: 0.9950 - lr: 5.0000e-04\n",
      "Epoch 50/100\n",
      "100/100 [==============================] - 0s 3ms/step - loss: 3.6922e-05 - sparse_categorical_accuracy: 1.0000 - val_loss: 0.0209 - val_sparse_categorical_accuracy: 0.9950 - lr: 5.0000e-04\n",
      "Epoch 51/100\n",
      "100/100 [==============================] - 0s 3ms/step - loss: 6.7411e-05 - sparse_categorical_accuracy: 1.0000 - val_loss: 0.0201 - val_sparse_categorical_accuracy: 0.9950 - lr: 5.0000e-04\n",
      "Epoch 52/100\n",
      "100/100 [==============================] - 0s 3ms/step - loss: 0.0031 - sparse_categorical_accuracy: 0.9987 - val_loss: 0.0269 - val_sparse_categorical_accuracy: 0.9925 - lr: 5.0000e-04\n",
      "Epoch 53/100\n",
      "100/100 [==============================] - 0s 3ms/step - loss: 1.9954e-04 - sparse_categorical_accuracy: 1.0000 - val_loss: 0.0133 - val_sparse_categorical_accuracy: 0.9950 - lr: 5.0000e-04\n",
      "Epoch 54/100\n",
      "100/100 [==============================] - 0s 3ms/step - loss: 1.2129e-04 - sparse_categorical_accuracy: 1.0000 - val_loss: 0.0129 - val_sparse_categorical_accuracy: 0.9975 - lr: 5.0000e-04\n",
      "Epoch 55/100\n",
      "100/100 [==============================] - 0s 3ms/step - loss: 4.0109e-05 - sparse_categorical_accuracy: 1.0000 - val_loss: 0.0135 - val_sparse_categorical_accuracy: 0.9950 - lr: 5.0000e-04\n",
      "Epoch 56/100\n",
      "100/100 [==============================] - 0s 3ms/step - loss: 8.7410e-05 - sparse_categorical_accuracy: 1.0000 - val_loss: 0.0144 - val_sparse_categorical_accuracy: 0.9975 - lr: 5.0000e-04\n",
      "Epoch 57/100\n",
      "100/100 [==============================] - 0s 3ms/step - loss: 5.6004e-05 - sparse_categorical_accuracy: 1.0000 - val_loss: 0.0148 - val_sparse_categorical_accuracy: 0.9975 - lr: 5.0000e-04\n",
      "Epoch 58/100\n",
      "100/100 [==============================] - 0s 3ms/step - loss: 7.8533e-05 - sparse_categorical_accuracy: 1.0000 - val_loss: 0.0152 - val_sparse_categorical_accuracy: 0.9975 - lr: 5.0000e-04\n",
      "Epoch 59/100\n",
      "100/100 [==============================] - 0s 3ms/step - loss: 5.6719e-05 - sparse_categorical_accuracy: 1.0000 - val_loss: 0.0152 - val_sparse_categorical_accuracy: 0.9975 - lr: 2.5000e-04\n",
      "Epoch 60/100\n",
      "100/100 [==============================] - 0s 3ms/step - loss: 3.1315e-05 - sparse_categorical_accuracy: 1.0000 - val_loss: 0.0153 - val_sparse_categorical_accuracy: 0.9950 - lr: 2.5000e-04\n",
      "Epoch 61/100\n",
      "100/100 [==============================] - 0s 3ms/step - loss: 3.2790e-05 - sparse_categorical_accuracy: 1.0000 - val_loss: 0.0155 - val_sparse_categorical_accuracy: 0.9950 - lr: 2.5000e-04\n",
      "Epoch 62/100\n",
      "100/100 [==============================] - 0s 3ms/step - loss: 7.9255e-05 - sparse_categorical_accuracy: 1.0000 - val_loss: 0.0156 - val_sparse_categorical_accuracy: 0.9975 - lr: 2.5000e-04\n",
      "Epoch 63/100\n",
      "100/100 [==============================] - 0s 3ms/step - loss: 1.2417e-04 - sparse_categorical_accuracy: 1.0000 - val_loss: 0.0165 - val_sparse_categorical_accuracy: 0.9950 - lr: 2.5000e-04\n",
      "Epoch 64/100\n",
      "100/100 [==============================] - 0s 3ms/step - loss: 3.2095e-05 - sparse_categorical_accuracy: 1.0000 - val_loss: 0.0165 - val_sparse_categorical_accuracy: 0.9950 - lr: 2.5000e-04\n",
      "Epoch 65/100\n",
      "100/100 [==============================] - 0s 3ms/step - loss: 2.9124e-05 - sparse_categorical_accuracy: 1.0000 - val_loss: 0.0168 - val_sparse_categorical_accuracy: 0.9950 - lr: 2.5000e-04\n",
      "Epoch 66/100\n",
      "100/100 [==============================] - 0s 3ms/step - loss: 5.1814e-05 - sparse_categorical_accuracy: 1.0000 - val_loss: 0.0169 - val_sparse_categorical_accuracy: 0.9975 - lr: 2.5000e-04\n",
      "Epoch 67/100\n",
      "100/100 [==============================] - 0s 3ms/step - loss: 2.1757e-05 - sparse_categorical_accuracy: 1.0000 - val_loss: 0.0172 - val_sparse_categorical_accuracy: 0.9950 - lr: 2.5000e-04\n",
      "Epoch 68/100\n",
      "100/100 [==============================] - 0s 3ms/step - loss: 1.5370e-05 - sparse_categorical_accuracy: 1.0000 - val_loss: 0.0168 - val_sparse_categorical_accuracy: 0.9975 - lr: 2.5000e-04\n",
      "Epoch 68: early stopping\n"
     ]
    }
   ],
   "source": [
    "callbacks = [\n",
    "    keras.callbacks.ModelCheckpoint(\n",
    "        \"best_model.h5\", save_best_only=True, monitor=\"val_loss\"\n",
    "    ),\n",
    "    keras.callbacks.ReduceLROnPlateau(\n",
    "        monitor=\"val_loss\", factor=0.5, patience=20, min_lr=0.0001\n",
    "    ),\n",
    "    keras.callbacks.EarlyStopping(monitor=\"val_loss\", patience=50, verbose=1),\n",
    "]\n",
    "history = autoencoder.fit(x_train, \n",
    "                            y_train_transform,\n",
    "                          epochs=100,\n",
    "                          batch_size=16,\n",
    "                        #   shuffle=True,\n",
    "                          validation_split=0.2,\n",
    "                          verbose=1, \n",
    "                          callbacks=callbacks).history"
   ]
  },
  {
   "cell_type": "code",
   "execution_count": 12,
   "metadata": {},
   "outputs": [
    {
     "data": {
      "text/plain": [
       "<matplotlib.legend.Legend at 0x257b5a328b0>"
      ]
     },
     "execution_count": 12,
     "metadata": {},
     "output_type": "execute_result"
    },
    {
     "data": {
      "image/png": "[encoded data removed]",
      "text/plain": [
       "<Figure size 1008x576 with 1 Axes>"
      ]
     },
     "metadata": {
      "needs_background": "light"
     },
     "output_type": "display_data"
    }
   ],
   "source": [
    "import seaborn as sns\n",
    "# # plt.figure(figsize=(14, 5))\n",
    "# plt.subplot(121)\n",
    "plt.figure(figsize=(14,8))\n",
    "# # sns.set(font_scale = 0.5)\n",
    "plt.plot(history['loss'][:], c='red', lw=3)\n",
    "plt.plot(history['val_loss'][:], c='blue', lw=3)\n",
    "plt.title('model loss')\n",
    "plt.ylabel('loss'); plt.xlabel('epoch')\n",
    "plt.legend(['train', 'val'], loc='upper right')"
   ]
  },
  {
   "cell_type": "code",
   "execution_count": 13,
   "metadata": {},
   "outputs": [
    {
     "data": {
      "text/plain": [
       "<matplotlib.legend.Legend at 0x257bcc77be0>"
      ]
     },
     "execution_count": 13,
     "metadata": {},
     "output_type": "execute_result"
    },
    {
     "data": {
      "image/png": "[encoded data removed]",
      "text/plain": [
       "<Figure size 1008x576 with 1 Axes>"
      ]
     },
     "metadata": {
      "needs_background": "light"
     },
     "output_type": "display_data"
    }
   ],
   "source": [
    "import seaborn as sns\n",
    "# # plt.figure(figsize=(14, 5))\n",
    "# plt.subplot(121)\n",
    "plt.figure(figsize=(14,8))\n",
    "# # sns.set(font_scale = 0.5)\n",
    "plt.plot(history['sparse_categorical_accuracy'][:], c='red', lw=3)\n",
    "plt.plot(history['val_sparse_categorical_accuracy'][:], c='blue', lw=3)\n",
    "plt.title('model accuracy')\n",
    "plt.ylabel('loss'); plt.xlabel('epoch')\n",
    "plt.legend(['train', 'val'], loc='upper right')"
   ]
  },
  {
   "cell_type": "code",
   "execution_count": 14,
   "metadata": {},
   "outputs": [],
   "source": [
    "pred_test = autoencoder.predict(x_test)"
   ]
  },
  {
   "cell_type": "code",
   "execution_count": 15,
   "metadata": {},
   "outputs": [
    {
     "data": {
      "text/plain": [
       "(1000, 10)"
      ]
     },
     "execution_count": 15,
     "metadata": {},
     "output_type": "execute_result"
    }
   ],
   "source": [
    "pred_test.shape"
   ]
  },
  {
   "cell_type": "code",
   "execution_count": 16,
   "metadata": {},
   "outputs": [],
   "source": [
    "#返回数组中最大的索引值，二维：0--外层 1--内层\n",
    "pre=np.argmax(pred_test,axis=1)"
   ]
  },
  {
   "cell_type": "code",
   "execution_count": 17,
   "metadata": {},
   "outputs": [],
   "source": [
    "test_y=np.argmax(one_hot_test_labels,axis=1)"
   ]
  },
  {
   "cell_type": "code",
   "execution_count": 18,
   "metadata": {},
   "outputs": [],
   "source": [
    "correct_prediction = tf.equal(pre, test_y)\n",
    "acc = tf.reduce_mean(tf.cast(correct_prediction, \"float\"))\n",
    "acc=float(acc)\n",
    "# f1=metrics.f1_"
   ]
  },
  {
   "cell_type": "code",
   "execution_count": 19,
   "metadata": {},
   "outputs": [
    {
     "data": {
      "text/plain": [
       "0.9879999756813049"
      ]
     },
     "execution_count": 19,
     "metadata": {},
     "output_type": "execute_result"
    }
   ],
   "source": [
    "acc"
   ]
  },
  {
   "cell_type": "code",
   "execution_count": null,
   "metadata": {},
   "outputs": [],
   "source": []
  }
 ],
 "metadata": {
  "interpreter": {
   "hash": "09b1f5d785a08b848ded3e9e533b16cd5f7f5e434f6cf7edb3bc46785bd848a2"
  },
  "kernelspec": {
   "display_name": "Python 3.8.12 ('tensorflow')",
   "language": "python",
   "name": "python3"
  },
  "language_info": {
   "codemirror_mode": {
    "name": "ipython",
    "version": 3
   },
   "file_extension": ".py",
   "mimetype": "text/x-python",
   "name": "python",
   "nbconvert_exporter": "python",
   "pygments_lexer": "ipython3",
   "version": "3.8.8"
  },
  "orig_nbformat": 4
 },
 "nbformat": 4,
 "nbformat_minor": 2
}
