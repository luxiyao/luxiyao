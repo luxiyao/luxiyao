{
 "cells": [
  {
   "cell_type": "code",
   "execution_count": 1,
   "metadata": {},
   "outputs": [],
   "source": [
    "import scipy.io as scio\n",
    "import os\n",
    "import numpy as np\n",
    "import sklearn.metrics as metrics\n",
    "# from keras import layers\n",
    "# from keras import models\n",
    "import pandas as pd\n",
    "# from sklearn.metrics import f1_score,recall_score,precision_score,auc,accuracy_score,confusion_matrix\n",
    "# from sklearn.metrics import precision_recall_curve, average_precision_score,roc_auc_score,roc_curve\n",
    "import matplotlib.pyplot as plt\n",
    "import warnings\n",
    "warnings.filterwarnings('ignore')\n",
    "from itertools import cycle\n",
    "from scipy import interp\n",
    "plt.rcParams['font.sans-serif']=['SimHei'] #用来正常显示中文标签\n",
    "import seaborn as sns"
   ]
  },
  {
   "cell_type": "code",
   "execution_count": 2,
   "metadata": {},
   "outputs": [],
   "source": [
    "import tensorflow as tf\n",
    "from tensorflow.keras.preprocessing import image\n",
    "from tensorflow.keras.optimizers import Adam,Adadelta\n",
    "from tensorflow.keras.callbacks import EarlyStopping\n",
    "from tensorflow.keras.layers import Input, Dense, Activation, BatchNormalization, Flatten, Conv2D,Conv1D,Conv1DTranspose\n",
    "from tensorflow.keras.layers import MaxPooling1D, Dropout, UpSampling1D,MaxPool2D,UpSampling2D\n",
    "import tensorflow as tf\n",
    "import tensorflow.keras as keras\n",
    "import tensorflow.keras.layers as layers\n",
    "import pandas as pd\n",
    "import numpy as np\n",
    "import matplotlib.pyplot as plt\n",
    "# plt.style.use('seaborn')\n",
    "import tensorflow as tf\n",
    "import seaborn as sns\n",
    "from sklearn.model_selection import train_test_split\n",
    "from tensorflow.keras.models import Model, load_model\n",
    "from tensorflow.keras.callbacks import ModelCheckpoint\n",
    "from tensorflow.keras import regularizers\n",
    "from sklearn.preprocessing import StandardScaler,MinMaxScaler\n",
    "from sklearn.metrics import roc_curve, auc, precision_recall_curve\n",
    "from tqdm import notebook\n",
    "import glob\n",
    "import os\n",
    "os.environ['CUDA_VISIBLE_DEVICES'] = \"0\""
   ]
  },
  {
   "cell_type": "code",
   "execution_count": 3,
   "metadata": {},
   "outputs": [],
   "source": [
    "path='./CWRU/'\n",
    "#寻找文件夹下所有的数据文件\n",
    "path_list=os.listdir(path)\n",
    "data_x=[]\n",
    "data_y=[]\n",
    "for i in path_list:\n",
    "    path1=path+i\n",
    "    dd=scio.loadmat(path1)\n",
    "    for j in dd.keys():\n",
    "        #只使用DE的数据\n",
    "        if 'DE' in j:\n",
    "            ddd=dd[j]\n",
    "            #截前12W个数据\n",
    "            data_x.append(ddd[:120000].ravel())\n",
    "            data_y.append(i)"
   ]
  },
  {
   "cell_type": "code",
   "execution_count": 4,
   "metadata": {},
   "outputs": [],
   "source": [
    "#切分成多个样本数据\n",
    "def yuchuli(a,label):\n",
    "    \"\"\"\n",
    "    前200个样本用于训练\n",
    "    后100个样本用于测试\n",
    "    \"\"\"\n",
    "    a  = a.reshape(300,400)\n",
    "    np.random.shuffle(a)\n",
    "    train = a[:200,:]\n",
    "    test = a[200:,:]\n",
    "    label_test =[label for i in range(0,100)]\n",
    "    label_train = [label for i in range(0, 200)]\n",
    "    return train,test,label_train ,label_test\n",
    "\n",
    "\n",
    "\n",
    "#绘制P-R曲线\n",
    "def micro_PR(y_test,y_score):\n",
    "    # 对每一个类别计算性能指标\n",
    "    precision = dict()\n",
    "    recall = dict()\n",
    "    average_precision = dict()\n",
    "    # .shape会返回一个元组，存储行和列，取第二个数，也就是列\n",
    "    n_classes = y_score.shape[1]\n",
    "    for i in range(n_classes):\n",
    "        precision[i], recall[i], _ =  precision_recall_curve(y_test[:, i], y_score[:, i])\n",
    "        average_precision[i] = average_precision_score(y_test[:, i], y_score[:, i])\n",
    "    precision[\"micro\"],  recall[\"micro\"], _ = precision_recall_curve(y_test.ravel(), y_score.ravel())\n",
    "    average_precision[\"micro\"] = average_precision_score(y_test, y_score, average=\"micro\")\n",
    "    return precision, recall, average_precision\n",
    "\n",
    "def plot_a_model_PR_curve(precision,recall,average_precision,title=None,path=None):\n",
    "    plt.figure(figsize=(6,6))\n",
    "    for i in precision.keys():\n",
    "        label = str(i)+\"，AP = {0:0.4f}\".format(average_precision[i])\n",
    "        plt.step(recall[i], precision[i], where='post', lw=2,label=label)\n",
    "    plt.legend()\n",
    "    plt.xlabel(\"Recall\", fontdict={'weight': 'normal', 'size': 15})\n",
    "    plt.ylabel(\"Precision\", fontdict={'weight': 'normal', 'size': 15})\n",
    "    if title != None:\n",
    "        plt.title(title)\n",
    "        \n",
    "    if path!= None:\n",
    "        plt.savefig(path,dpi=700)\n",
    "    plt.show()\n",
    "\n",
    "    \n",
    "#将y转变为onehot向量\n",
    "def to_one_hot(labels,label_dict):\n",
    "    dimension=len(label_dict.keys())\n",
    "    results = np.zeros((len(labels),dimension))\n",
    "    for i,label in enumerate(labels):\n",
    "        results[i,label_dict[label]] = 1\n",
    "    return results"
   ]
  },
  {
   "cell_type": "code",
   "execution_count": 5,
   "metadata": {},
   "outputs": [],
   "source": [
    "#将多条数据的所有样本合并起来\n",
    "x_train,x_test,y_train,y_test=[],[],[],[]\n",
    "for i in range(len(data_x)):\n",
    "    train,test,label_train ,label_test=yuchuli(data_x[i],data_y[i])\n",
    "    x_train+=list(train)\n",
    "    x_test+=list(test)\n",
    "    y_train+=label_train\n",
    "    y_test+=label_test\n",
    "    \n",
    "#转换数据格式\n",
    "x_train=np.array(x_train)\n",
    "x_test=np.array(x_test)\n",
    "\n",
    "#将x转变为二维矩阵，方便CNN训练\n",
    "x_train = x_train.reshape(-1,400,1)\n",
    "x_test = x_test.reshape(-1,400,1)\n",
    "\n",
    "state = np.random.get_state()\n",
    "np.random.shuffle(x_train)\n",
    "np.random.set_state(state)\n",
    "np.random.shuffle(y_train)\n",
    "\n",
    "#转换y的数据格式\n",
    "y_train=np.array(y_train)\n",
    "y_test=np.array(y_test)\n",
    "\n",
    "#生成label的字典，用于将y转换为onehot格式\n",
    "label_dict={}\n",
    "label_dict_anti={}\n",
    "for i,j in enumerate(list(set(list(y_train)+list(y_test)))):\n",
    "    label_dict[j]=i\n",
    "    label_dict_anti[i]=j\n",
    "    \n",
    "\n",
    "one_hot_train_labels = to_one_hot(y_train,label_dict)\n",
    "one_hot_test_labels = to_one_hot(y_test,label_dict)\n",
    "\n",
    "y_test_transform=np.argmax(one_hot_test_labels,axis=1)\n",
    "y_train_transform=np.argmax(one_hot_train_labels,axis=1)\n",
    "\n",
    "input_shape=x_train.shape[1:]\n",
    "output=one_hot_train_labels.shape[1]"
   ]
  },
  {
   "cell_type": "code",
   "execution_count": 6,
   "metadata": {},
   "outputs": [
    {
     "data": {
      "text/plain": [
       "array([[0., 0., 0., ..., 0., 0., 0.],\n",
       "       [0., 0., 0., ..., 1., 0., 0.],\n",
       "       [0., 0., 0., ..., 0., 0., 0.],\n",
       "       ...,\n",
       "       [0., 0., 1., ..., 0., 0., 0.],\n",
       "       [0., 0., 0., ..., 0., 0., 0.],\n",
       "       [0., 0., 0., ..., 0., 0., 0.]])"
      ]
     },
     "execution_count": 6,
     "metadata": {},
     "output_type": "execute_result"
    }
   ],
   "source": [
    "one_hot_train_labels"
   ]
  },
  {
   "cell_type": "code",
   "execution_count": 7,
   "metadata": {},
   "outputs": [
    {
     "data": {
      "text/plain": [
       "((2000, 400, 1), (1000, 400, 1))"
      ]
     },
     "execution_count": 7,
     "metadata": {},
     "output_type": "execute_result"
    }
   ],
   "source": [
    "x_train.shape,x_test.shape"
   ]
  },
  {
   "cell_type": "code",
   "execution_count": 8,
   "metadata": {},
   "outputs": [
    {
     "data": {
      "text/plain": [
       "((2000,), (1000,))"
      ]
     },
     "execution_count": 8,
     "metadata": {},
     "output_type": "execute_result"
    }
   ],
   "source": [
    "y_train_transform.shape,y_test_transform.shape"
   ]
  },
  {
   "cell_type": "markdown",
   "metadata": {},
   "source": [
    "Model"
   ]
  },
  {
   "cell_type": "code",
   "execution_count": 9,
   "metadata": {},
   "outputs": [
    {
     "data": {
      "text/plain": [
       "10"
      ]
     },
     "execution_count": 9,
     "metadata": {},
     "output_type": "execute_result"
    }
   ],
   "source": [
    "num_classes = len(np.unique(y_train_transform))\n",
    "num_classes"
   ]
  },
  {
   "cell_type": "code",
   "execution_count": 23,
   "metadata": {},
   "outputs": [
    {
     "name": "stdout",
     "output_type": "stream",
     "text": [
      "Model: \"functional_5\"\n",
      "_________________________________________________________________\n",
      "Layer (type)                 Output Shape              Param #   \n",
      "=================================================================\n",
      "input_3 (InputLayer)         [(None, 400, 1)]          0         \n",
      "_________________________________________________________________\n",
      "conv1d_6 (Conv1D)            (None, 200, 32)           352       \n",
      "_________________________________________________________________\n",
      "batch_normalization (BatchNo (None, 200, 32)           128       \n",
      "_________________________________________________________________\n",
      "conv1d_7 (Conv1D)            (None, 100, 30)           9630      \n",
      "_________________________________________________________________\n",
      "conv1d_8 (Conv1D)            (None, 50, 30)            9030      \n",
      "_________________________________________________________________\n",
      "lstm_4 (LSTM)                (None, 20)                4080      \n",
      "_________________________________________________________________\n",
      "flatten_2 (Flatten)          (None, 20)                0         \n",
      "_________________________________________________________________\n",
      "dropout_2 (Dropout)          (None, 20)                0         \n",
      "_________________________________________________________________\n",
      "dense_2 (Dense)              (None, 10)                210       \n",
      "=================================================================\n",
      "Total params: 23,430\n",
      "Trainable params: 23,366\n",
      "Non-trainable params: 64\n",
      "_________________________________________________________________\n"
     ]
    }
   ],
   "source": [
    "input_img = Input(shape=(400,1)) # Tensorflow后端， 注意要用channel_last\n",
    "# 编码器部分\n",
    "x = Conv1D(32, 10, activation='relu', padding='same',strides=2)(input_img)\n",
    "x = tf.keras.layers.BatchNormalization()(x)\n",
    "x = Conv1D(30, 10, activation='relu', padding='same',strides=2)(x)\n",
    "x = Conv1D(30, 10, activation='relu', padding='same',strides=2)(x)\n",
    "# x = keras.layers.BatchNormalization()(x)\n",
    "x = layers.LSTM(units=20,return_sequences=False)(x)\n",
    "x = Flatten()(x)\n",
    "x=Dropout(0.2)(x)\n",
    "decoded=Dense(10,activation='softmax')(x)\n",
    "\n",
    "\n",
    "autoencoder = Model(input_img, decoded)\n",
    "autoencoder.compile(optimizer='adam',loss='sparse_categorical_crossentropy',metrics=['sparse_categorical_accuracy'])   \n",
    "autoencoder.summary()"
   ]
  },
  {
   "cell_type": "code",
   "execution_count": 24,
   "metadata": {},
   "outputs": [
    {
     "name": "stdout",
     "output_type": "stream",
     "text": [
      "Epoch 1/100\n",
      "50/50 [==============================] - 1s 20ms/step - loss: 2.0741 - sparse_categorical_accuracy: 0.2206 - val_loss: 2.2272 - val_sparse_categorical_accuracy: 0.0775\n",
      "Epoch 2/100\n",
      "50/50 [==============================] - 1s 14ms/step - loss: 1.5077 - sparse_categorical_accuracy: 0.5069 - val_loss: 2.2008 - val_sparse_categorical_accuracy: 0.1775\n",
      "Epoch 3/100\n",
      "50/50 [==============================] - 1s 14ms/step - loss: 1.0870 - sparse_categorical_accuracy: 0.6919 - val_loss: 1.8269 - val_sparse_categorical_accuracy: 0.3275\n",
      "Epoch 4/100\n",
      "50/50 [==============================] - 1s 14ms/step - loss: 0.8406 - sparse_categorical_accuracy: 0.7669 - val_loss: 1.4222 - val_sparse_categorical_accuracy: 0.5700\n",
      "Epoch 5/100\n",
      "50/50 [==============================] - 1s 14ms/step - loss: 0.6810 - sparse_categorical_accuracy: 0.8338 - val_loss: 1.4182 - val_sparse_categorical_accuracy: 0.5400\n",
      "Epoch 6/100\n",
      "50/50 [==============================] - 1s 15ms/step - loss: 0.5071 - sparse_categorical_accuracy: 0.9056 - val_loss: 1.1213 - val_sparse_categorical_accuracy: 0.6475\n",
      "Epoch 7/100\n",
      "50/50 [==============================] - 1s 14ms/step - loss: 0.4008 - sparse_categorical_accuracy: 0.9319 - val_loss: 0.8054 - val_sparse_categorical_accuracy: 0.7125\n",
      "Epoch 8/100\n",
      "50/50 [==============================] - 1s 14ms/step - loss: 0.2914 - sparse_categorical_accuracy: 0.9619 - val_loss: 0.6602 - val_sparse_categorical_accuracy: 0.7725\n",
      "Epoch 9/100\n",
      "50/50 [==============================] - 1s 14ms/step - loss: 0.2593 - sparse_categorical_accuracy: 0.9563 - val_loss: 0.4773 - val_sparse_categorical_accuracy: 0.8400\n",
      "Epoch 10/100\n",
      "50/50 [==============================] - 1s 14ms/step - loss: 0.2542 - sparse_categorical_accuracy: 0.9525 - val_loss: 0.3426 - val_sparse_categorical_accuracy: 0.9125\n",
      "Epoch 11/100\n",
      "50/50 [==============================] - 1s 14ms/step - loss: 0.2307 - sparse_categorical_accuracy: 0.9506 - val_loss: 0.2416 - val_sparse_categorical_accuracy: 0.9400\n",
      "Epoch 12/100\n",
      "50/50 [==============================] - 1s 15ms/step - loss: 0.1765 - sparse_categorical_accuracy: 0.9706 - val_loss: 0.2012 - val_sparse_categorical_accuracy: 0.9425\n",
      "Epoch 13/100\n",
      "50/50 [==============================] - 1s 14ms/step - loss: 0.1988 - sparse_categorical_accuracy: 0.9581 - val_loss: 0.1417 - val_sparse_categorical_accuracy: 0.9675\n",
      "Epoch 14/100\n",
      "50/50 [==============================] - 1s 15ms/step - loss: 0.1691 - sparse_categorical_accuracy: 0.9694 - val_loss: 0.1312 - val_sparse_categorical_accuracy: 0.9650\n",
      "Epoch 15/100\n",
      "50/50 [==============================] - 1s 15ms/step - loss: 0.1525 - sparse_categorical_accuracy: 0.9688 - val_loss: 0.2375 - val_sparse_categorical_accuracy: 0.9300\n",
      "Epoch 16/100\n",
      "50/50 [==============================] - 1s 14ms/step - loss: 0.1851 - sparse_categorical_accuracy: 0.9631 - val_loss: 0.2678 - val_sparse_categorical_accuracy: 0.9025\n",
      "Epoch 17/100\n",
      "50/50 [==============================] - 1s 15ms/step - loss: 0.1712 - sparse_categorical_accuracy: 0.9619 - val_loss: 0.1200 - val_sparse_categorical_accuracy: 0.9550\n",
      "Epoch 18/100\n",
      "50/50 [==============================] - 1s 14ms/step - loss: 0.1306 - sparse_categorical_accuracy: 0.9688 - val_loss: 0.1187 - val_sparse_categorical_accuracy: 0.9625\n",
      "Epoch 19/100\n",
      "50/50 [==============================] - 1s 14ms/step - loss: 0.1889 - sparse_categorical_accuracy: 0.9488 - val_loss: 0.0899 - val_sparse_categorical_accuracy: 0.9725\n",
      "Epoch 20/100\n",
      "50/50 [==============================] - 1s 14ms/step - loss: 0.1134 - sparse_categorical_accuracy: 0.9781 - val_loss: 0.0784 - val_sparse_categorical_accuracy: 0.9775\n",
      "Epoch 21/100\n",
      "50/50 [==============================] - 1s 15ms/step - loss: 0.0872 - sparse_categorical_accuracy: 0.9806 - val_loss: 0.0610 - val_sparse_categorical_accuracy: 0.9775\n",
      "Epoch 22/100\n",
      "50/50 [==============================] - 1s 14ms/step - loss: 0.0785 - sparse_categorical_accuracy: 0.9806 - val_loss: 0.0792 - val_sparse_categorical_accuracy: 0.9725\n",
      "Epoch 23/100\n",
      "50/50 [==============================] - 1s 14ms/step - loss: 0.1067 - sparse_categorical_accuracy: 0.9737 - val_loss: 0.1069 - val_sparse_categorical_accuracy: 0.9650\n",
      "Epoch 24/100\n",
      "50/50 [==============================] - 1s 14ms/step - loss: 0.1279 - sparse_categorical_accuracy: 0.9681 - val_loss: 0.0715 - val_sparse_categorical_accuracy: 0.9750\n",
      "Epoch 25/100\n",
      "50/50 [==============================] - 1s 15ms/step - loss: 0.0812 - sparse_categorical_accuracy: 0.9825 - val_loss: 0.0590 - val_sparse_categorical_accuracy: 0.9800\n",
      "Epoch 26/100\n",
      "50/50 [==============================] - 1s 14ms/step - loss: 0.0779 - sparse_categorical_accuracy: 0.9831 - val_loss: 0.0999 - val_sparse_categorical_accuracy: 0.9575\n",
      "Epoch 27/100\n",
      "50/50 [==============================] - 1s 15ms/step - loss: 0.0721 - sparse_categorical_accuracy: 0.9825 - val_loss: 0.0580 - val_sparse_categorical_accuracy: 0.9825\n",
      "Epoch 28/100\n",
      "50/50 [==============================] - 1s 15ms/step - loss: 0.0967 - sparse_categorical_accuracy: 0.9775 - val_loss: 0.0418 - val_sparse_categorical_accuracy: 0.9900\n",
      "Epoch 29/100\n",
      "50/50 [==============================] - 1s 14ms/step - loss: 0.0616 - sparse_categorical_accuracy: 0.9887 - val_loss: 0.0611 - val_sparse_categorical_accuracy: 0.9850\n",
      "Epoch 30/100\n",
      "50/50 [==============================] - 1s 14ms/step - loss: 0.0702 - sparse_categorical_accuracy: 0.9806 - val_loss: 0.0494 - val_sparse_categorical_accuracy: 0.9850\n",
      "Epoch 31/100\n",
      "50/50 [==============================] - 1s 14ms/step - loss: 0.0670 - sparse_categorical_accuracy: 0.9856 - val_loss: 0.0323 - val_sparse_categorical_accuracy: 0.9900\n",
      "Epoch 32/100\n",
      "50/50 [==============================] - 1s 14ms/step - loss: 0.1060 - sparse_categorical_accuracy: 0.9731 - val_loss: 0.0596 - val_sparse_categorical_accuracy: 0.9875\n",
      "Epoch 33/100\n",
      "50/50 [==============================] - 1s 14ms/step - loss: 0.0827 - sparse_categorical_accuracy: 0.9800 - val_loss: 0.0363 - val_sparse_categorical_accuracy: 0.9875\n",
      "Epoch 34/100\n",
      "50/50 [==============================] - 1s 14ms/step - loss: 0.0546 - sparse_categorical_accuracy: 0.9875 - val_loss: 0.0575 - val_sparse_categorical_accuracy: 0.9850\n",
      "Epoch 35/100\n",
      "50/50 [==============================] - 1s 14ms/step - loss: 0.0517 - sparse_categorical_accuracy: 0.9881 - val_loss: 0.0351 - val_sparse_categorical_accuracy: 0.9875\n",
      "Epoch 36/100\n",
      "50/50 [==============================] - 1s 14ms/step - loss: 0.0400 - sparse_categorical_accuracy: 0.9900 - val_loss: 0.0161 - val_sparse_categorical_accuracy: 0.9975\n",
      "Epoch 37/100\n",
      "50/50 [==============================] - 1s 15ms/step - loss: 0.0297 - sparse_categorical_accuracy: 0.9975 - val_loss: 0.0124 - val_sparse_categorical_accuracy: 1.0000\n",
      "Epoch 38/100\n",
      "50/50 [==============================] - 1s 14ms/step - loss: 0.0434 - sparse_categorical_accuracy: 0.9900 - val_loss: 0.0256 - val_sparse_categorical_accuracy: 0.9950\n",
      "Epoch 39/100\n",
      "50/50 [==============================] - 1s 14ms/step - loss: 0.0379 - sparse_categorical_accuracy: 0.9925 - val_loss: 0.0175 - val_sparse_categorical_accuracy: 0.9975\n",
      "Epoch 40/100\n",
      "50/50 [==============================] - 1s 14ms/step - loss: 0.0944 - sparse_categorical_accuracy: 0.9787 - val_loss: 0.0642 - val_sparse_categorical_accuracy: 0.9775\n",
      "Epoch 41/100\n",
      "50/50 [==============================] - 1s 14ms/step - loss: 0.0311 - sparse_categorical_accuracy: 0.9969 - val_loss: 0.0179 - val_sparse_categorical_accuracy: 0.9950\n",
      "Epoch 42/100\n",
      "50/50 [==============================] - 1s 14ms/step - loss: 0.0278 - sparse_categorical_accuracy: 0.9975 - val_loss: 0.0489 - val_sparse_categorical_accuracy: 0.9875\n",
      "Epoch 43/100\n",
      "50/50 [==============================] - 1s 13ms/step - loss: 0.0323 - sparse_categorical_accuracy: 0.9944 - val_loss: 0.0829 - val_sparse_categorical_accuracy: 0.9725\n",
      "Epoch 44/100\n",
      "50/50 [==============================] - 1s 14ms/step - loss: 0.0391 - sparse_categorical_accuracy: 0.9906 - val_loss: 0.0258 - val_sparse_categorical_accuracy: 0.9925\n",
      "Epoch 45/100\n",
      "50/50 [==============================] - 1s 15ms/step - loss: 0.0302 - sparse_categorical_accuracy: 0.9931 - val_loss: 0.0053 - val_sparse_categorical_accuracy: 1.0000\n",
      "Epoch 46/100\n",
      "50/50 [==============================] - 1s 14ms/step - loss: 0.0226 - sparse_categorical_accuracy: 0.9962 - val_loss: 0.0046 - val_sparse_categorical_accuracy: 1.0000\n",
      "Epoch 47/100\n",
      "50/50 [==============================] - 1s 14ms/step - loss: 0.0150 - sparse_categorical_accuracy: 0.9994 - val_loss: 0.0044 - val_sparse_categorical_accuracy: 1.0000\n",
      "Epoch 48/100\n",
      "50/50 [==============================] - 1s 14ms/step - loss: 0.0209 - sparse_categorical_accuracy: 0.9969 - val_loss: 0.0046 - val_sparse_categorical_accuracy: 1.0000\n",
      "Epoch 49/100\n",
      "50/50 [==============================] - 1s 14ms/step - loss: 0.0186 - sparse_categorical_accuracy: 0.9987 - val_loss: 0.0084 - val_sparse_categorical_accuracy: 1.0000\n",
      "Epoch 50/100\n",
      "50/50 [==============================] - 1s 14ms/step - loss: 0.0220 - sparse_categorical_accuracy: 0.9956 - val_loss: 0.0049 - val_sparse_categorical_accuracy: 1.0000\n",
      "Epoch 51/100\n",
      "50/50 [==============================] - 1s 14ms/step - loss: 0.0147 - sparse_categorical_accuracy: 0.9987 - val_loss: 0.0042 - val_sparse_categorical_accuracy: 1.0000\n",
      "Epoch 52/100\n",
      "50/50 [==============================] - 1s 14ms/step - loss: 0.0328 - sparse_categorical_accuracy: 0.9931 - val_loss: 0.0127 - val_sparse_categorical_accuracy: 0.9975\n",
      "Epoch 53/100\n",
      "50/50 [==============================] - 1s 14ms/step - loss: 0.0447 - sparse_categorical_accuracy: 0.9900 - val_loss: 0.0532 - val_sparse_categorical_accuracy: 0.9800\n",
      "Epoch 54/100\n",
      "50/50 [==============================] - 1s 14ms/step - loss: 0.0350 - sparse_categorical_accuracy: 0.9925 - val_loss: 0.0465 - val_sparse_categorical_accuracy: 0.9900\n",
      "Epoch 55/100\n",
      "50/50 [==============================] - 1s 15ms/step - loss: 0.0130 - sparse_categorical_accuracy: 0.9994 - val_loss: 0.0031 - val_sparse_categorical_accuracy: 1.0000\n",
      "Epoch 56/100\n",
      "50/50 [==============================] - 1s 14ms/step - loss: 0.0098 - sparse_categorical_accuracy: 0.9994 - val_loss: 0.0027 - val_sparse_categorical_accuracy: 1.0000\n",
      "Epoch 57/100\n",
      "50/50 [==============================] - 1s 15ms/step - loss: 0.0099 - sparse_categorical_accuracy: 1.0000 - val_loss: 0.0025 - val_sparse_categorical_accuracy: 1.0000\n",
      "Epoch 58/100\n",
      "50/50 [==============================] - 1s 15ms/step - loss: 0.0148 - sparse_categorical_accuracy: 0.9987 - val_loss: 0.0065 - val_sparse_categorical_accuracy: 0.9975\n",
      "Epoch 59/100\n",
      "50/50 [==============================] - 1s 15ms/step - loss: 0.0271 - sparse_categorical_accuracy: 0.9950 - val_loss: 0.0140 - val_sparse_categorical_accuracy: 0.9950\n",
      "Epoch 60/100\n",
      "50/50 [==============================] - 1s 15ms/step - loss: 0.0452 - sparse_categorical_accuracy: 0.9887 - val_loss: 0.0413 - val_sparse_categorical_accuracy: 0.9900\n",
      "Epoch 61/100\n",
      "50/50 [==============================] - 1s 15ms/step - loss: 0.0099 - sparse_categorical_accuracy: 1.0000 - val_loss: 0.0036 - val_sparse_categorical_accuracy: 1.0000\n",
      "Epoch 62/100\n",
      "50/50 [==============================] - 1s 15ms/step - loss: 0.0097 - sparse_categorical_accuracy: 0.9994 - val_loss: 0.0019 - val_sparse_categorical_accuracy: 1.0000\n",
      "Epoch 63/100\n",
      "50/50 [==============================] - 1s 16ms/step - loss: 0.0073 - sparse_categorical_accuracy: 1.0000 - val_loss: 0.0017 - val_sparse_categorical_accuracy: 1.0000\n",
      "Epoch 64/100\n",
      "50/50 [==============================] - 1s 16ms/step - loss: 0.0084 - sparse_categorical_accuracy: 1.0000 - val_loss: 0.0017 - val_sparse_categorical_accuracy: 1.0000\n",
      "Epoch 65/100\n",
      "50/50 [==============================] - 1s 15ms/step - loss: 0.0093 - sparse_categorical_accuracy: 0.9987 - val_loss: 0.0016 - val_sparse_categorical_accuracy: 1.0000\n",
      "Epoch 66/100\n",
      "50/50 [==============================] - 1s 15ms/step - loss: 0.0239 - sparse_categorical_accuracy: 0.9937 - val_loss: 0.0083 - val_sparse_categorical_accuracy: 0.9975\n",
      "Epoch 67/100\n",
      "50/50 [==============================] - 1s 15ms/step - loss: 0.0088 - sparse_categorical_accuracy: 0.9994 - val_loss: 0.0020 - val_sparse_categorical_accuracy: 1.0000\n",
      "Epoch 68/100\n",
      "50/50 [==============================] - 1s 15ms/step - loss: 0.0101 - sparse_categorical_accuracy: 0.9994 - val_loss: 0.0016 - val_sparse_categorical_accuracy: 1.0000\n",
      "Epoch 69/100\n",
      "50/50 [==============================] - 1s 15ms/step - loss: 0.0064 - sparse_categorical_accuracy: 1.0000 - val_loss: 0.0014 - val_sparse_categorical_accuracy: 1.0000\n",
      "Epoch 70/100\n",
      "50/50 [==============================] - 1s 16ms/step - loss: 0.0076 - sparse_categorical_accuracy: 1.0000 - val_loss: 0.0013 - val_sparse_categorical_accuracy: 1.0000\n",
      "Epoch 71/100\n",
      "50/50 [==============================] - 1s 15ms/step - loss: 0.0063 - sparse_categorical_accuracy: 1.0000 - val_loss: 0.0016 - val_sparse_categorical_accuracy: 1.0000\n",
      "Epoch 72/100\n",
      "50/50 [==============================] - 1s 15ms/step - loss: 0.0058 - sparse_categorical_accuracy: 1.0000 - val_loss: 0.0013 - val_sparse_categorical_accuracy: 1.0000\n",
      "Epoch 73/100\n",
      "50/50 [==============================] - 1s 15ms/step - loss: 0.0058 - sparse_categorical_accuracy: 1.0000 - val_loss: 0.0012 - val_sparse_categorical_accuracy: 1.0000\n",
      "Epoch 74/100\n",
      "50/50 [==============================] - 1s 15ms/step - loss: 0.0056 - sparse_categorical_accuracy: 0.9994 - val_loss: 0.0012 - val_sparse_categorical_accuracy: 1.0000\n",
      "Epoch 75/100\n",
      "50/50 [==============================] - 1s 15ms/step - loss: 0.0059 - sparse_categorical_accuracy: 1.0000 - val_loss: 0.0010 - val_sparse_categorical_accuracy: 1.0000\n",
      "Epoch 76/100\n",
      "50/50 [==============================] - 1s 16ms/step - loss: 0.0047 - sparse_categorical_accuracy: 1.0000 - val_loss: 9.8302e-04 - val_sparse_categorical_accuracy: 1.0000\n",
      "Epoch 77/100\n",
      "50/50 [==============================] - 1s 15ms/step - loss: 0.0052 - sparse_categorical_accuracy: 1.0000 - val_loss: 9.4138e-04 - val_sparse_categorical_accuracy: 1.0000\n",
      "Epoch 78/100\n",
      "50/50 [==============================] - 1s 16ms/step - loss: 0.0052 - sparse_categorical_accuracy: 1.0000 - val_loss: 0.0010 - val_sparse_categorical_accuracy: 1.0000\n",
      "Epoch 79/100\n",
      "50/50 [==============================] - 1s 14ms/step - loss: 0.0076 - sparse_categorical_accuracy: 0.9994 - val_loss: 9.5780e-04 - val_sparse_categorical_accuracy: 1.0000\n",
      "Epoch 80/100\n",
      "50/50 [==============================] - 1s 15ms/step - loss: 0.0046 - sparse_categorical_accuracy: 1.0000 - val_loss: 0.0011 - val_sparse_categorical_accuracy: 1.0000\n",
      "Epoch 81/100\n",
      "50/50 [==============================] - 1s 15ms/step - loss: 0.0046 - sparse_categorical_accuracy: 1.0000 - val_loss: 9.0464e-04 - val_sparse_categorical_accuracy: 1.0000\n",
      "Epoch 82/100\n",
      "50/50 [==============================] - 1s 15ms/step - loss: 0.0042 - sparse_categorical_accuracy: 1.0000 - val_loss: 7.4887e-04 - val_sparse_categorical_accuracy: 1.0000\n",
      "Epoch 83/100\n",
      "50/50 [==============================] - 1s 15ms/step - loss: 0.0438 - sparse_categorical_accuracy: 0.9881 - val_loss: 0.2112 - val_sparse_categorical_accuracy: 0.9275\n",
      "Epoch 84/100\n",
      "50/50 [==============================] - 1s 15ms/step - loss: 0.0554 - sparse_categorical_accuracy: 0.9875 - val_loss: 0.0090 - val_sparse_categorical_accuracy: 0.9975\n",
      "Epoch 85/100\n",
      "50/50 [==============================] - 1s 15ms/step - loss: 0.0504 - sparse_categorical_accuracy: 0.9887 - val_loss: 0.0451 - val_sparse_categorical_accuracy: 0.9875\n",
      "Epoch 86/100\n",
      "50/50 [==============================] - 1s 16ms/step - loss: 0.0252 - sparse_categorical_accuracy: 0.9950 - val_loss: 0.0045 - val_sparse_categorical_accuracy: 1.0000\n",
      "Epoch 87/100\n",
      "50/50 [==============================] - 1s 15ms/step - loss: 0.0116 - sparse_categorical_accuracy: 0.9994 - val_loss: 0.0062 - val_sparse_categorical_accuracy: 0.9975\n",
      "Epoch 88/100\n",
      "50/50 [==============================] - 1s 15ms/step - loss: 0.0094 - sparse_categorical_accuracy: 0.9994 - val_loss: 0.0036 - val_sparse_categorical_accuracy: 0.9975\n",
      "Epoch 89/100\n",
      "50/50 [==============================] - 1s 15ms/step - loss: 0.0129 - sparse_categorical_accuracy: 0.9987 - val_loss: 0.0026 - val_sparse_categorical_accuracy: 1.0000\n",
      "Epoch 90/100\n",
      "50/50 [==============================] - 1s 15ms/step - loss: 0.0178 - sparse_categorical_accuracy: 0.9950 - val_loss: 0.0130 - val_sparse_categorical_accuracy: 0.9975\n",
      "Epoch 91/100\n",
      "50/50 [==============================] - 1s 15ms/step - loss: 0.0064 - sparse_categorical_accuracy: 1.0000 - val_loss: 0.0319 - val_sparse_categorical_accuracy: 0.9900\n",
      "Epoch 92/100\n",
      "50/50 [==============================] - 1s 15ms/step - loss: 0.0245 - sparse_categorical_accuracy: 0.9962 - val_loss: 0.0047 - val_sparse_categorical_accuracy: 0.9975\n",
      "Epoch 93/100\n",
      "50/50 [==============================] - 1s 15ms/step - loss: 0.0121 - sparse_categorical_accuracy: 0.9987 - val_loss: 0.0010 - val_sparse_categorical_accuracy: 1.0000\n",
      "Epoch 94/100\n",
      "50/50 [==============================] - 1s 16ms/step - loss: 0.0060 - sparse_categorical_accuracy: 1.0000 - val_loss: 7.9302e-04 - val_sparse_categorical_accuracy: 1.0000\n",
      "Epoch 95/100\n",
      "50/50 [==============================] - 1s 15ms/step - loss: 0.0132 - sparse_categorical_accuracy: 0.9987 - val_loss: 0.0019 - val_sparse_categorical_accuracy: 1.0000\n",
      "Epoch 96/100\n",
      "50/50 [==============================] - 1s 15ms/step - loss: 0.0057 - sparse_categorical_accuracy: 0.9994 - val_loss: 9.6059e-04 - val_sparse_categorical_accuracy: 1.0000\n",
      "Epoch 97/100\n",
      "50/50 [==============================] - 1s 15ms/step - loss: 0.0042 - sparse_categorical_accuracy: 1.0000 - val_loss: 6.7277e-04 - val_sparse_categorical_accuracy: 1.0000\n",
      "Epoch 98/100\n",
      "50/50 [==============================] - 1s 16ms/step - loss: 0.0037 - sparse_categorical_accuracy: 1.0000 - val_loss: 6.3485e-04 - val_sparse_categorical_accuracy: 1.0000\n",
      "Epoch 99/100\n",
      "50/50 [==============================] - 1s 15ms/step - loss: 0.0042 - sparse_categorical_accuracy: 1.0000 - val_loss: 9.1254e-04 - val_sparse_categorical_accuracy: 1.0000\n",
      "Epoch 100/100\n",
      "50/50 [==============================] - 1s 15ms/step - loss: 0.0031 - sparse_categorical_accuracy: 1.0000 - val_loss: 6.3525e-04 - val_sparse_categorical_accuracy: 1.0000\n"
     ]
    }
   ],
   "source": [
    "callbacks = [\n",
    "    keras.callbacks.ModelCheckpoint(\n",
    "        \"best_model2.h5\", save_best_only=True, monitor=\"val_loss\"\n",
    "    ),\n",
    "    keras.callbacks.ReduceLROnPlateau(\n",
    "        monitor=\"val_loss\", factor=0.5, patience=20, min_lr=0.0001\n",
    "    ),\n",
    "    keras.callbacks.EarlyStopping(monitor=\"val_loss\", patience=50, verbose=1),\n",
    "]\n",
    "history = autoencoder.fit(x_train, \n",
    "                            y_train_transform,\n",
    "                          epochs=100,\n",
    "                          batch_size=32,\n",
    "                        #   shuffle=True,\n",
    "                          validation_split=0.2,\n",
    "                          verbose=1, \n",
    "                          callbacks=callbacks).history"
   ]
  },
  {
   "cell_type": "code",
   "execution_count": 25,
   "metadata": {},
   "outputs": [
    {
     "data": {
      "text/plain": [
       "<matplotlib.legend.Legend at 0x272800127b8>"
      ]
     },
     "execution_count": 25,
     "metadata": {},
     "output_type": "execute_result"
    },
    {
     "data": {
      "image/png": "[encoded data removed]",
      "text/plain": [
       "<Figure size 1008x576 with 1 Axes>"
      ]
     },
     "metadata": {
      "needs_background": "light"
     },
     "output_type": "display_data"
    }
   ],
   "source": [
    "import seaborn as sns\n",
    "# # plt.figure(figsize=(14, 5))\n",
    "# plt.subplot(121)\n",
    "plt.figure(figsize=(14,8))\n",
    "# # sns.set(font_scale = 0.5)\n",
    "plt.plot(history['loss'][:], c='red')\n",
    "plt.plot(history['val_loss'][:], c='blue')\n",
    "plt.title('model loss')\n",
    "plt.ylabel('loss'); plt.xlabel('epoch')\n",
    "plt.legend(['train', 'val'], loc='upper right')"
   ]
  },
  {
   "cell_type": "code",
   "execution_count": 26,
   "metadata": {},
   "outputs": [
    {
     "data": {
      "text/plain": [
       "<matplotlib.legend.Legend at 0x272802c72e8>"
      ]
     },
     "execution_count": 26,
     "metadata": {},
     "output_type": "execute_result"
    },
    {
     "data": {
      "image/png": "[encoded data removed]",
      "text/plain": [
       "<Figure size 1008x576 with 1 Axes>"
      ]
     },
     "metadata": {
      "needs_background": "light"
     },
     "output_type": "display_data"
    }
   ],
   "source": [
    "import seaborn as sns\n",
    "# # plt.figure(figsize=(14, 5))\n",
    "# plt.subplot(121)\n",
    "plt.figure(figsize=(14,8))\n",
    "# # sns.set(font_scale = 0.5)\n",
    "plt.plot(history['sparse_categorical_accuracy'][:], c='red')\n",
    "plt.plot(history['val_sparse_categorical_accuracy'][:], c='blue')\n",
    "plt.title('model accuracy')\n",
    "plt.ylabel('loss'); plt.xlabel('epoch')\n",
    "plt.legend(['train', 'val'], loc='upper right')"
   ]
  },
  {
   "cell_type": "code",
   "execution_count": 27,
   "metadata": {},
   "outputs": [
    {
     "data": {
      "text/html": [
       "<div>\n",
       "<style scoped>\n",
       "    .dataframe tbody tr th:only-of-type {\n",
       "        vertical-align: middle;\n",
       "    }\n",
       "\n",
       "    .dataframe tbody tr th {\n",
       "        vertical-align: top;\n",
       "    }\n",
       "\n",
       "    .dataframe thead th {\n",
       "        text-align: right;\n",
       "    }\n",
       "</style>\n",
       "<table border=\"1\" class=\"dataframe\">\n",
       "  <thead>\n",
       "    <tr style=\"text-align: right;\">\n",
       "      <th></th>\n",
       "      <th>loss</th>\n",
       "      <th>sparse_categorical_accuracy</th>\n",
       "      <th>val_loss</th>\n",
       "      <th>val_sparse_categorical_accuracy</th>\n",
       "      <th>lr</th>\n",
       "    </tr>\n",
       "  </thead>\n",
       "  <tbody>\n",
       "    <tr>\n",
       "      <th>0</th>\n",
       "      <td>2.074110</td>\n",
       "      <td>0.220625</td>\n",
       "      <td>2.227202</td>\n",
       "      <td>0.0775</td>\n",
       "      <td>0.001</td>\n",
       "    </tr>\n",
       "    <tr>\n",
       "      <th>1</th>\n",
       "      <td>1.507663</td>\n",
       "      <td>0.506875</td>\n",
       "      <td>2.200783</td>\n",
       "      <td>0.1775</td>\n",
       "      <td>0.001</td>\n",
       "    </tr>\n",
       "    <tr>\n",
       "      <th>2</th>\n",
       "      <td>1.087033</td>\n",
       "      <td>0.691875</td>\n",
       "      <td>1.826871</td>\n",
       "      <td>0.3275</td>\n",
       "      <td>0.001</td>\n",
       "    </tr>\n",
       "    <tr>\n",
       "      <th>3</th>\n",
       "      <td>0.840553</td>\n",
       "      <td>0.766875</td>\n",
       "      <td>1.422229</td>\n",
       "      <td>0.5700</td>\n",
       "      <td>0.001</td>\n",
       "    </tr>\n",
       "    <tr>\n",
       "      <th>4</th>\n",
       "      <td>0.680984</td>\n",
       "      <td>0.833750</td>\n",
       "      <td>1.418213</td>\n",
       "      <td>0.5400</td>\n",
       "      <td>0.001</td>\n",
       "    </tr>\n",
       "    <tr>\n",
       "      <th>...</th>\n",
       "      <td>...</td>\n",
       "      <td>...</td>\n",
       "      <td>...</td>\n",
       "      <td>...</td>\n",
       "      <td>...</td>\n",
       "    </tr>\n",
       "    <tr>\n",
       "      <th>95</th>\n",
       "      <td>0.005713</td>\n",
       "      <td>0.999375</td>\n",
       "      <td>0.000961</td>\n",
       "      <td>1.0000</td>\n",
       "      <td>0.001</td>\n",
       "    </tr>\n",
       "    <tr>\n",
       "      <th>96</th>\n",
       "      <td>0.004205</td>\n",
       "      <td>1.000000</td>\n",
       "      <td>0.000673</td>\n",
       "      <td>1.0000</td>\n",
       "      <td>0.001</td>\n",
       "    </tr>\n",
       "    <tr>\n",
       "      <th>97</th>\n",
       "      <td>0.003702</td>\n",
       "      <td>1.000000</td>\n",
       "      <td>0.000635</td>\n",
       "      <td>1.0000</td>\n",
       "      <td>0.001</td>\n",
       "    </tr>\n",
       "    <tr>\n",
       "      <th>98</th>\n",
       "      <td>0.004175</td>\n",
       "      <td>1.000000</td>\n",
       "      <td>0.000913</td>\n",
       "      <td>1.0000</td>\n",
       "      <td>0.001</td>\n",
       "    </tr>\n",
       "    <tr>\n",
       "      <th>99</th>\n",
       "      <td>0.003138</td>\n",
       "      <td>1.000000</td>\n",
       "      <td>0.000635</td>\n",
       "      <td>1.0000</td>\n",
       "      <td>0.001</td>\n",
       "    </tr>\n",
       "  </tbody>\n",
       "</table>\n",
       "<p>100 rows × 5 columns</p>\n",
       "</div>"
      ],
      "text/plain": [
       "        loss  sparse_categorical_accuracy  val_loss  \\\n",
       "0   2.074110                     0.220625  2.227202   \n",
       "1   1.507663                     0.506875  2.200783   \n",
       "2   1.087033                     0.691875  1.826871   \n",
       "3   0.840553                     0.766875  1.422229   \n",
       "4   0.680984                     0.833750  1.418213   \n",
       "..       ...                          ...       ...   \n",
       "95  0.005713                     0.999375  0.000961   \n",
       "96  0.004205                     1.000000  0.000673   \n",
       "97  0.003702                     1.000000  0.000635   \n",
       "98  0.004175                     1.000000  0.000913   \n",
       "99  0.003138                     1.000000  0.000635   \n",
       "\n",
       "    val_sparse_categorical_accuracy     lr  \n",
       "0                            0.0775  0.001  \n",
       "1                            0.1775  0.001  \n",
       "2                            0.3275  0.001  \n",
       "3                            0.5700  0.001  \n",
       "4                            0.5400  0.001  \n",
       "..                              ...    ...  \n",
       "95                           1.0000  0.001  \n",
       "96                           1.0000  0.001  \n",
       "97                           1.0000  0.001  \n",
       "98                           1.0000  0.001  \n",
       "99                           1.0000  0.001  \n",
       "\n",
       "[100 rows x 5 columns]"
      ]
     },
     "execution_count": 27,
     "metadata": {},
     "output_type": "execute_result"
    }
   ],
   "source": [
    "df=pd.DataFrame(history)\n",
    "df"
   ]
  },
  {
   "cell_type": "code",
   "execution_count": 28,
   "metadata": {},
   "outputs": [],
   "source": [
    "df.to_csv('model2.csv',index=None)"
   ]
  },
  {
   "cell_type": "code",
   "execution_count": 29,
   "metadata": {},
   "outputs": [],
   "source": [
    "pred_test = autoencoder.predict(x_test)"
   ]
  },
  {
   "cell_type": "code",
   "execution_count": 30,
   "metadata": {},
   "outputs": [
    {
     "data": {
      "text/plain": [
       "(1000, 10)"
      ]
     },
     "execution_count": 30,
     "metadata": {},
     "output_type": "execute_result"
    }
   ],
   "source": [
    "pred_test.shape"
   ]
  },
  {
   "cell_type": "code",
   "execution_count": 31,
   "metadata": {},
   "outputs": [],
   "source": [
    "pre=np.argmax(pred_test,axis=1)"
   ]
  },
  {
   "cell_type": "code",
   "execution_count": 32,
   "metadata": {},
   "outputs": [],
   "source": [
    "test_y=np.argmax(one_hot_test_labels,axis=1)"
   ]
  },
  {
   "cell_type": "code",
   "execution_count": 33,
   "metadata": {},
   "outputs": [],
   "source": [
    "correct_prediction = tf.equal(pre, test_y)\n",
    "acc = tf.reduce_mean(tf.cast(correct_prediction, \"float\"))\n",
    "acc=float(acc)\n",
    "# f1=metrics.f1_"
   ]
  },
  {
   "cell_type": "code",
   "execution_count": 34,
   "metadata": {},
   "outputs": [
    {
     "data": {
      "text/plain": [
       "0.9990000128746033"
      ]
     },
     "execution_count": 34,
     "metadata": {},
     "output_type": "execute_result"
    }
   ],
   "source": [
    "acc"
   ]
  },
  {
   "cell_type": "code",
   "execution_count": null,
   "metadata": {},
   "outputs": [],
   "source": []
  }
 ],
 "metadata": {
  "interpreter": {
   "hash": "09b1f5d785a08b848ded3e9e533b16cd5f7f5e434f6cf7edb3bc46785bd848a2"
  },
  "kernelspec": {
   "display_name": "Python 3.8.12 ('tensorflow')",
   "language": "python",
   "name": "python3"
  },
  "language_info": {
   "codemirror_mode": {
    "name": "ipython",
    "version": 3
   },
   "file_extension": ".py",
   "mimetype": "text/x-python",
   "name": "python",
   "nbconvert_exporter": "python",
   "pygments_lexer": "ipython3",
   "version": "3.8.8"
  },
  "orig_nbformat": 4
 },
 "nbformat": 4,
 "nbformat_minor": 2
}
