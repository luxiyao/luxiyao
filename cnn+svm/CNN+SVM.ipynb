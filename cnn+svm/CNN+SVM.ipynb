{
 "cells": [
  {
   "cell_type": "code",
   "execution_count": 3,
   "id": "de10b6cb",
   "metadata": {},
   "outputs": [],
   "source": [
    "import scipy.io as scio\n",
    "import os\n",
    "import numpy as np\n",
    "import sklearn.metrics as metrics\n",
    "from sklearn import svm\n",
    "from keras import layers\n",
    "from keras import models\n",
    "import pandas as pd\n",
    "from sklearn.metrics import f1_score,recall_score,precision_score,auc,accuracy_score,confusion_matrix\n",
    "from sklearn.metrics import precision_recall_curve, average_precision_score,roc_auc_score,roc_curve\n",
    "import matplotlib.pyplot as plt\n",
    "import warnings\n",
    "warnings.filterwarnings('ignore')\n",
    "from itertools import cycle\n",
    "from scipy import interp\n",
    "plt.rcParams['font.sans-serif']=['SimHei'] #用来正常显示中文标签\n",
    "import seaborn as sns"
   ]
  },
  {
   "cell_type": "code",
   "execution_count": 4,
   "id": "94e83e8f",
   "metadata": {},
   "outputs": [],
   "source": [
    "path='./CWRU/'\n",
    "#寻找文件夹下所有的数据文件\n",
    "path_list=os.listdir(path)\n",
    "data_x=[]\n",
    "data_y=[]\n",
    "for i in path_list:\n",
    "    path1=path+i\n",
    "    dd=scio.loadmat(path1)\n",
    "    for j in dd.keys():\n",
    "        #只使用DE的数据\n",
    "        if 'DE' in j:\n",
    "            ddd=dd[j]\n",
    "            #截前12W个数据\n",
    "            data_x.append(ddd[:120000].ravel())\n",
    "            data_y.append(i)\n",
    "            # print(len(data_x))\n",
    "            # print(len(data_y))\n",
    "# data_x=np.array(data_x)"
   ]
  },
  {
   "cell_type": "code",
   "execution_count": 5,
   "id": "b22a6926",
   "metadata": {},
   "outputs": [],
   "source": [
    "#切分成多个样本数据\n",
    "def yuchuli(a,label):\n",
    "    \"\"\"\n",
    "    前200个样本用于训练\n",
    "    后100个样本用于测试\n",
    "    \"\"\"\n",
    "    a  = a.reshape(300,400)\n",
    "    np.random.shuffle(a)\n",
    "    train = a[:200,:]\n",
    "    test = a[200:,:]\n",
    "    label_test =[label for i in range(0,100)]\n",
    "    label_train = [label for i in range(0, 200)]\n",
    "    return train,test,label_train ,label_test\n",
    "\n",
    "\n",
    "\n",
    "#绘制P-R曲线\n",
    "def micro_PR(y_test,y_score):\n",
    "    # 对每一个类别计算性能指标\n",
    "    precision = dict()\n",
    "    recall = dict()\n",
    "    average_precision = dict()\n",
    "    # .shape会返回一个元组，存储行和列，取第二个数，也就是列\n",
    "    n_classes = y_score.shape[1]\n",
    "    for i in range(n_classes):\n",
    "        precision[i], recall[i], _ =  precision_recall_curve(y_test[:, i], y_score[:, i])\n",
    "        average_precision[i] = average_precision_score(y_test[:, i], y_score[:, i])\n",
    "    precision[\"micro\"],  recall[\"micro\"], _ = precision_recall_curve(y_test.ravel(), y_score.ravel())\n",
    "    average_precision[\"micro\"] = average_precision_score(y_test, y_score, average=\"micro\")\n",
    "    return precision, recall, average_precision\n",
    "\n",
    "def plot_a_model_PR_curve(precision,recall,average_precision,title=None,path=None):\n",
    "    plt.figure(figsize=(6,6))\n",
    "    for i in precision.keys():\n",
    "        label = str(i)+\"，AP = {0:0.4f}\".format(average_precision[i])\n",
    "        plt.step(recall[i], precision[i], where='post', lw=2,label=label)\n",
    "    plt.legend()\n",
    "    plt.xlabel(\"Recall\", fontdict={'weight': 'normal', 'size': 15})\n",
    "    plt.ylabel(\"Precision\", fontdict={'weight': 'normal', 'size': 15})\n",
    "    if title != None:\n",
    "        plt.title(title)\n",
    "        \n",
    "    if path!= None:\n",
    "        plt.savefig(path,dpi=700)\n",
    "    plt.show()\n",
    "\n",
    "    \n",
    "#将y转变为onehot向量\n",
    "def to_one_hot(labels,label_dict):\n",
    "    dimension=len(label_dict.keys())\n",
    "    results = np.zeros((len(labels),dimension))\n",
    "    for i,label in enumerate(labels):\n",
    "        results[i,label_dict[label]] = 1\n",
    "    return results\n",
    "\n",
    "    \n",
    "#创建CNN模型\n",
    "def creat_model(input_shape,output,train_or_test='train'):\n",
    "    \"\"\"\n",
    "    train_or_test：用于识别该模型的任务是什么，如果是train则为训练，需要所有的结构；如果为test，则只需要最后隐藏层的输出\n",
    "    \"\"\"\n",
    "    model = models.Sequential()\n",
    "    model.add(layers.Conv2D(60,(5,5),padding='same',activation='relu',input_shape=input_shape,name='conv1'))\n",
    "    model.add(layers.MaxPooling2D((3,3),strides=2,name='max'))\n",
    "    model.add(layers.Conv2D(128,(5,5),padding='same',activation='relu'))\n",
    "    model.add(layers.MaxPooling2D((3,3),strides=2))\n",
    "    model.add(layers.Conv2D(128,(3,3),padding='same',activation='relu'))\n",
    "    model.add(layers.Conv2D(128,(3,3),padding='same',activation='relu'))\n",
    "    model.add(layers.Conv2D(128,(3,3),padding='same',activation='relu'))\n",
    "    model.add(layers.MaxPooling2D((3,3),strides=2))\n",
    "    model.add(layers.Flatten(name='flatten'))\n",
    "    model.add(layers.Dense(64,activation='relu',name='dense1'))\n",
    "    if train_or_test=='train':\n",
    "        model.add((layers.Dense(output,activation='softmax')))\n",
    "        model.compile(optimizer='adam',loss='categorical_crossentropy',metrics=['accuracy'])    \n",
    "    return model\n",
    "\n",
    "def get_result_picture(all_result,title=None,path=None):\n",
    "    x = np.arange(all_result.shape[1])# 生成横坐标范围\n",
    "    columns=all_result.columns# 生成横坐标\n",
    "    model_name_list=list(all_result.index)\n",
    "    plt.figure(figsize=(10,8))\n",
    "    for i in range(len(model_name_list)):\n",
    "        plt.bar(x+0.15*i, all_result.iloc[i], width=0.15, label=model_name_list[i])\n",
    "    plt.xticks(x+0.3*(i//2),columns)# 横坐标绑定\n",
    "    plt.ylim(np.min(np.min(all_result))*0.99,1)\n",
    "    plt.legend(loc=\"best\")\n",
    "    plt.xlabel('Evaluation',fontdict={'weight': 'normal', 'size': 15})\n",
    "    plt.ylabel('Value',fontdict={'weight': 'normal', 'size': 15})\n",
    "    plt.ylim(collect_every_model_result.values.min()*0.99,collect_every_model_result.values.max()*1.01)\n",
    "    if title != None:\n",
    "        plt.title(title)\n",
    "    if path!=None:\n",
    "        plt.savefig(path,dpi=700)\n",
    "    plt.show()"
   ]
  },
  {
   "cell_type": "code",
   "execution_count": 6,
   "id": "9cbe9448",
   "metadata": {},
   "outputs": [],
   "source": [
    "#将多条数据的所有样本合并起来\n",
    "x_train,x_test,y_train,y_test=[],[],[],[]\n",
    "for i in range(len(data_x)):\n",
    "    train,test,label_train ,label_test=yuchuli(data_x[i],data_y[i])\n",
    "    x_train+=list(train)\n",
    "    x_test+=list(test)\n",
    "    y_train+=label_train\n",
    "    y_test+=label_test\n",
    "    \n",
    "#转换数据格式\n",
    "x_train=np.array(x_train)\n",
    "x_test=np.array(x_test)\n",
    "\n",
    "#将x转变为二维矩阵，方便CNN训练\n",
    "x_train = x_train.reshape(-1,20,20,1)\n",
    "x_test = x_test.reshape(-1,20,20,1)\n",
    "\n",
    "state = np.random.get_state()\n",
    "np.random.shuffle(x_train)\n",
    "np.random.set_state(state)\n",
    "np.random.shuffle(y_train)\n",
    "\n",
    "#转换y的数据格式\n",
    "y_train=np.array(y_train)\n",
    "y_test=np.array(y_test)\n",
    "\n",
    "#生成label的字典，用于将y转换为onehot格式\n",
    "label_dict={}\n",
    "label_dict_anti={}\n",
    "for i,j in enumerate(list(set(list(y_train)+list(y_test)))):\n",
    "    label_dict[j]=i\n",
    "    label_dict_anti[i]=j\n",
    "    \n",
    "\n",
    "one_hot_train_labels = to_one_hot(y_train,label_dict)\n",
    "one_hot_test_labels = to_one_hot(y_test,label_dict)\n",
    "\n",
    "y_test_transform=np.argmax(one_hot_test_labels,axis=1)\n",
    "y_train_transform=np.argmax(one_hot_train_labels,axis=1)\n",
    "\n",
    "input_shape=x_train.shape[1:]\n",
    "output=one_hot_train_labels.shape[1]"
   ]
  },
  {
   "cell_type": "code",
   "execution_count": 7,
   "id": "23525685",
   "metadata": {},
   "outputs": [
    {
     "data": {
      "text/plain": [
       "array([0, 0, 0, 0, 0, 0, 0, 0, 0, 0, 0, 0, 0, 0, 0, 0, 0, 0, 0, 0, 0, 0,\n",
       "       0, 0, 0, 0, 0, 0, 0, 0, 0, 0, 0, 0, 0, 0, 0, 0, 0, 0, 0, 0, 0, 0,\n",
       "       0, 0, 0, 0, 0, 0, 0, 0, 0, 0, 0, 0, 0, 0, 0, 0, 0, 0, 0, 0, 0, 0,\n",
       "       0, 0, 0, 0, 0, 0, 0, 0, 0, 0, 0, 0, 0, 0, 0, 0, 0, 0, 0, 0, 0, 0,\n",
       "       0, 0, 0, 0, 0, 0, 0, 0, 0, 0, 0, 0, 3, 3, 3, 3, 3, 3, 3, 3, 3, 3,\n",
       "       3, 3, 3, 3, 3, 3, 3, 3, 3, 3, 3, 3, 3, 3, 3, 3, 3, 3, 3, 3, 3, 3,\n",
       "       3, 3, 3, 3, 3, 3, 3, 3, 3, 3, 3, 3, 3, 3, 3, 3, 3, 3, 3, 3, 3, 3,\n",
       "       3, 3, 3, 3, 3, 3, 3, 3, 3, 3, 3, 3, 3, 3, 3, 3, 3, 3, 3, 3, 3, 3,\n",
       "       3, 3, 3, 3, 3, 3, 3, 3, 3, 3, 3, 3, 3, 3, 3, 3, 3, 3, 3, 3, 3, 3,\n",
       "       3, 3, 1, 1, 1, 1, 1, 1, 1, 1, 1, 1, 1, 1, 1, 1, 1, 1, 1, 1, 1, 1,\n",
       "       1, 1, 1, 1, 1, 1, 1, 1, 1, 1, 1, 1, 1, 1, 1, 1, 1, 1, 1, 1, 1, 1,\n",
       "       1, 1, 1, 1, 1, 1, 1, 1, 1, 1, 1, 1, 1, 1, 1, 1, 1, 1, 1, 1, 1, 1,\n",
       "       1, 1, 1, 1, 1, 1, 1, 1, 1, 1, 1, 1, 1, 1, 1, 1, 1, 1, 1, 1, 1, 1,\n",
       "       1, 1, 1, 1, 1, 1, 1, 1, 1, 1, 1, 1, 1, 1, 2, 2, 2, 2, 2, 2, 2, 2,\n",
       "       2, 2, 2, 2, 2, 2, 2, 2, 2, 2, 2, 2, 2, 2, 2, 2, 2, 2, 2, 2, 2, 2,\n",
       "       2, 2, 2, 2, 2, 2, 2, 2, 2, 2, 2, 2, 2, 2, 2, 2, 2, 2, 2, 2, 2, 2,\n",
       "       2, 2, 2, 2, 2, 2, 2, 2, 2, 2, 2, 2, 2, 2, 2, 2, 2, 2, 2, 2, 2, 2,\n",
       "       2, 2, 2, 2, 2, 2, 2, 2, 2, 2, 2, 2, 2, 2, 2, 2, 2, 2, 2, 2, 2, 2,\n",
       "       2, 2, 2, 2, 7, 7, 7, 7, 7, 7, 7, 7, 7, 7, 7, 7, 7, 7, 7, 7, 7, 7,\n",
       "       7, 7, 7, 7, 7, 7, 7, 7, 7, 7, 7, 7, 7, 7, 7, 7, 7, 7, 7, 7, 7, 7,\n",
       "       7, 7, 7, 7, 7, 7, 7, 7, 7, 7, 7, 7, 7, 7, 7, 7, 7, 7, 7, 7, 7, 7,\n",
       "       7, 7, 7, 7, 7, 7, 7, 7, 7, 7, 7, 7, 7, 7, 7, 7, 7, 7, 7, 7, 7, 7,\n",
       "       7, 7, 7, 7, 7, 7, 7, 7, 7, 7, 7, 7, 7, 7, 7, 7, 5, 5, 5, 5, 5, 5,\n",
       "       5, 5, 5, 5, 5, 5, 5, 5, 5, 5, 5, 5, 5, 5, 5, 5, 5, 5, 5, 5, 5, 5,\n",
       "       5, 5, 5, 5, 5, 5, 5, 5, 5, 5, 5, 5, 5, 5, 5, 5, 5, 5, 5, 5, 5, 5,\n",
       "       5, 5, 5, 5, 5, 5, 5, 5, 5, 5, 5, 5, 5, 5, 5, 5, 5, 5, 5, 5, 5, 5,\n",
       "       5, 5, 5, 5, 5, 5, 5, 5, 5, 5, 5, 5, 5, 5, 5, 5, 5, 5, 5, 5, 5, 5,\n",
       "       5, 5, 5, 5, 5, 5, 9, 9, 9, 9, 9, 9, 9, 9, 9, 9, 9, 9, 9, 9, 9, 9,\n",
       "       9, 9, 9, 9, 9, 9, 9, 9, 9, 9, 9, 9, 9, 9, 9, 9, 9, 9, 9, 9, 9, 9,\n",
       "       9, 9, 9, 9, 9, 9, 9, 9, 9, 9, 9, 9, 9, 9, 9, 9, 9, 9, 9, 9, 9, 9,\n",
       "       9, 9, 9, 9, 9, 9, 9, 9, 9, 9, 9, 9, 9, 9, 9, 9, 9, 9, 9, 9, 9, 9,\n",
       "       9, 9, 9, 9, 9, 9, 9, 9, 9, 9, 9, 9, 9, 9, 9, 9, 9, 9, 6, 6, 6, 6,\n",
       "       6, 6, 6, 6, 6, 6, 6, 6, 6, 6, 6, 6, 6, 6, 6, 6, 6, 6, 6, 6, 6, 6,\n",
       "       6, 6, 6, 6, 6, 6, 6, 6, 6, 6, 6, 6, 6, 6, 6, 6, 6, 6, 6, 6, 6, 6,\n",
       "       6, 6, 6, 6, 6, 6, 6, 6, 6, 6, 6, 6, 6, 6, 6, 6, 6, 6, 6, 6, 6, 6,\n",
       "       6, 6, 6, 6, 6, 6, 6, 6, 6, 6, 6, 6, 6, 6, 6, 6, 6, 6, 6, 6, 6, 6,\n",
       "       6, 6, 6, 6, 6, 6, 6, 6, 4, 4, 4, 4, 4, 4, 4, 4, 4, 4, 4, 4, 4, 4,\n",
       "       4, 4, 4, 4, 4, 4, 4, 4, 4, 4, 4, 4, 4, 4, 4, 4, 4, 4, 4, 4, 4, 4,\n",
       "       4, 4, 4, 4, 4, 4, 4, 4, 4, 4, 4, 4, 4, 4, 4, 4, 4, 4, 4, 4, 4, 4,\n",
       "       4, 4, 4, 4, 4, 4, 4, 4, 4, 4, 4, 4, 4, 4, 4, 4, 4, 4, 4, 4, 4, 4,\n",
       "       4, 4, 4, 4, 4, 4, 4, 4, 4, 4, 4, 4, 4, 4, 4, 4, 4, 4, 4, 4, 8, 8,\n",
       "       8, 8, 8, 8, 8, 8, 8, 8, 8, 8, 8, 8, 8, 8, 8, 8, 8, 8, 8, 8, 8, 8,\n",
       "       8, 8, 8, 8, 8, 8, 8, 8, 8, 8, 8, 8, 8, 8, 8, 8, 8, 8, 8, 8, 8, 8,\n",
       "       8, 8, 8, 8, 8, 8, 8, 8, 8, 8, 8, 8, 8, 8, 8, 8, 8, 8, 8, 8, 8, 8,\n",
       "       8, 8, 8, 8, 8, 8, 8, 8, 8, 8, 8, 8, 8, 8, 8, 8, 8, 8, 8, 8, 8, 8,\n",
       "       8, 8, 8, 8, 8, 8, 8, 8, 8, 8], dtype=int64)"
      ]
     },
     "execution_count": 7,
     "metadata": {},
     "output_type": "execute_result"
    }
   ],
   "source": [
    "y_test_transform"
   ]
  },
  {
   "cell_type": "code",
   "execution_count": 8,
   "id": "7c94fed2",
   "metadata": {},
   "outputs": [],
   "source": [
    "#创建回收器，保存必要的结果\n",
    "collect_every_model_result=[]\n",
    "collect_every_model_PR=[]"
   ]
  },
  {
   "cell_type": "code",
   "execution_count": 11,
   "id": "c5a3a147",
   "metadata": {},
   "outputs": [],
   "source": [
    "#创建新的模型，结构与原来的结构一致\n",
    "model2 = creat_model(input_shape,output,train_or_test='test')\n"
   ]
  },
  {
   "cell_type": "code",
   "execution_count": 12,
   "id": "4999f40c",
   "metadata": {},
   "outputs": [],
   "source": [
    "#加载原来保存的权重参数\n",
    "\n",
    "x_temp1=model2.predict(x_train)\n",
    "# x_temp2=model2.predict(x_test)"
   ]
  },
  {
   "cell_type": "code",
   "execution_count": 13,
   "id": "eff1f342",
   "metadata": {},
   "outputs": [],
   "source": [
    "#加载原来保存的权重参数\n",
    "\n",
    "# x_temp1=model2.predict(x_train)\n",
    "x_temp2=model2.predict(x_test)"
   ]
  },
  {
   "cell_type": "code",
   "execution_count": 14,
   "id": "121465d0",
   "metadata": {},
   "outputs": [
    {
     "data": {
      "text/plain": [
       "((2000, 64), (1000, 64))"
      ]
     },
     "execution_count": 14,
     "metadata": {},
     "output_type": "execute_result"
    }
   ],
   "source": [
    "x_temp1.shape,x_temp2.shape"
   ]
  },
  {
   "cell_type": "code",
   "execution_count": 13,
   "id": "cc54072f",
   "metadata": {},
   "outputs": [],
   "source": [
    "#创建CNN+svm模型，此处核函数为线性核函数\n",
    "svm_line = svm.SVC(C=0.9, kernel='linear',probability=True)  # linear kernel\n",
    "svm_line.fit(x_temp1, y_train_transform)\n",
    "svm_line_pred_test=svm_line.predict_proba(x_temp2)\n",
    "svm_line_pred_test_1=np.argmax(svm_line_pred_test,axis=1)\n",
    "\n",
    "# acc,pre,rec,f1=get_result(y_test_transform,svm_line_pred_test_1)\n",
    "# print('CNN\\'s result \\n accuracy= {} \\t precision= {} \\t recall= {} \\t F1= {}'.format(round(acc,5),round(pre,5),round(rec,5),round(f1,5)))\n",
    "\n",
    "# #模型分类结果的混淆矩阵   \n",
    "# plt_heatmap(y_test_transform,svm_line_pred_test_1,title=None,path=None)\n",
    "\n",
    "# #模型的P-R曲线    \n",
    "# precision, recall, average_precision = micro_PR(one_hot_test_labels,svm_line_pred_test)\n",
    "# plot_a_model_PR_curve(precision,recall,average_precision,title=None,path=None)\n",
    "\n",
    "# #画模型的ROC曲线\n",
    "# roc_auc=get_ROC_AUC(one_hot_test_labels,svm_line_pred_test,list(label_dict.values()),title=None,path=None)\n",
    "\n",
    "# #回收结果\n",
    "# collect_every_model_result.append([acc,pre,rec,f1,roc_auc,'CNN+linear_svm'])\n",
    "# collect_every_model_PR.append([precision, recall, average_precision,'CNN+linear_svm'])"
   ]
  },
  {
   "cell_type": "code",
   "execution_count": 15,
   "id": "f3ba5841",
   "metadata": {},
   "outputs": [
    {
     "data": {
      "text/plain": [
       "(1000,)"
      ]
     },
     "execution_count": 15,
     "metadata": {},
     "output_type": "execute_result"
    }
   ],
   "source": [
    "svm_line_pred_test_1.shape"
   ]
  },
  {
   "cell_type": "code",
   "execution_count": 16,
   "id": "258bd7c0",
   "metadata": {},
   "outputs": [
    {
     "data": {
      "text/plain": [
       "(1000,)"
      ]
     },
     "execution_count": 16,
     "metadata": {},
     "output_type": "execute_result"
    }
   ],
   "source": [
    "y_test.shape"
   ]
  },
  {
   "cell_type": "code",
   "execution_count": 20,
   "id": "174f3dbd",
   "metadata": {},
   "outputs": [
    {
     "data": {
      "text/plain": [
       "(1000,)"
      ]
     },
     "execution_count": 20,
     "metadata": {},
     "output_type": "execute_result"
    }
   ],
   "source": [
    "y_test_transform.shape"
   ]
  },
  {
   "cell_type": "code",
   "execution_count": 21,
   "id": "13d3f9a1",
   "metadata": {},
   "outputs": [],
   "source": [
    "import tensorflow as tf"
   ]
  },
  {
   "cell_type": "code",
   "execution_count": 27,
   "id": "3b6362d0",
   "metadata": {},
   "outputs": [
    {
     "data": {
      "text/plain": [
       "array([2, 2, 4, 4, 2, 2, 4, 2, 2, 2, 2, 2, 2, 4, 4, 4, 2, 2, 2, 2, 2, 2,\n",
       "       4, 4, 4, 2, 2, 2, 2, 2, 2, 2, 2, 4, 4, 2, 2, 2, 2, 4, 2, 4, 2, 4,\n",
       "       2, 2, 4, 4, 2, 4, 2, 2, 4, 2, 2, 4, 4, 4, 2, 4, 4, 4, 4, 2, 2, 4,\n",
       "       2, 4, 2, 2, 2, 4, 2, 2, 4, 4, 2, 2, 2, 4, 4, 4, 2, 2, 2, 2, 2, 2,\n",
       "       2, 2, 2, 2, 2, 2, 2, 4, 2, 2, 2, 2, 9, 9, 9, 9, 9, 9, 9, 9, 9, 9,\n",
       "       9, 9, 9, 9, 9, 9, 9, 9, 9, 9, 9, 9, 9, 9, 9, 9, 9, 9, 9, 9, 9, 9,\n",
       "       9, 9, 9, 9, 9, 9, 9, 9, 9, 9, 9, 9, 9, 9, 9, 9, 9, 9, 9, 9, 9, 9,\n",
       "       9, 9, 9, 9, 9, 9, 9, 9, 9, 9, 9, 9, 9, 9, 9, 9, 9, 9, 9, 9, 9, 9,\n",
       "       9, 9, 9, 9, 9, 9, 9, 9, 9, 9, 9, 9, 9, 9, 9, 9, 9, 9, 9, 9, 9, 9,\n",
       "       9, 9, 7, 7, 7, 7, 7, 7, 7, 7, 7, 7, 7, 7, 7, 7, 7, 7, 7, 7, 7, 7,\n",
       "       7, 7, 7, 7, 7, 7, 5, 7, 7, 7, 7, 7, 7, 5, 5, 7, 7, 7, 7, 5, 7, 7,\n",
       "       7, 7, 7, 7, 7, 7, 5, 7, 7, 5, 5, 7, 7, 7, 7, 7, 7, 7, 5, 7, 7, 7,\n",
       "       7, 7, 7, 7, 7, 5, 3, 7, 7, 7, 7, 7, 7, 7, 7, 7, 7, 7, 7, 7, 7, 7,\n",
       "       7, 7, 7, 7, 7, 7, 7, 7, 7, 7, 7, 7, 7, 7, 1, 0, 1, 0, 4, 0, 2, 0,\n",
       "       0, 0, 9, 0, 6, 0, 2, 0, 2, 6, 0, 0, 2, 2, 6, 0, 2, 2, 0, 0, 2, 0,\n",
       "       0, 4, 2, 0, 0, 6, 1, 0, 0, 0, 2, 0, 0, 0, 2, 0, 0, 2, 0, 6, 0, 2,\n",
       "       6, 0, 0, 2, 4, 0, 0, 2, 2, 0, 2, 0, 4, 0, 2, 0, 0, 2, 6, 2, 0, 9,\n",
       "       0, 4, 9, 2, 6, 0, 6, 2, 0, 2, 2, 2, 2, 2, 2, 9, 2, 2, 6, 2, 2, 4,\n",
       "       0, 0, 9, 1, 6, 9, 1, 6, 1, 6, 9, 9, 9, 2, 1, 6, 9, 9, 2, 6, 2, 6,\n",
       "       6, 6, 1, 9, 9, 4, 6, 6, 6, 1, 6, 6, 2, 4, 6, 9, 2, 4, 9, 9, 4, 9,\n",
       "       9, 1, 4, 6, 1, 4, 6, 2, 6, 6, 6, 6, 6, 4, 6, 4, 6, 9, 6, 9, 6, 1,\n",
       "       1, 6, 9, 9, 6, 9, 6, 6, 1, 1, 9, 2, 1, 2, 6, 1, 4, 9, 9, 9, 1, 2,\n",
       "       9, 6, 1, 2, 2, 6, 1, 6, 1, 4, 2, 9, 6, 6, 9, 6, 2, 2, 0, 2, 2, 0,\n",
       "       2, 2, 2, 0, 0, 0, 0, 2, 0, 0, 2, 2, 2, 1, 0, 2, 2, 2, 2, 2, 0, 2,\n",
       "       2, 2, 0, 0, 2, 2, 0, 2, 0, 2, 0, 2, 2, 2, 0, 2, 2, 2, 2, 0, 0, 2,\n",
       "       2, 2, 2, 0, 2, 2, 0, 2, 2, 2, 2, 2, 2, 2, 2, 2, 0, 0, 2, 2, 2, 2,\n",
       "       2, 2, 0, 2, 2, 0, 2, 0, 2, 2, 2, 2, 0, 2, 2, 0, 0, 2, 0, 2, 0, 0,\n",
       "       0, 2, 0, 0, 0, 0, 2, 2, 2, 2, 2, 2, 2, 1, 2, 2, 2, 0, 2, 2, 2, 2,\n",
       "       2, 2, 2, 2, 2, 2, 2, 4, 2, 2, 2, 0, 0, 2, 2, 2, 2, 3, 2, 0, 4, 4,\n",
       "       2, 6, 2, 2, 2, 2, 4, 6, 2, 2, 2, 2, 2, 2, 2, 2, 2, 2, 2, 2, 2, 2,\n",
       "       2, 2, 2, 2, 2, 2, 2, 2, 9, 2, 2, 2, 2, 2, 2, 2, 2, 2, 2, 2, 2, 0,\n",
       "       9, 2, 2, 2, 2, 2, 2, 6, 2, 2, 6, 2, 2, 2, 2, 2, 1, 2, 7, 5, 7, 5,\n",
       "       7, 5, 7, 5, 5, 5, 5, 5, 5, 3, 5, 5, 5, 5, 5, 5, 5, 5, 5, 5, 5, 5,\n",
       "       5, 5, 5, 7, 5, 5, 5, 5, 5, 5, 5, 5, 5, 5, 5, 5, 5, 5, 5, 5, 5, 5,\n",
       "       7, 5, 5, 5, 5, 5, 5, 5, 5, 5, 5, 5, 5, 5, 3, 5, 5, 5, 5, 5, 5, 5,\n",
       "       5, 5, 5, 5, 5, 5, 5, 5, 5, 5, 5, 7, 7, 5, 5, 7, 5, 5, 5, 5, 5, 5,\n",
       "       3, 5, 5, 5, 5, 5, 5, 5, 5, 4, 5, 7, 5, 9, 3, 7, 5, 7, 7, 7, 7, 7,\n",
       "       3, 7, 7, 5, 5, 5, 5, 5, 7, 3, 7, 3, 5, 7, 7, 5, 9, 3, 6, 3, 3, 7,\n",
       "       5, 3, 3, 5, 7, 3, 7, 5, 5, 3, 5, 3, 7, 7, 3, 3, 3, 7, 7, 5, 7, 7,\n",
       "       3, 9, 5, 9, 5, 9, 5, 3, 5, 3, 5, 3, 5, 7, 7, 5, 5, 5, 5, 5, 9, 3,\n",
       "       3, 3, 9, 5, 3, 5, 5, 5, 5, 9, 9, 5, 7, 3, 3, 9, 3, 3, 5, 7, 0, 0,\n",
       "       0, 0, 0, 0, 0, 0, 0, 0, 0, 0, 0, 0, 0, 0, 0, 0, 0, 0, 0, 0, 0, 0,\n",
       "       0, 0, 0, 0, 0, 0, 0, 0, 0, 0, 0, 0, 0, 0, 0, 0, 0, 0, 0, 0, 0, 0,\n",
       "       0, 0, 0, 0, 0, 0, 0, 0, 0, 0, 0, 0, 0, 0, 0, 0, 0, 0, 0, 0, 0, 0,\n",
       "       0, 0, 0, 0, 0, 0, 0, 0, 0, 0, 0, 0, 0, 0, 0, 0, 0, 0, 0, 0, 0, 0,\n",
       "       0, 0, 0, 0, 0, 0, 0, 0, 0, 0], dtype=int64)"
      ]
     },
     "execution_count": 27,
     "metadata": {},
     "output_type": "execute_result"
    }
   ],
   "source": [
    "svm_line_pred_test_1"
   ]
  },
  {
   "cell_type": "code",
   "execution_count": 28,
   "id": "b2d8cc39",
   "metadata": {},
   "outputs": [
    {
     "data": {
      "text/plain": [
       "array([4, 4, 4, 4, 4, 4, 4, 4, 4, 4, 4, 4, 4, 4, 4, 4, 4, 4, 4, 4, 4, 4,\n",
       "       4, 4, 4, 4, 4, 4, 4, 4, 4, 4, 4, 4, 4, 4, 4, 4, 4, 4, 4, 4, 4, 4,\n",
       "       4, 4, 4, 4, 4, 4, 4, 4, 4, 4, 4, 4, 4, 4, 4, 4, 4, 4, 4, 4, 4, 4,\n",
       "       4, 4, 4, 4, 4, 4, 4, 4, 4, 4, 4, 4, 4, 4, 4, 4, 4, 4, 4, 4, 4, 4,\n",
       "       4, 4, 4, 4, 4, 4, 4, 4, 4, 4, 4, 4, 9, 9, 9, 9, 9, 9, 9, 9, 9, 9,\n",
       "       9, 9, 9, 9, 9, 9, 9, 9, 9, 9, 9, 9, 9, 9, 9, 9, 9, 9, 9, 9, 9, 9,\n",
       "       9, 9, 9, 9, 9, 9, 9, 9, 9, 9, 9, 9, 9, 9, 9, 9, 9, 9, 9, 9, 9, 9,\n",
       "       9, 9, 9, 9, 9, 9, 9, 9, 9, 9, 9, 9, 9, 9, 9, 9, 9, 9, 9, 9, 9, 9,\n",
       "       9, 9, 9, 9, 9, 9, 9, 9, 9, 9, 9, 9, 9, 9, 9, 9, 9, 9, 9, 9, 9, 9,\n",
       "       9, 9, 7, 7, 7, 7, 7, 7, 7, 7, 7, 7, 7, 7, 7, 7, 7, 7, 7, 7, 7, 7,\n",
       "       7, 7, 7, 7, 7, 7, 7, 7, 7, 7, 7, 7, 7, 7, 7, 7, 7, 7, 7, 7, 7, 7,\n",
       "       7, 7, 7, 7, 7, 7, 7, 7, 7, 7, 7, 7, 7, 7, 7, 7, 7, 7, 7, 7, 7, 7,\n",
       "       7, 7, 7, 7, 7, 7, 7, 7, 7, 7, 7, 7, 7, 7, 7, 7, 7, 7, 7, 7, 7, 7,\n",
       "       7, 7, 7, 7, 7, 7, 7, 7, 7, 7, 7, 7, 7, 7, 1, 1, 1, 1, 1, 1, 1, 1,\n",
       "       1, 1, 1, 1, 1, 1, 1, 1, 1, 1, 1, 1, 1, 1, 1, 1, 1, 1, 1, 1, 1, 1,\n",
       "       1, 1, 1, 1, 1, 1, 1, 1, 1, 1, 1, 1, 1, 1, 1, 1, 1, 1, 1, 1, 1, 1,\n",
       "       1, 1, 1, 1, 1, 1, 1, 1, 1, 1, 1, 1, 1, 1, 1, 1, 1, 1, 1, 1, 1, 1,\n",
       "       1, 1, 1, 1, 1, 1, 1, 1, 1, 1, 1, 1, 1, 1, 1, 1, 1, 1, 1, 1, 1, 1,\n",
       "       1, 1, 1, 1, 6, 6, 6, 6, 6, 6, 6, 6, 6, 6, 6, 6, 6, 6, 6, 6, 6, 6,\n",
       "       6, 6, 6, 6, 6, 6, 6, 6, 6, 6, 6, 6, 6, 6, 6, 6, 6, 6, 6, 6, 6, 6,\n",
       "       6, 6, 6, 6, 6, 6, 6, 6, 6, 6, 6, 6, 6, 6, 6, 6, 6, 6, 6, 6, 6, 6,\n",
       "       6, 6, 6, 6, 6, 6, 6, 6, 6, 6, 6, 6, 6, 6, 6, 6, 6, 6, 6, 6, 6, 6,\n",
       "       6, 6, 6, 6, 6, 6, 6, 6, 6, 6, 6, 6, 6, 6, 6, 6, 2, 2, 2, 2, 2, 2,\n",
       "       2, 2, 2, 2, 2, 2, 2, 2, 2, 2, 2, 2, 2, 2, 2, 2, 2, 2, 2, 2, 2, 2,\n",
       "       2, 2, 2, 2, 2, 2, 2, 2, 2, 2, 2, 2, 2, 2, 2, 2, 2, 2, 2, 2, 2, 2,\n",
       "       2, 2, 2, 2, 2, 2, 2, 2, 2, 2, 2, 2, 2, 2, 2, 2, 2, 2, 2, 2, 2, 2,\n",
       "       2, 2, 2, 2, 2, 2, 2, 2, 2, 2, 2, 2, 2, 2, 2, 2, 2, 2, 2, 2, 2, 2,\n",
       "       2, 2, 2, 2, 2, 2, 8, 8, 8, 8, 8, 8, 8, 8, 8, 8, 8, 8, 8, 8, 8, 8,\n",
       "       8, 8, 8, 8, 8, 8, 8, 8, 8, 8, 8, 8, 8, 8, 8, 8, 8, 8, 8, 8, 8, 8,\n",
       "       8, 8, 8, 8, 8, 8, 8, 8, 8, 8, 8, 8, 8, 8, 8, 8, 8, 8, 8, 8, 8, 8,\n",
       "       8, 8, 8, 8, 8, 8, 8, 8, 8, 8, 8, 8, 8, 8, 8, 8, 8, 8, 8, 8, 8, 8,\n",
       "       8, 8, 8, 8, 8, 8, 8, 8, 8, 8, 8, 8, 8, 8, 8, 8, 8, 8, 5, 5, 5, 5,\n",
       "       5, 5, 5, 5, 5, 5, 5, 5, 5, 5, 5, 5, 5, 5, 5, 5, 5, 5, 5, 5, 5, 5,\n",
       "       5, 5, 5, 5, 5, 5, 5, 5, 5, 5, 5, 5, 5, 5, 5, 5, 5, 5, 5, 5, 5, 5,\n",
       "       5, 5, 5, 5, 5, 5, 5, 5, 5, 5, 5, 5, 5, 5, 5, 5, 5, 5, 5, 5, 5, 5,\n",
       "       5, 5, 5, 5, 5, 5, 5, 5, 5, 5, 5, 5, 5, 5, 5, 5, 5, 5, 5, 5, 5, 5,\n",
       "       5, 5, 5, 5, 5, 5, 5, 5, 3, 3, 3, 3, 3, 3, 3, 3, 3, 3, 3, 3, 3, 3,\n",
       "       3, 3, 3, 3, 3, 3, 3, 3, 3, 3, 3, 3, 3, 3, 3, 3, 3, 3, 3, 3, 3, 3,\n",
       "       3, 3, 3, 3, 3, 3, 3, 3, 3, 3, 3, 3, 3, 3, 3, 3, 3, 3, 3, 3, 3, 3,\n",
       "       3, 3, 3, 3, 3, 3, 3, 3, 3, 3, 3, 3, 3, 3, 3, 3, 3, 3, 3, 3, 3, 3,\n",
       "       3, 3, 3, 3, 3, 3, 3, 3, 3, 3, 3, 3, 3, 3, 3, 3, 3, 3, 3, 3, 0, 0,\n",
       "       0, 0, 0, 0, 0, 0, 0, 0, 0, 0, 0, 0, 0, 0, 0, 0, 0, 0, 0, 0, 0, 0,\n",
       "       0, 0, 0, 0, 0, 0, 0, 0, 0, 0, 0, 0, 0, 0, 0, 0, 0, 0, 0, 0, 0, 0,\n",
       "       0, 0, 0, 0, 0, 0, 0, 0, 0, 0, 0, 0, 0, 0, 0, 0, 0, 0, 0, 0, 0, 0,\n",
       "       0, 0, 0, 0, 0, 0, 0, 0, 0, 0, 0, 0, 0, 0, 0, 0, 0, 0, 0, 0, 0, 0,\n",
       "       0, 0, 0, 0, 0, 0, 0, 0, 0, 0], dtype=int64)"
      ]
     },
     "execution_count": 28,
     "metadata": {},
     "output_type": "execute_result"
    }
   ],
   "source": [
    "y_test_transform"
   ]
  },
  {
   "cell_type": "code",
   "execution_count": 30,
   "id": "760f2c58",
   "metadata": {},
   "outputs": [],
   "source": [
    "correct_prediction = tf.equal(svm_line_pred_test_1, y_test_transform)\n",
    "acc = tf.reduce_mean(tf.cast(correct_prediction, \"float\"))\n",
    "acc=float(acc)\n",
    "# f1=metrics.f1_score(svm_line_pred_test_1, y_test_transform)"
   ]
  },
  {
   "cell_type": "code",
   "execution_count": 31,
   "id": "474772eb",
   "metadata": {},
   "outputs": [
    {
     "data": {
      "text/plain": [
       "0.5419999957084656"
      ]
     },
     "execution_count": 31,
     "metadata": {},
     "output_type": "execute_result"
    }
   ],
   "source": [
    "acc"
   ]
  },
  {
   "cell_type": "code",
   "execution_count": null,
   "id": "afb607ef",
   "metadata": {},
   "outputs": [],
   "source": []
  }
 ],
 "metadata": {
  "kernelspec": {
   "display_name": "Python 3",
   "language": "python",
   "name": "python3"
  },
  "language_info": {
   "codemirror_mode": {
    "name": "ipython",
    "version": 3
   },
   "file_extension": ".py",
   "mimetype": "text/x-python",
   "name": "python",
   "nbconvert_exporter": "python",
   "pygments_lexer": "ipython3",
   "version": "3.8.12"
  }
 },
 "nbformat": 4,
 "nbformat_minor": 5
}
