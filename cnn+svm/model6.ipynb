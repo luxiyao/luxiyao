{
 "cells": [
  {
   "cell_type": "code",
   "execution_count": 1,
   "metadata": {},
   "outputs": [],
   "source": [
    "import scipy.io as scio\n",
    "import os\n",
    "import numpy as np\n",
    "import sklearn.metrics as metrics\n",
    "# from keras import layers\n",
    "# from keras import models\n",
    "import pandas as pd\n",
    "# from sklearn.metrics import f1_score,recall_score,precision_score,auc,accuracy_score,confusion_matrix\n",
    "# from sklearn.metrics import precision_recall_curve, average_precision_score,roc_auc_score,roc_curve\n",
    "import matplotlib.pyplot as plt\n",
    "import warnings\n",
    "warnings.filterwarnings('ignore')\n",
    "from itertools import cycle\n",
    "from scipy import interp\n",
    "plt.rcParams['font.sans-serif']=['SimHei'] #用来正常显示中文标签\n",
    "import seaborn as sns"
   ]
  },
  {
   "cell_type": "code",
   "execution_count": 2,
   "metadata": {},
   "outputs": [],
   "source": [
    "import tensorflow as tf\n",
    "from tensorflow.keras.preprocessing import image\n",
    "from tensorflow.keras.optimizers import Adam,Adadelta\n",
    "from tensorflow.keras.callbacks import EarlyStopping\n",
    "from tensorflow.keras.layers import Input, Dense, Activation, BatchNormalization, Flatten, Conv2D,Conv1D,Conv1DTranspose\n",
    "from tensorflow.keras.layers import MaxPooling1D, Dropout, UpSampling1D,MaxPool2D,UpSampling2D\n",
    "import tensorflow as tf\n",
    "import tensorflow.keras as keras\n",
    "import tensorflow.keras.layers as layers\n",
    "import pandas as pd\n",
    "import numpy as np\n",
    "import matplotlib.pyplot as plt\n",
    "# plt.style.use('seaborn')\n",
    "import tensorflow as tf\n",
    "import seaborn as sns\n",
    "from sklearn.model_selection import train_test_split\n",
    "from tensorflow.keras.models import Model, load_model\n",
    "from tensorflow.keras.callbacks import ModelCheckpoint\n",
    "from tensorflow.keras import regularizers\n",
    "from sklearn.preprocessing import StandardScaler,MinMaxScaler\n",
    "from sklearn.metrics import roc_curve, auc, precision_recall_curve\n",
    "from tqdm import notebook\n",
    "import glob\n",
    "import os\n",
    "os.environ['CUDA_VISIBLE_DEVICES'] = \"0\""
   ]
  },
  {
   "cell_type": "code",
   "execution_count": 3,
   "metadata": {},
   "outputs": [],
   "source": [
    "import tensorflow as tf\n",
    "from tensorflow.keras.preprocessing import image\n",
    "from tensorflow.keras.optimizers import Adam,Adadelta\n",
    "from tensorflow.keras.callbacks import EarlyStopping\n",
    "from tensorflow.keras.layers import Input, Dense, Activation, BatchNormalization, Flatten, Conv2D,Conv1D,Conv1DTranspose\n",
    "from tensorflow.keras.layers import MaxPooling1D, Dropout, UpSampling1D,MaxPool2D,UpSampling2D\n",
    "import tensorflow as tf\n",
    "import tensorflow.keras as keras\n",
    "import tensorflow.keras.layers as layers\n",
    "import pandas as pd\n",
    "import numpy as np\n",
    "import matplotlib.pyplot as plt\n",
    "# plt.style.use('seaborn')\n",
    "import tensorflow as tf\n",
    "import seaborn as sns\n",
    "from sklearn.model_selection import train_test_split\n",
    "from tensorflow.keras.models import Model, load_model\n",
    "from tensorflow.keras.callbacks import ModelCheckpoint\n",
    "from tensorflow.keras import regularizers\n",
    "from sklearn.preprocessing import StandardScaler,MinMaxScaler\n",
    "from sklearn.metrics import roc_curve, auc, precision_recall_curve\n",
    "from tqdm import notebook\n",
    "import glob\n",
    "import os\n",
    "os.environ['CUDA_VISIBLE_DEVICES'] = \"0\""
   ]
  },
  {
   "cell_type": "code",
   "execution_count": 4,
   "metadata": {},
   "outputs": [],
   "source": [
    "path='./CWRU/'\n",
    "#寻找文件夹下所有的数据文件\n",
    "path_list=os.listdir(path)\n",
    "data_x=[]\n",
    "data_y=[]\n",
    "for i in path_list:\n",
    "    path1=path+i\n",
    "    dd=scio.loadmat(path1)\n",
    "    for j in dd.keys():\n",
    "        #只使用DE的数据\n",
    "        if 'DE' in j:\n",
    "            ddd=dd[j]\n",
    "            #截前12W个数据\n",
    "            data_x.append(ddd[:120000].ravel())\n",
    "            data_y.append(i)"
   ]
  },
  {
   "cell_type": "code",
   "execution_count": 5,
   "metadata": {},
   "outputs": [],
   "source": [
    "#切分成多个样本数据\n",
    "def yuchuli(a,label):\n",
    "    \"\"\"\n",
    "    前200个样本用于训练\n",
    "    后100个样本用于测试\n",
    "    \"\"\"\n",
    "    a  = a.reshape(300,400)\n",
    "    np.random.shuffle(a)\n",
    "    train = a[:200,:]\n",
    "    test = a[200:,:]\n",
    "    label_test =[label for i in range(0,100)]\n",
    "    label_train = [label for i in range(0, 200)]\n",
    "    return train,test,label_train ,label_test\n",
    "\n",
    "\n",
    "\n",
    "#绘制P-R曲线\n",
    "def micro_PR(y_test,y_score):\n",
    "    # 对每一个类别计算性能指标\n",
    "    precision = dict()\n",
    "    recall = dict()\n",
    "    average_precision = dict()\n",
    "    # .shape会返回一个元组，存储行和列，取第二个数，也就是列\n",
    "    n_classes = y_score.shape[1]\n",
    "    for i in range(n_classes):\n",
    "        precision[i], recall[i], _ =  precision_recall_curve(y_test[:, i], y_score[:, i])\n",
    "        average_precision[i] = average_precision_score(y_test[:, i], y_score[:, i])\n",
    "    precision[\"micro\"],  recall[\"micro\"], _ = precision_recall_curve(y_test.ravel(), y_score.ravel())\n",
    "    average_precision[\"micro\"] = average_precision_score(y_test, y_score, average=\"micro\")\n",
    "    return precision, recall, average_precision\n",
    "\n",
    "def plot_a_model_PR_curve(precision,recall,average_precision,title=None,path=None):\n",
    "    plt.figure(figsize=(6,6))\n",
    "    for i in precision.keys():\n",
    "        label = str(i)+\"，AP = {0:0.4f}\".format(average_precision[i])\n",
    "        plt.step(recall[i], precision[i], where='post', lw=2,label=label)\n",
    "    plt.legend()\n",
    "    plt.xlabel(\"Recall\", fontdict={'weight': 'normal', 'size': 15})\n",
    "    plt.ylabel(\"Precision\", fontdict={'weight': 'normal', 'size': 15})\n",
    "    if title != None:\n",
    "        plt.title(title)\n",
    "        \n",
    "    if path!= None:\n",
    "        plt.savefig(path,dpi=700)\n",
    "    plt.show()\n",
    "\n",
    "    \n",
    "#将y转变为onehot向量\n",
    "def to_one_hot(labels,label_dict):\n",
    "    dimension=len(label_dict.keys())\n",
    "    results = np.zeros((len(labels),dimension))\n",
    "    for i,label in enumerate(labels):\n",
    "        results[i,label_dict[label]] = 1\n",
    "    return results"
   ]
  },
  {
   "cell_type": "code",
   "execution_count": 6,
   "metadata": {},
   "outputs": [],
   "source": [
    "#将多条数据的所有样本合并起来\n",
    "x_train,x_test,y_train,y_test=[],[],[],[]\n",
    "for i in range(len(data_x)):\n",
    "    train,test,label_train ,label_test=yuchuli(data_x[i],data_y[i])\n",
    "    x_train+=list(train)\n",
    "    x_test+=list(test)\n",
    "    y_train+=label_train\n",
    "    y_test+=label_test\n",
    "    \n",
    "#转换数据格式\n",
    "x_train=np.array(x_train)\n",
    "x_test=np.array(x_test)\n",
    "\n",
    "#将x转变为二维矩阵，方便CNN训练\n",
    "x_train = x_train.reshape(-1,400,1)\n",
    "x_test = x_test.reshape(-1,400,1)\n",
    "\n",
    "state = np.random.get_state()\n",
    "np.random.shuffle(x_train)\n",
    "np.random.set_state(state)\n",
    "np.random.shuffle(y_train)\n",
    "\n",
    "#转换y的数据格式\n",
    "y_train=np.array(y_train)\n",
    "y_test=np.array(y_test)\n",
    "\n",
    "#生成label的字典，用于将y转换为onehot格式\n",
    "label_dict={}\n",
    "label_dict_anti={}\n",
    "for i,j in enumerate(list(set(list(y_train)+list(y_test)))):\n",
    "    label_dict[j]=i\n",
    "    label_dict_anti[i]=j\n",
    "    \n",
    "\n",
    "one_hot_train_labels = to_one_hot(y_train,label_dict)\n",
    "one_hot_test_labels = to_one_hot(y_test,label_dict)\n",
    "\n",
    "y_test_transform=np.argmax(one_hot_test_labels,axis=1)\n",
    "y_train_transform=np.argmax(one_hot_train_labels,axis=1)\n",
    "\n",
    "input_shape=x_train.shape[1:]\n",
    "output=one_hot_train_labels.shape[1]"
   ]
  },
  {
   "cell_type": "code",
   "execution_count": 7,
   "metadata": {},
   "outputs": [
    {
     "data": {
      "text/plain": [
       "array([[0., 0., 0., ..., 0., 0., 1.],\n",
       "       [0., 0., 0., ..., 0., 0., 0.],\n",
       "       [0., 0., 0., ..., 0., 0., 0.],\n",
       "       ...,\n",
       "       [0., 0., 0., ..., 0., 1., 0.],\n",
       "       [0., 0., 1., ..., 0., 0., 0.],\n",
       "       [0., 0., 1., ..., 0., 0., 0.]])"
      ]
     },
     "execution_count": 7,
     "metadata": {},
     "output_type": "execute_result"
    }
   ],
   "source": [
    "one_hot_train_labels"
   ]
  },
  {
   "cell_type": "code",
   "execution_count": 8,
   "metadata": {},
   "outputs": [
    {
     "data": {
      "text/plain": [
       "((2000, 400, 1), (1000, 400, 1))"
      ]
     },
     "execution_count": 8,
     "metadata": {},
     "output_type": "execute_result"
    }
   ],
   "source": [
    "x_train.shape,x_test.shape"
   ]
  },
  {
   "cell_type": "code",
   "execution_count": 9,
   "metadata": {},
   "outputs": [
    {
     "data": {
      "text/plain": [
       "((2000,), (1000,))"
      ]
     },
     "execution_count": 9,
     "metadata": {},
     "output_type": "execute_result"
    }
   ],
   "source": [
    "y_train_transform.shape,y_test_transform.shape"
   ]
  },
  {
   "cell_type": "markdown",
   "metadata": {},
   "source": [
    "Model"
   ]
  },
  {
   "cell_type": "code",
   "execution_count": 10,
   "metadata": {},
   "outputs": [
    {
     "data": {
      "text/plain": [
       "10"
      ]
     },
     "execution_count": 10,
     "metadata": {},
     "output_type": "execute_result"
    }
   ],
   "source": [
    "num_classes = len(np.unique(y_train_transform))\n",
    "num_classes"
   ]
  },
  {
   "cell_type": "code",
   "execution_count": 11,
   "metadata": {},
   "outputs": [],
   "source": [
    "# INPUT_DIMS = 40\n",
    "# TIME_STEPS = 400\n",
    "# lstm_units = 64\n",
    "import keras.backend as K\n",
    "from keras.layers import Input, Dense, LSTM, merge ,Conv1D,Dropout,Bidirectional,Multiply\n",
    "from keras.models import Model\n",
    "from keras.layers import merge\n",
    "from keras.layers.core import *\n",
    "from keras.layers.recurrent import LSTM\n",
    "from keras.models import *\n",
    "\n",
    "import  pandas as pd\n",
    "import  numpy as np"
   ]
  },
  {
   "cell_type": "code",
   "execution_count": 12,
   "metadata": {},
   "outputs": [],
   "source": [
    "SINGLE_ATTENTION_VECTOR = False\n",
    "def attention_3d_block2(inputs, single_attention_vector=False):\n",
    "    # 如果上一层是LSTM，需要return_sequences=True\n",
    "    # inputs.shape = (batch_size, time_steps, input_dim)\n",
    "    time_steps = K.int_shape(inputs)[1]\n",
    "    input_dim = K.int_shape(inputs)[2]\n",
    "    a = inputs\n",
    "    a = Dense(input_dim, activation='softmax')(a)\n",
    "    if single_attention_vector:\n",
    "        a = Lambda(lambda x: K.mean(x, axis=1))(a)\n",
    "        a = RepeatVector(input_dim)(a)\n",
    "\n",
    "    a_probs = Permute((1, 2))(a)\n",
    "    # 乘上了attention权重，但是并没有求和，好像影响不大\n",
    "    # 如果分类任务，进行Flatten展开就可以了\n",
    "    # element-wise\n",
    "    output_attention_mul = Multiply()([inputs, a_probs])\n",
    "    return output_attention_mul"
   ]
  },
  {
   "cell_type": "code",
   "execution_count": 39,
   "metadata": {},
   "outputs": [],
   "source": [
    "def attention_model():\n",
    "    input_img = Input(shape=(400, 1))\n",
    "\n",
    "    x= Conv1D(filters = 30, kernel_size = 10, activation = 'relu', padding = 'same')(input_img)\n",
    "\n",
    "    \n",
    "    \n",
    "    \n",
    "    \n",
    "    attention_mul = attention_3d_block2(x)\n",
    "    #lstm_out = Bidirectional(LSTM(lstm_units, activation='relu'), name='bilstm')(x)\n",
    "    lstm_out = LSTM(64, return_sequences=True)(attention_mul)\n",
    "\n",
    "\n",
    "\n",
    "\n",
    "\n",
    "    # attention_mul = attention_3d_block2(inception_out)\n",
    "    attention_mul = Flatten()(lstm_out)\n",
    "\n",
    "    output = Dense(10, activation='softmax')(attention_mul)\n",
    "    model = Model(inputs=input_img, outputs=output)\n",
    "    return model"
   ]
  },
  {
   "cell_type": "code",
   "execution_count": 40,
   "metadata": {},
   "outputs": [],
   "source": [
    "model=attention_model()"
   ]
  },
  {
   "cell_type": "code",
   "execution_count": 41,
   "metadata": {},
   "outputs": [],
   "source": [
    "model.compile(optimizer='adam',loss='sparse_categorical_crossentropy',metrics=['sparse_categorical_accuracy'])   "
   ]
  },
  {
   "cell_type": "code",
   "execution_count": 42,
   "metadata": {},
   "outputs": [
    {
     "name": "stdout",
     "output_type": "stream",
     "text": [
      "Model: \"model_3\"\n",
      "__________________________________________________________________________________________________\n",
      " Layer (type)                   Output Shape         Param #     Connected to                     \n",
      "==================================================================================================\n",
      " input_4 (InputLayer)           [(None, 400, 1)]     0           []                               \n",
      "                                                                                                  \n",
      " conv1d_9 (Conv1D)              (None, 400, 30)      330         ['input_4[0][0]']                \n",
      "                                                                                                  \n",
      " conv1d_10 (Conv1D)             (None, 400, 30)      630         ['input_4[0][0]']                \n",
      "                                                                                                  \n",
      " conv1d_11 (Conv1D)             (None, 400, 30)      930         ['input_4[0][0]']                \n",
      "                                                                                                  \n",
      " tf.concat_3 (TFOpLambda)       (None, 400, 90)      0           ['conv1d_9[0][0]',               \n",
      "                                                                  'conv1d_10[0][0]',              \n",
      "                                                                  'conv1d_11[0][0]']              \n",
      "                                                                                                  \n",
      " dense_6 (Dense)                (None, 400, 90)      8190        ['tf.concat_3[0][0]']            \n",
      "                                                                                                  \n",
      " permute_3 (Permute)            (None, 400, 90)      0           ['dense_6[0][0]']                \n",
      "                                                                                                  \n",
      " multiply_3 (Multiply)          (None, 400, 90)      0           ['tf.concat_3[0][0]',            \n",
      "                                                                  'permute_3[0][0]']              \n",
      "                                                                                                  \n",
      " lstm_5 (LSTM)                  (None, 400, 64)      39680       ['multiply_3[0][0]']             \n",
      "                                                                                                  \n",
      " flatten_3 (Flatten)            (None, 25600)        0           ['lstm_5[0][0]']                 \n",
      "                                                                                                  \n",
      " dense_7 (Dense)                (None, 10)           256010      ['flatten_3[0][0]']              \n",
      "                                                                                                  \n",
      "==================================================================================================\n",
      "Total params: 305,770\n",
      "Trainable params: 305,770\n",
      "Non-trainable params: 0\n",
      "__________________________________________________________________________________________________\n"
     ]
    }
   ],
   "source": [
    "model.summary()"
   ]
  },
  {
   "cell_type": "code",
   "execution_count": 43,
   "metadata": {},
   "outputs": [
    {
     "name": "stdout",
     "output_type": "stream",
     "text": [
      "Epoch 1/100\n",
      "4/4 [==============================] - 8s 2s/step - loss: 2.3013 - sparse_categorical_accuracy: 0.1250 - val_loss: 2.2965 - val_sparse_categorical_accuracy: 0.1275 - lr: 0.0010\n",
      "Epoch 2/100\n",
      "4/4 [==============================] - 6s 1s/step - loss: 2.2912 - sparse_categorical_accuracy: 0.1181 - val_loss: 2.2753 - val_sparse_categorical_accuracy: 0.0850 - lr: 0.0010\n",
      "Epoch 3/100\n",
      "4/4 [==============================] - 6s 1s/step - loss: 2.2689 - sparse_categorical_accuracy: 0.1106 - val_loss: 2.2244 - val_sparse_categorical_accuracy: 0.2025 - lr: 0.0010\n",
      "Epoch 4/100\n",
      "4/4 [==============================] - 6s 1s/step - loss: 2.1917 - sparse_categorical_accuracy: 0.1925 - val_loss: 2.0601 - val_sparse_categorical_accuracy: 0.2000 - lr: 0.0010\n",
      "Epoch 5/100\n",
      "4/4 [==============================] - 6s 2s/step - loss: 1.9558 - sparse_categorical_accuracy: 0.2425 - val_loss: 2.1409 - val_sparse_categorical_accuracy: 0.1925 - lr: 0.0010\n",
      "Epoch 6/100\n",
      "4/4 [==============================] - 6s 2s/step - loss: 1.9022 - sparse_categorical_accuracy: 0.2481 - val_loss: 1.7987 - val_sparse_categorical_accuracy: 0.2625 - lr: 0.0010\n",
      "Epoch 7/100\n",
      "4/4 [==============================] - 6s 1s/step - loss: 1.7676 - sparse_categorical_accuracy: 0.3063 - val_loss: 1.8518 - val_sparse_categorical_accuracy: 0.2350 - lr: 0.0010\n",
      "Epoch 8/100\n",
      "4/4 [==============================] - 6s 1s/step - loss: 1.8114 - sparse_categorical_accuracy: 0.3194 - val_loss: 1.7321 - val_sparse_categorical_accuracy: 0.2750 - lr: 0.0010\n",
      "Epoch 9/100\n",
      "4/4 [==============================] - 6s 2s/step - loss: 1.7339 - sparse_categorical_accuracy: 0.2631 - val_loss: 1.6911 - val_sparse_categorical_accuracy: 0.2850 - lr: 0.0010\n",
      "Epoch 10/100\n",
      "4/4 [==============================] - 6s 1s/step - loss: 1.6626 - sparse_categorical_accuracy: 0.3169 - val_loss: 1.6330 - val_sparse_categorical_accuracy: 0.3400 - lr: 0.0010\n",
      "Epoch 11/100\n",
      "4/4 [==============================] - 6s 1s/step - loss: 1.6097 - sparse_categorical_accuracy: 0.3425 - val_loss: 1.5987 - val_sparse_categorical_accuracy: 0.3675 - lr: 0.0010\n",
      "Epoch 12/100\n",
      "4/4 [==============================] - 6s 1s/step - loss: 1.5700 - sparse_categorical_accuracy: 0.3819 - val_loss: 1.5551 - val_sparse_categorical_accuracy: 0.3800 - lr: 0.0010\n",
      "Epoch 13/100\n",
      "4/4 [==============================] - 6s 2s/step - loss: 1.5014 - sparse_categorical_accuracy: 0.4225 - val_loss: 1.4913 - val_sparse_categorical_accuracy: 0.4375 - lr: 0.0010\n",
      "Epoch 14/100\n",
      "4/4 [==============================] - 6s 2s/step - loss: 1.4310 - sparse_categorical_accuracy: 0.4700 - val_loss: 1.4085 - val_sparse_categorical_accuracy: 0.5350 - lr: 0.0010\n",
      "Epoch 15/100\n",
      "4/4 [==============================] - 6s 1s/step - loss: 1.3331 - sparse_categorical_accuracy: 0.5500 - val_loss: 1.3863 - val_sparse_categorical_accuracy: 0.4950 - lr: 0.0010\n",
      "Epoch 16/100\n",
      "4/4 [==============================] - 6s 2s/step - loss: 1.2897 - sparse_categorical_accuracy: 0.5150 - val_loss: 1.3691 - val_sparse_categorical_accuracy: 0.5075 - lr: 0.0010\n",
      "Epoch 17/100\n",
      "4/4 [==============================] - 6s 1s/step - loss: 1.2712 - sparse_categorical_accuracy: 0.5125 - val_loss: 1.3566 - val_sparse_categorical_accuracy: 0.5125 - lr: 0.0010\n",
      "Epoch 18/100\n",
      "4/4 [==============================] - 6s 1s/step - loss: 1.2970 - sparse_categorical_accuracy: 0.4888 - val_loss: 1.4020 - val_sparse_categorical_accuracy: 0.4625 - lr: 0.0010\n",
      "Epoch 19/100\n",
      "4/4 [==============================] - 6s 1s/step - loss: 1.2757 - sparse_categorical_accuracy: 0.5025 - val_loss: 1.3173 - val_sparse_categorical_accuracy: 0.5175 - lr: 0.0010\n",
      "Epoch 20/100\n",
      "4/4 [==============================] - 6s 1s/step - loss: 1.2393 - sparse_categorical_accuracy: 0.5394 - val_loss: 1.3750 - val_sparse_categorical_accuracy: 0.4575 - lr: 0.0010\n",
      "Epoch 21/100\n",
      "4/4 [==============================] - 6s 2s/step - loss: 1.2099 - sparse_categorical_accuracy: 0.5713 - val_loss: 1.1869 - val_sparse_categorical_accuracy: 0.5950 - lr: 0.0010\n",
      "Epoch 22/100\n",
      "4/4 [==============================] - 6s 1s/step - loss: 1.1386 - sparse_categorical_accuracy: 0.5700 - val_loss: 1.2154 - val_sparse_categorical_accuracy: 0.5950 - lr: 0.0010\n",
      "Epoch 23/100\n",
      "4/4 [==============================] - 6s 1s/step - loss: 1.0958 - sparse_categorical_accuracy: 0.6319 - val_loss: 1.1465 - val_sparse_categorical_accuracy: 0.5950 - lr: 0.0010\n",
      "Epoch 24/100\n",
      "4/4 [==============================] - 6s 1s/step - loss: 1.0501 - sparse_categorical_accuracy: 0.6237 - val_loss: 1.1103 - val_sparse_categorical_accuracy: 0.6500 - lr: 0.0010\n",
      "Epoch 25/100\n",
      "4/4 [==============================] - 6s 2s/step - loss: 1.0045 - sparse_categorical_accuracy: 0.6944 - val_loss: 1.0858 - val_sparse_categorical_accuracy: 0.6850 - lr: 0.0010\n",
      "Epoch 26/100\n",
      "4/4 [==============================] - 6s 2s/step - loss: 0.9699 - sparse_categorical_accuracy: 0.7031 - val_loss: 1.0165 - val_sparse_categorical_accuracy: 0.6675 - lr: 0.0010\n",
      "Epoch 27/100\n",
      "4/4 [==============================] - 6s 1s/step - loss: 0.9300 - sparse_categorical_accuracy: 0.6562 - val_loss: 0.9906 - val_sparse_categorical_accuracy: 0.6375 - lr: 0.0010\n",
      "Epoch 28/100\n",
      "4/4 [==============================] - 6s 2s/step - loss: 0.8916 - sparse_categorical_accuracy: 0.6981 - val_loss: 0.9568 - val_sparse_categorical_accuracy: 0.6900 - lr: 0.0010\n",
      "Epoch 29/100\n",
      "4/4 [==============================] - 6s 1s/step - loss: 0.8621 - sparse_categorical_accuracy: 0.7275 - val_loss: 0.9115 - val_sparse_categorical_accuracy: 0.7250 - lr: 0.0010\n",
      "Epoch 30/100\n",
      "4/4 [==============================] - 6s 1s/step - loss: 0.8259 - sparse_categorical_accuracy: 0.7381 - val_loss: 0.8488 - val_sparse_categorical_accuracy: 0.7200 - lr: 0.0010\n",
      "Epoch 31/100\n",
      "4/4 [==============================] - 6s 1s/step - loss: 0.8030 - sparse_categorical_accuracy: 0.7406 - val_loss: 0.8711 - val_sparse_categorical_accuracy: 0.7250 - lr: 0.0010\n",
      "Epoch 32/100\n",
      "4/4 [==============================] - 6s 1s/step - loss: 0.7882 - sparse_categorical_accuracy: 0.7362 - val_loss: 0.8574 - val_sparse_categorical_accuracy: 0.6650 - lr: 0.0010\n",
      "Epoch 33/100\n",
      "4/4 [==============================] - 6s 1s/step - loss: 0.7985 - sparse_categorical_accuracy: 0.6969 - val_loss: 0.7967 - val_sparse_categorical_accuracy: 0.7500 - lr: 0.0010\n",
      "Epoch 34/100\n",
      "4/4 [==============================] - 6s 1s/step - loss: 1.0384 - sparse_categorical_accuracy: 0.6612 - val_loss: 0.9930 - val_sparse_categorical_accuracy: 0.5575 - lr: 0.0010\n",
      "Epoch 35/100\n",
      "4/4 [==============================] - 6s 1s/step - loss: 1.1022 - sparse_categorical_accuracy: 0.5394 - val_loss: 1.1602 - val_sparse_categorical_accuracy: 0.5975 - lr: 0.0010\n",
      "Epoch 36/100\n",
      "4/4 [==============================] - 6s 1s/step - loss: 1.0255 - sparse_categorical_accuracy: 0.6137 - val_loss: 0.9180 - val_sparse_categorical_accuracy: 0.6600 - lr: 0.0010\n",
      "Epoch 37/100\n",
      "4/4 [==============================] - 5s 1s/step - loss: 0.9128 - sparse_categorical_accuracy: 0.6469 - val_loss: 1.0433 - val_sparse_categorical_accuracy: 0.6350 - lr: 0.0010\n",
      "Epoch 38/100\n",
      "4/4 [==============================] - 5s 1s/step - loss: 0.8802 - sparse_categorical_accuracy: 0.7337 - val_loss: 0.9268 - val_sparse_categorical_accuracy: 0.7050 - lr: 0.0010\n",
      "Epoch 39/100\n",
      "4/4 [==============================] - 6s 1s/step - loss: 0.8565 - sparse_categorical_accuracy: 0.7419 - val_loss: 0.9024 - val_sparse_categorical_accuracy: 0.6675 - lr: 0.0010\n",
      "Epoch 40/100\n",
      "4/4 [==============================] - 6s 2s/step - loss: 0.8304 - sparse_categorical_accuracy: 0.7106 - val_loss: 0.8551 - val_sparse_categorical_accuracy: 0.6775 - lr: 0.0010\n",
      "Epoch 41/100\n",
      "4/4 [==============================] - 6s 2s/step - loss: 0.7951 - sparse_categorical_accuracy: 0.7188 - val_loss: 0.8242 - val_sparse_categorical_accuracy: 0.6750 - lr: 0.0010\n",
      "Epoch 42/100\n",
      "4/4 [==============================] - 6s 1s/step - loss: 0.7683 - sparse_categorical_accuracy: 0.7106 - val_loss: 0.8272 - val_sparse_categorical_accuracy: 0.6800 - lr: 0.0010\n",
      "Epoch 43/100\n",
      "4/4 [==============================] - 6s 1s/step - loss: 0.7488 - sparse_categorical_accuracy: 0.7281 - val_loss: 0.7867 - val_sparse_categorical_accuracy: 0.7250 - lr: 0.0010\n",
      "Epoch 44/100\n",
      "4/4 [==============================] - 6s 1s/step - loss: 0.7306 - sparse_categorical_accuracy: 0.7600 - val_loss: 0.7919 - val_sparse_categorical_accuracy: 0.7425 - lr: 0.0010\n",
      "Epoch 45/100\n",
      "4/4 [==============================] - 6s 2s/step - loss: 0.7177 - sparse_categorical_accuracy: 0.7731 - val_loss: 0.7642 - val_sparse_categorical_accuracy: 0.7625 - lr: 0.0010\n",
      "Epoch 46/100\n",
      "4/4 [==============================] - 6s 2s/step - loss: 0.7124 - sparse_categorical_accuracy: 0.7738 - val_loss: 0.7468 - val_sparse_categorical_accuracy: 0.7675 - lr: 0.0010\n",
      "Epoch 47/100\n",
      "4/4 [==============================] - 6s 2s/step - loss: 0.6878 - sparse_categorical_accuracy: 0.7713 - val_loss: 0.7629 - val_sparse_categorical_accuracy: 0.7675 - lr: 0.0010\n",
      "Epoch 48/100\n",
      "4/4 [==============================] - 6s 2s/step - loss: 0.6759 - sparse_categorical_accuracy: 0.7962 - val_loss: 0.7313 - val_sparse_categorical_accuracy: 0.7850 - lr: 0.0010\n",
      "Epoch 49/100\n",
      "4/4 [==============================] - 6s 1s/step - loss: 0.6647 - sparse_categorical_accuracy: 0.7975 - val_loss: 0.7126 - val_sparse_categorical_accuracy: 0.7775 - lr: 0.0010\n",
      "Epoch 50/100\n",
      "4/4 [==============================] - 6s 2s/step - loss: 0.6540 - sparse_categorical_accuracy: 0.7856 - val_loss: 0.7084 - val_sparse_categorical_accuracy: 0.7875 - lr: 0.0010\n",
      "Epoch 51/100\n",
      "4/4 [==============================] - 6s 2s/step - loss: 0.6455 - sparse_categorical_accuracy: 0.7975 - val_loss: 0.7087 - val_sparse_categorical_accuracy: 0.7750 - lr: 0.0010\n",
      "Epoch 52/100\n",
      "4/4 [==============================] - 6s 2s/step - loss: 0.6333 - sparse_categorical_accuracy: 0.7944 - val_loss: 0.6818 - val_sparse_categorical_accuracy: 0.7700 - lr: 0.0010\n",
      "Epoch 53/100\n",
      "4/4 [==============================] - 6s 1s/step - loss: 0.6242 - sparse_categorical_accuracy: 0.7750 - val_loss: 0.6677 - val_sparse_categorical_accuracy: 0.7975 - lr: 0.0010\n",
      "Epoch 54/100\n",
      "4/4 [==============================] - 6s 1s/step - loss: 0.6205 - sparse_categorical_accuracy: 0.8006 - val_loss: 0.6640 - val_sparse_categorical_accuracy: 0.8025 - lr: 0.0010\n",
      "Epoch 55/100\n",
      "4/4 [==============================] - 6s 2s/step - loss: 0.6099 - sparse_categorical_accuracy: 0.8037 - val_loss: 0.6632 - val_sparse_categorical_accuracy: 0.7750 - lr: 0.0010\n",
      "Epoch 56/100\n",
      "4/4 [==============================] - 6s 1s/step - loss: 0.5972 - sparse_categorical_accuracy: 0.8019 - val_loss: 0.6333 - val_sparse_categorical_accuracy: 0.8000 - lr: 0.0010\n",
      "Epoch 57/100\n",
      "4/4 [==============================] - 6s 2s/step - loss: 0.5972 - sparse_categorical_accuracy: 0.7962 - val_loss: 0.6295 - val_sparse_categorical_accuracy: 0.7925 - lr: 0.0010\n",
      "Epoch 58/100\n",
      "4/4 [==============================] - 6s 1s/step - loss: 0.5942 - sparse_categorical_accuracy: 0.7837 - val_loss: 0.6456 - val_sparse_categorical_accuracy: 0.7225 - lr: 0.0010\n",
      "Epoch 59/100\n",
      "4/4 [==============================] - 6s 1s/step - loss: 0.5769 - sparse_categorical_accuracy: 0.7700 - val_loss: 0.6293 - val_sparse_categorical_accuracy: 0.7825 - lr: 0.0010\n",
      "Epoch 60/100\n",
      "4/4 [==============================] - 6s 2s/step - loss: 0.5664 - sparse_categorical_accuracy: 0.8131 - val_loss: 0.6700 - val_sparse_categorical_accuracy: 0.7450 - lr: 0.0010\n",
      "Epoch 61/100\n",
      "4/4 [==============================] - 6s 2s/step - loss: 0.5745 - sparse_categorical_accuracy: 0.7750 - val_loss: 0.6294 - val_sparse_categorical_accuracy: 0.7225 - lr: 0.0010\n",
      "Epoch 62/100\n",
      "4/4 [==============================] - 6s 1s/step - loss: 0.5603 - sparse_categorical_accuracy: 0.7444 - val_loss: 0.6001 - val_sparse_categorical_accuracy: 0.7900 - lr: 0.0010\n",
      "Epoch 63/100\n",
      "4/4 [==============================] - 5s 1s/step - loss: 0.5443 - sparse_categorical_accuracy: 0.8256 - val_loss: 0.6068 - val_sparse_categorical_accuracy: 0.7925 - lr: 0.0010\n",
      "Epoch 64/100\n",
      "4/4 [==============================] - 6s 1s/step - loss: 0.5162 - sparse_categorical_accuracy: 0.8363 - val_loss: 0.5334 - val_sparse_categorical_accuracy: 0.8300 - lr: 0.0010\n",
      "Epoch 65/100\n",
      "4/4 [==============================] - 6s 1s/step - loss: 0.4802 - sparse_categorical_accuracy: 0.8431 - val_loss: 0.5345 - val_sparse_categorical_accuracy: 0.8550 - lr: 0.0010\n",
      "Epoch 66/100\n",
      "4/4 [==============================] - 6s 1s/step - loss: 0.5232 - sparse_categorical_accuracy: 0.8250 - val_loss: 0.5929 - val_sparse_categorical_accuracy: 0.7625 - lr: 0.0010\n",
      "Epoch 67/100\n",
      "4/4 [==============================] - 6s 1s/step - loss: 0.5439 - sparse_categorical_accuracy: 0.7875 - val_loss: 0.7532 - val_sparse_categorical_accuracy: 0.8300 - lr: 0.0010\n",
      "Epoch 68/100\n",
      "4/4 [==============================] - 6s 2s/step - loss: 0.6558 - sparse_categorical_accuracy: 0.7656 - val_loss: 0.6898 - val_sparse_categorical_accuracy: 0.7225 - lr: 0.0010\n",
      "Epoch 69/100\n",
      "4/4 [==============================] - 6s 1s/step - loss: 0.6218 - sparse_categorical_accuracy: 0.7331 - val_loss: 0.7145 - val_sparse_categorical_accuracy: 0.7225 - lr: 0.0010\n",
      "Epoch 70/100\n",
      "4/4 [==============================] - 6s 2s/step - loss: 0.5520 - sparse_categorical_accuracy: 0.7944 - val_loss: 0.5831 - val_sparse_categorical_accuracy: 0.8150 - lr: 0.0010\n",
      "Epoch 71/100\n",
      "4/4 [==============================] - 6s 1s/step - loss: 0.5071 - sparse_categorical_accuracy: 0.8506 - val_loss: 0.5232 - val_sparse_categorical_accuracy: 0.8400 - lr: 0.0010\n",
      "Epoch 72/100\n",
      "4/4 [==============================] - 6s 1s/step - loss: 0.4757 - sparse_categorical_accuracy: 0.8375 - val_loss: 0.5313 - val_sparse_categorical_accuracy: 0.8250 - lr: 0.0010\n",
      "Epoch 73/100\n",
      "4/4 [==============================] - 6s 2s/step - loss: 0.4590 - sparse_categorical_accuracy: 0.8338 - val_loss: 0.4809 - val_sparse_categorical_accuracy: 0.8675 - lr: 0.0010\n",
      "Epoch 74/100\n",
      "4/4 [==============================] - 6s 1s/step - loss: 0.4273 - sparse_categorical_accuracy: 0.8763 - val_loss: 0.4456 - val_sparse_categorical_accuracy: 0.8675 - lr: 0.0010\n",
      "Epoch 75/100\n",
      "4/4 [==============================] - 6s 1s/step - loss: 0.3955 - sparse_categorical_accuracy: 0.8594 - val_loss: 0.4043 - val_sparse_categorical_accuracy: 0.8850 - lr: 0.0010\n",
      "Epoch 76/100\n",
      "4/4 [==============================] - 6s 2s/step - loss: 0.3431 - sparse_categorical_accuracy: 0.9106 - val_loss: 0.3228 - val_sparse_categorical_accuracy: 0.8850 - lr: 0.0010\n",
      "Epoch 77/100\n",
      "4/4 [==============================] - 6s 1s/step - loss: 0.3186 - sparse_categorical_accuracy: 0.8944 - val_loss: 0.2936 - val_sparse_categorical_accuracy: 0.9200 - lr: 0.0010\n",
      "Epoch 78/100\n",
      "4/4 [==============================] - 6s 1s/step - loss: 0.2801 - sparse_categorical_accuracy: 0.9369 - val_loss: 0.2736 - val_sparse_categorical_accuracy: 0.9250 - lr: 0.0010\n",
      "Epoch 79/100\n",
      "4/4 [==============================] - 6s 1s/step - loss: 0.2579 - sparse_categorical_accuracy: 0.9350 - val_loss: 0.2729 - val_sparse_categorical_accuracy: 0.9250 - lr: 0.0010\n",
      "Epoch 80/100\n",
      "4/4 [==============================] - 6s 1s/step - loss: 0.2415 - sparse_categorical_accuracy: 0.9369 - val_loss: 0.2524 - val_sparse_categorical_accuracy: 0.9325 - lr: 0.0010\n",
      "Epoch 81/100\n",
      "4/4 [==============================] - 6s 2s/step - loss: 0.2265 - sparse_categorical_accuracy: 0.9388 - val_loss: 0.2436 - val_sparse_categorical_accuracy: 0.9250 - lr: 0.0010\n",
      "Epoch 82/100\n",
      "4/4 [==============================] - 6s 1s/step - loss: 0.2322 - sparse_categorical_accuracy: 0.9294 - val_loss: 0.2245 - val_sparse_categorical_accuracy: 0.9275 - lr: 0.0010\n",
      "Epoch 83/100\n",
      "4/4 [==============================] - 6s 1s/step - loss: 0.2131 - sparse_categorical_accuracy: 0.9356 - val_loss: 0.2177 - val_sparse_categorical_accuracy: 0.9300 - lr: 0.0010\n",
      "Epoch 84/100\n",
      "4/4 [==============================] - 5s 1s/step - loss: 0.2038 - sparse_categorical_accuracy: 0.9350 - val_loss: 0.2180 - val_sparse_categorical_accuracy: 0.9250 - lr: 0.0010\n",
      "Epoch 85/100\n",
      "4/4 [==============================] - 6s 2s/step - loss: 0.1871 - sparse_categorical_accuracy: 0.9444 - val_loss: 0.2907 - val_sparse_categorical_accuracy: 0.8725 - lr: 0.0010\n",
      "Epoch 86/100\n",
      "4/4 [==============================] - 6s 1s/step - loss: 0.2257 - sparse_categorical_accuracy: 0.9112 - val_loss: 0.2005 - val_sparse_categorical_accuracy: 0.9400 - lr: 0.0010\n",
      "Epoch 87/100\n",
      "4/4 [==============================] - 6s 1s/step - loss: 0.1817 - sparse_categorical_accuracy: 0.9550 - val_loss: 0.2633 - val_sparse_categorical_accuracy: 0.9050 - lr: 0.0010\n",
      "Epoch 88/100\n",
      "4/4 [==============================] - 6s 2s/step - loss: 0.2273 - sparse_categorical_accuracy: 0.9187 - val_loss: 0.1969 - val_sparse_categorical_accuracy: 0.9300 - lr: 0.0010\n",
      "Epoch 89/100\n",
      "4/4 [==============================] - 6s 1s/step - loss: 0.2134 - sparse_categorical_accuracy: 0.9212 - val_loss: 0.3014 - val_sparse_categorical_accuracy: 0.8800 - lr: 0.0010\n",
      "Epoch 90/100\n",
      "4/4 [==============================] - 5s 1s/step - loss: 0.2179 - sparse_categorical_accuracy: 0.9250 - val_loss: 0.2632 - val_sparse_categorical_accuracy: 0.8950 - lr: 0.0010\n",
      "Epoch 91/100\n",
      "4/4 [==============================] - 6s 2s/step - loss: 0.2179 - sparse_categorical_accuracy: 0.9231 - val_loss: 0.2060 - val_sparse_categorical_accuracy: 0.9350 - lr: 0.0010\n",
      "Epoch 92/100\n",
      "4/4 [==============================] - 6s 1s/step - loss: 0.2248 - sparse_categorical_accuracy: 0.9294 - val_loss: 0.2903 - val_sparse_categorical_accuracy: 0.9000 - lr: 0.0010\n",
      "Epoch 93/100\n",
      "4/4 [==============================] - 6s 2s/step - loss: 0.2027 - sparse_categorical_accuracy: 0.9237 - val_loss: 0.2247 - val_sparse_categorical_accuracy: 0.9175 - lr: 0.0010\n",
      "Epoch 94/100\n",
      "4/4 [==============================] - 6s 2s/step - loss: 0.1830 - sparse_categorical_accuracy: 0.9356 - val_loss: 0.2426 - val_sparse_categorical_accuracy: 0.9075 - lr: 0.0010\n",
      "Epoch 95/100\n",
      "4/4 [==============================] - 6s 2s/step - loss: 0.1635 - sparse_categorical_accuracy: 0.9388 - val_loss: 0.2073 - val_sparse_categorical_accuracy: 0.9250 - lr: 0.0010\n",
      "Epoch 96/100\n",
      "4/4 [==============================] - 6s 1s/step - loss: 0.1558 - sparse_categorical_accuracy: 0.9519 - val_loss: 0.2500 - val_sparse_categorical_accuracy: 0.9275 - lr: 0.0010\n",
      "Epoch 97/100\n",
      "4/4 [==============================] - 5s 1s/step - loss: 0.1517 - sparse_categorical_accuracy: 0.9519 - val_loss: 0.1776 - val_sparse_categorical_accuracy: 0.9300 - lr: 0.0010\n",
      "Epoch 98/100\n",
      "4/4 [==============================] - 6s 2s/step - loss: 0.1396 - sparse_categorical_accuracy: 0.9600 - val_loss: 0.1749 - val_sparse_categorical_accuracy: 0.9400 - lr: 0.0010\n",
      "Epoch 99/100\n",
      "4/4 [==============================] - 6s 1s/step - loss: 0.1508 - sparse_categorical_accuracy: 0.9556 - val_loss: 0.1621 - val_sparse_categorical_accuracy: 0.9400 - lr: 0.0010\n",
      "Epoch 100/100\n",
      "4/4 [==============================] - 6s 1s/step - loss: 0.1345 - sparse_categorical_accuracy: 0.9594 - val_loss: 0.1882 - val_sparse_categorical_accuracy: 0.9300 - lr: 0.0010\n"
     ]
    }
   ],
   "source": [
    "callbacks = [\n",
    "    keras.callbacks.ModelCheckpoint(\n",
    "        \"best_model4.h5\", save_best_only=True, monitor=\"val_loss\"\n",
    "    ),\n",
    "    keras.callbacks.ReduceLROnPlateau(\n",
    "        monitor=\"val_loss\", factor=0.5, patience=20, min_lr=0.0001\n",
    "    ),\n",
    "    keras.callbacks.EarlyStopping(monitor=\"val_loss\", patience=50, verbose=1),\n",
    "]\n",
    "history = model.fit(x_train, \n",
    "                            y_train_transform,\n",
    "                          epochs=100,\n",
    "                          batch_size=512,\n",
    "                        #   shuffle=True,\n",
    "                          validation_split=0.2,\n",
    "                          verbose=1, \n",
    "                          callbacks=callbacks).history"
   ]
  },
  {
   "cell_type": "code",
   "execution_count": 44,
   "metadata": {},
   "outputs": [
    {
     "data": {
      "text/plain": [
       "<matplotlib.legend.Legend at 0x1ab196a2880>"
      ]
     },
     "execution_count": 44,
     "metadata": {},
     "output_type": "execute_result"
    },
    {
     "data": {
      "image/png": "[encoded data removed]",
      "text/plain": [
       "<Figure size 1008x576 with 1 Axes>"
      ]
     },
     "metadata": {
      "needs_background": "light"
     },
     "output_type": "display_data"
    }
   ],
   "source": [
    "import seaborn as sns\n",
    "# # plt.figure(figsize=(14, 5))\n",
    "# plt.subplot(121)\n",
    "plt.figure(figsize=(14,8))\n",
    "# # sns.set(font_scale = 0.5)\n",
    "plt.plot(history['loss'][:], c='red')\n",
    "plt.plot(history['val_loss'][:], c='blue')\n",
    "plt.title('model loss')\n",
    "plt.ylabel('loss'); plt.xlabel('epoch')\n",
    "plt.legend(['train', 'val'], loc='upper right')"
   ]
  },
  {
   "cell_type": "code",
   "execution_count": 45,
   "metadata": {},
   "outputs": [
    {
     "data": {
      "text/plain": [
       "<matplotlib.legend.Legend at 0x1aeb41cf670>"
      ]
     },
     "execution_count": 45,
     "metadata": {},
     "output_type": "execute_result"
    },
    {
     "data": {
      "image/png": "[encoded data removed]",
      "text/plain": [
       "<Figure size 1008x576 with 1 Axes>"
      ]
     },
     "metadata": {
      "needs_background": "light"
     },
     "output_type": "display_data"
    }
   ],
   "source": [
    "import seaborn as sns\n",
    "# # plt.figure(figsize=(14, 5))\n",
    "# plt.subplot(121)\n",
    "plt.figure(figsize=(14,8))\n",
    "# # sns.set(font_scale = 0.5)\n",
    "plt.plot(history['sparse_categorical_accuracy'][:], c='red')\n",
    "plt.plot(history['val_sparse_categorical_accuracy'][:], c='blue')\n",
    "plt.title('model accuracy')\n",
    "plt.ylabel('loss'); plt.xlabel('epoch')\n",
    "plt.legend(['train', 'val'], loc='upper right')"
   ]
  },
  {
   "cell_type": "code",
   "execution_count": 46,
   "metadata": {},
   "outputs": [
    {
     "data": {
      "text/html": [
       "<div>\n",
       "<style scoped>\n",
       "    .dataframe tbody tr th:only-of-type {\n",
       "        vertical-align: middle;\n",
       "    }\n",
       "\n",
       "    .dataframe tbody tr th {\n",
       "        vertical-align: top;\n",
       "    }\n",
       "\n",
       "    .dataframe thead th {\n",
       "        text-align: right;\n",
       "    }\n",
       "</style>\n",
       "<table border=\"1\" class=\"dataframe\">\n",
       "  <thead>\n",
       "    <tr style=\"text-align: right;\">\n",
       "      <th></th>\n",
       "      <th>loss</th>\n",
       "      <th>sparse_categorical_accuracy</th>\n",
       "      <th>val_loss</th>\n",
       "      <th>val_sparse_categorical_accuracy</th>\n",
       "      <th>lr</th>\n",
       "    </tr>\n",
       "  </thead>\n",
       "  <tbody>\n",
       "    <tr>\n",
       "      <th>0</th>\n",
       "      <td>2.301262</td>\n",
       "      <td>0.125000</td>\n",
       "      <td>2.296459</td>\n",
       "      <td>0.1275</td>\n",
       "      <td>0.001</td>\n",
       "    </tr>\n",
       "    <tr>\n",
       "      <th>1</th>\n",
       "      <td>2.291168</td>\n",
       "      <td>0.118125</td>\n",
       "      <td>2.275302</td>\n",
       "      <td>0.0850</td>\n",
       "      <td>0.001</td>\n",
       "    </tr>\n",
       "    <tr>\n",
       "      <th>2</th>\n",
       "      <td>2.268891</td>\n",
       "      <td>0.110625</td>\n",
       "      <td>2.224437</td>\n",
       "      <td>0.2025</td>\n",
       "      <td>0.001</td>\n",
       "    </tr>\n",
       "    <tr>\n",
       "      <th>3</th>\n",
       "      <td>2.191675</td>\n",
       "      <td>0.192500</td>\n",
       "      <td>2.060124</td>\n",
       "      <td>0.2000</td>\n",
       "      <td>0.001</td>\n",
       "    </tr>\n",
       "    <tr>\n",
       "      <th>4</th>\n",
       "      <td>1.955768</td>\n",
       "      <td>0.242500</td>\n",
       "      <td>2.140907</td>\n",
       "      <td>0.1925</td>\n",
       "      <td>0.001</td>\n",
       "    </tr>\n",
       "    <tr>\n",
       "      <th>...</th>\n",
       "      <td>...</td>\n",
       "      <td>...</td>\n",
       "      <td>...</td>\n",
       "      <td>...</td>\n",
       "      <td>...</td>\n",
       "    </tr>\n",
       "    <tr>\n",
       "      <th>95</th>\n",
       "      <td>0.155821</td>\n",
       "      <td>0.951875</td>\n",
       "      <td>0.250045</td>\n",
       "      <td>0.9275</td>\n",
       "      <td>0.001</td>\n",
       "    </tr>\n",
       "    <tr>\n",
       "      <th>96</th>\n",
       "      <td>0.151709</td>\n",
       "      <td>0.951875</td>\n",
       "      <td>0.177605</td>\n",
       "      <td>0.9300</td>\n",
       "      <td>0.001</td>\n",
       "    </tr>\n",
       "    <tr>\n",
       "      <th>97</th>\n",
       "      <td>0.139599</td>\n",
       "      <td>0.960000</td>\n",
       "      <td>0.174893</td>\n",
       "      <td>0.9400</td>\n",
       "      <td>0.001</td>\n",
       "    </tr>\n",
       "    <tr>\n",
       "      <th>98</th>\n",
       "      <td>0.150825</td>\n",
       "      <td>0.955625</td>\n",
       "      <td>0.162104</td>\n",
       "      <td>0.9400</td>\n",
       "      <td>0.001</td>\n",
       "    </tr>\n",
       "    <tr>\n",
       "      <th>99</th>\n",
       "      <td>0.134490</td>\n",
       "      <td>0.959375</td>\n",
       "      <td>0.188191</td>\n",
       "      <td>0.9300</td>\n",
       "      <td>0.001</td>\n",
       "    </tr>\n",
       "  </tbody>\n",
       "</table>\n",
       "<p>100 rows × 5 columns</p>\n",
       "</div>"
      ],
      "text/plain": [
       "        loss  sparse_categorical_accuracy  val_loss  \\\n",
       "0   2.301262                     0.125000  2.296459   \n",
       "1   2.291168                     0.118125  2.275302   \n",
       "2   2.268891                     0.110625  2.224437   \n",
       "3   2.191675                     0.192500  2.060124   \n",
       "4   1.955768                     0.242500  2.140907   \n",
       "..       ...                          ...       ...   \n",
       "95  0.155821                     0.951875  0.250045   \n",
       "96  0.151709                     0.951875  0.177605   \n",
       "97  0.139599                     0.960000  0.174893   \n",
       "98  0.150825                     0.955625  0.162104   \n",
       "99  0.134490                     0.959375  0.188191   \n",
       "\n",
       "    val_sparse_categorical_accuracy     lr  \n",
       "0                            0.1275  0.001  \n",
       "1                            0.0850  0.001  \n",
       "2                            0.2025  0.001  \n",
       "3                            0.2000  0.001  \n",
       "4                            0.1925  0.001  \n",
       "..                              ...    ...  \n",
       "95                           0.9275  0.001  \n",
       "96                           0.9300  0.001  \n",
       "97                           0.9400  0.001  \n",
       "98                           0.9400  0.001  \n",
       "99                           0.9300  0.001  \n",
       "\n",
       "[100 rows x 5 columns]"
      ]
     },
     "execution_count": 46,
     "metadata": {},
     "output_type": "execute_result"
    }
   ],
   "source": [
    "df=pd.DataFrame(history)\n",
    "df"
   ]
  },
  {
   "cell_type": "code",
   "execution_count": 47,
   "metadata": {},
   "outputs": [],
   "source": [
    "df.to_csv('model4.csv',index=None)"
   ]
  },
  {
   "cell_type": "code",
   "execution_count": 48,
   "metadata": {},
   "outputs": [],
   "source": [
    "pred_test =model.predict(x_test)"
   ]
  },
  {
   "cell_type": "code",
   "execution_count": 49,
   "metadata": {},
   "outputs": [
    {
     "data": {
      "text/plain": [
       "(1000, 10)"
      ]
     },
     "execution_count": 49,
     "metadata": {},
     "output_type": "execute_result"
    }
   ],
   "source": [
    "pred_test.shape"
   ]
  },
  {
   "cell_type": "code",
   "execution_count": 50,
   "metadata": {},
   "outputs": [],
   "source": [
    "pre=np.argmax(pred_test,axis=1)"
   ]
  },
  {
   "cell_type": "code",
   "execution_count": 51,
   "metadata": {},
   "outputs": [],
   "source": [
    "test_y=np.argmax(one_hot_test_labels,axis=1)"
   ]
  },
  {
   "cell_type": "code",
   "execution_count": 52,
   "metadata": {},
   "outputs": [],
   "source": [
    "correct_prediction = tf.equal(pre, test_y)\n",
    "acc = tf.reduce_mean(tf.cast(correct_prediction, \"float\"))\n",
    "acc=float(acc)\n",
    "# f1=metrics.f1_"
   ]
  },
  {
   "cell_type": "code",
   "execution_count": 53,
   "metadata": {},
   "outputs": [
    {
     "data": {
      "text/plain": [
       "0.9110000133514404"
      ]
     },
     "execution_count": 53,
     "metadata": {},
     "output_type": "execute_result"
    }
   ],
   "source": [
    "acc"
   ]
  },
  {
   "cell_type": "code",
   "execution_count": null,
   "metadata": {},
   "outputs": [],
   "source": []
  },
  {
   "cell_type": "code",
   "execution_count": null,
   "metadata": {},
   "outputs": [],
   "source": []
  }
 ],
 "metadata": {
  "interpreter": {
   "hash": "09b1f5d785a08b848ded3e9e533b16cd5f7f5e434f6cf7edb3bc46785bd848a2"
  },
  "kernelspec": {
   "display_name": "Python 3.8.12 ('tensorflow')",
   "language": "python",
   "name": "python3"
  },
  "language_info": {
   "codemirror_mode": {
    "name": "ipython",
    "version": 3
   },
   "file_extension": ".py",
   "mimetype": "text/x-python",
   "name": "python",
   "nbconvert_exporter": "python",
   "pygments_lexer": "ipython3",
   "version": "3.8.12"
  },
  "orig_nbformat": 4
 },
 "nbformat": 4,
 "nbformat_minor": 2
}
